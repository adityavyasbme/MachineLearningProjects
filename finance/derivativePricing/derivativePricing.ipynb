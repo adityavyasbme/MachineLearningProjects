{
 "cells": [
  {
   "cell_type": "markdown",
   "metadata": {},
   "source": [
    "# Importing The Libraries"
   ]
  },
  {
   "cell_type": "code",
   "execution_count": 4,
   "metadata": {},
   "outputs": [],
   "source": [
    "import numpy as np \n",
    "from scipy.stats import norm"
   ]
  },
  {
   "cell_type": "markdown",
   "metadata": {},
   "source": []
  },
  {
   "cell_type": "markdown",
   "metadata": {},
   "source": [
    "# Parameters"
   ]
  },
  {
   "cell_type": "code",
   "execution_count": 1,
   "metadata": {},
   "outputs": [],
   "source": [
    "true_alpha = 0.1\n",
    "true_beta = 0.1 \n",
    "true_sigma_0 = 0.2 \n",
    "risk_free_rate = 0.05"
   ]
  },
  {
   "cell_type": "markdown",
   "metadata": {},
   "source": [
    "# Functions"
   ]
  },
  {
   "cell_type": "code",
   "execution_count": 5,
   "metadata": {},
   "outputs": [],
   "source": [
    "def option_vol_from_surface(moneyness, time_to_maturity):\n",
    "    return true_sigma_0 + true_alpha*time_to_maturity + true_beta*np.square(moneyness - 1)\n",
    "\n",
    "def call_option_price(moneyness, time_to_maturity, option_vol):\n",
    "    d1 = (np.log(1/moneyness) + (risk_free_rate+np.square(option_vol))*time_to_maturity)/(option_vol*np.sqrt(time_to_maturity))\n",
    "    d2 = (np.log(1/moneyness)+(risk_free_rate-np.square(option_vol))*time_to_maturity/(option_vol*np.sqrt(time_to_maturity)))\n",
    "    N_d1 = norm.cdf(d1)\n",
    "    N_d2 = norm.cdf(d2)\n",
    "    return N_d1 - moneyness*np.exp(-risk_free_rate*time_to_maturity)*N_d2"
   ]
  },
  {
   "cell_type": "code",
   "execution_count": null,
   "metadata": {},
   "outputs": [],
   "source": []
  }
 ],
 "metadata": {
  "kernelspec": {
   "display_name": ".venv",
   "language": "python",
   "name": "python3"
  },
  "language_info": {
   "codemirror_mode": {
    "name": "ipython",
    "version": 3
   },
   "file_extension": ".py",
   "mimetype": "text/x-python",
   "name": "python",
   "nbconvert_exporter": "python",
   "pygments_lexer": "ipython3",
   "version": "3.11.4"
  }
 },
 "nbformat": 4,
 "nbformat_minor": 2
}
