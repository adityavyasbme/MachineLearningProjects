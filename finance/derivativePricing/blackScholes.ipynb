{
 "cells": [
  {
   "cell_type": "markdown",
   "metadata": {},
   "source": [
    "# Introduction \n",
    "\n",
    "This code is inspired from [John's Article](https://www.codearmo.com/python-tutorial/options-trading-black-scholes-model)\n",
    "\n"
   ]
  },
  {
   "cell_type": "markdown",
   "metadata": {},
   "source": [
    "# Importing the Libraries"
   ]
  },
  {
   "cell_type": "code",
   "execution_count": null,
   "metadata": {},
   "outputs": [],
   "source": [
    "import numpy as np\n",
    "from scipy.stats import norm\n",
    "from matplotlib import pyplot\n",
    "\n",
    "phi = norm.cdf"
   ]
  },
  {
   "cell_type": "markdown",
   "metadata": {},
   "source": []
  },
  {
   "cell_type": "code",
   "execution_count": null,
   "metadata": {},
   "outputs": [],
   "source": [
    "\n",
    "def callOptionPrice(\n",
    "        stockPrice: float,\n",
    "        strikePrice: float, \n",
    "        riskFreeRate: float,\n",
    "        volatility: float,\n",
    "        timeToExpirationYr: float,\n",
    ") -> float:\n",
    "    d1 =  (np.log(stockPrice/strikePrice) + (riskFreeRate + volatility**2/2)*timeToExpirationYr)/(volatility*np.sqrt(timeToExpirationYr))\n",
    "    d2 = d1 - volatility*np.sqrt(timeToExpirationYr)\n",
    "    price = stockPrice*phi(d1) - strikePrice*np.exp(-riskFreeRate*timeToExpirationYr)*phi(d2)\n",
    "    return price\n",
    "\n",
    "def putOptionPrice(\n",
    "        stockPrice: float,\n",
    "        strikePrice: float, \n",
    "        riskFreeRate: float,\n",
    "        volatility: float,\n",
    "        timeToExpirationYr: float,\n",
    ") -> float:\n",
    "    d1 =  (np.log(stockPrice/strikePrice) + (riskFreeRate + volatility**2/2)*timeToExpirationYr)/(volatility*np.sqrt(timeToExpirationYr))\n",
    "    d2 = d1 - volatility*np.sqrt(timeToExpirationYr)\n",
    "    price = strikePrice*np.exp(-riskFreeRate*timeToExpirationYr)*phi(-d2) - stockPrice*phi(-d1)\n",
    "    return price"
   ]
  },
  {
   "cell_type": "code",
   "execution_count": null,
   "metadata": {},
   "outputs": [],
   "source": [
    "strikePrice = 100\n",
    "riskFreeRate = 0.1\n",
    "timeToExpirationYr = 1\n",
    "volatility = 0.3\n",
    "stockPrices = np.arange(60,140,0.1)\n",
    "\n",
    "calls = [callOptionPrice(stockPrice, strikePrice, riskFreeRate, volatility, timeToExpirationYr) for stockPrice in stockPrices]\n",
    "puts = [putOptionPrice(stockPrice, strikePrice, riskFreeRate, volatility, timeToExpirationYr) for stockPrice in stockPrices]\n",
    "pyplot.plot(stockPrices,calls, label='Call Value')\n",
    "pyplot.plot(stockPrices,puts, label='Put Value')\n",
    "pyplot.xlabel('$S_0$')\n",
    "pyplot.ylabel(' Value') \n",
    "pyplot.legend()"
   ]
  },
  {
   "cell_type": "markdown",
   "metadata": {},
   "source": []
  },
  {
   "cell_type": "code",
   "execution_count": null,
   "metadata": {},
   "outputs": [],
   "source": [
    "strikePrice = 100\n",
    "riskFreeRate = 0.1\n",
    "timeToExpirationYr = 1\n",
    "volatilities = np.arange(0.1, 1.5, 0.01)\n",
    "stockPrice = 100\n",
    "\n",
    "calls = [callOptionPrice(stockPrice, strikePrice, riskFreeRate, volatility, timeToExpirationYr) for volatility in volatilities]\n",
    "puts = [putOptionPrice(stockPrice, strikePrice, riskFreeRate, volatility, timeToExpirationYr) for volatility in volatilities]\n",
    "pyplot.plot(volatilities, calls, label='Call Value')\n",
    "pyplot.plot(volatilities, puts, label='Put Value')\n",
    "pyplot.xlabel('$\\sigma$')\n",
    "pyplot.ylabel(' Value') \n",
    "pyplot.legend()"
   ]
  },
  {
   "cell_type": "code",
   "execution_count": null,
   "metadata": {},
   "outputs": [],
   "source": [
    "strikePrice = 100\n",
    "riskFreeRate = 0.05\n",
    "timeToExpirationYrs = np.arange(0, 10, 0.01)\n",
    "volatilities = 0.3\n",
    "stockPrice = 100\n",
    "\n",
    "calls = [callOptionPrice(stockPrice, strikePrice, riskFreeRate, volatility, timeToExpirationYr) for timeToExpirationYr in timeToExpirationYrs]\n",
    "puts = [putOptionPrice(stockPrice, strikePrice, riskFreeRate, volatility, timeToExpirationYr) for timeToExpirationYr in timeToExpirationYrs]\n",
    "pyplot.plot(timeToExpirationYrs, calls, label='Call Value')\n",
    "pyplot.plot(timeToExpirationYrs, puts, label='Put Value')\n",
    "pyplot.xlabel('$T$ in years')\n",
    "pyplot.ylabel(' Value') \n",
    "pyplot.legend()"
   ]
  },
  {
   "cell_type": "code",
   "execution_count": 1,
   "metadata": {},
   "outputs": [
    {
     "name": "stdout",
     "output_type": "stream",
     "text": [
      "Option Price: 6.51\n",
      "Greeks: {'delta': 0.46821260591218816, 'gamma': 0.01933890045307749, 'vega': 38.677800906154985, 'theta': -4.478874363591334, 'rho': 40.314641814248006}\n",
      "Combined Result: {'price': 6.506618776970811, 'delta': 0.46821260591218816, 'gamma': 0.01933890045307749, 'vega': 38.677800906154985, 'theta': -4.478874363591334, 'rho': 40.314641814248006}\n",
      "Option Price for Foreign Currency Option: {'price': 0.07571712967603283, 'delta': -0.60597287398511, 'gamma': 2.9799497611421017, 'vega': 0.321834574203347, 'theta': -0.038731997752399744, 'rho': -0.4014422892290824}\n"
     ]
    }
   ],
   "source": [
    "from optionsPricingEngine.optionsCalculator import OptionCalculator\n",
    "\n",
    "# 1. Initialize the OptionCalculator\n",
    "calculator = OptionCalculator()\n",
    "\n",
    "# 2. Select the desired option pricing model with its parameters\n",
    "# For this example, we'll use the Black-Scholes model for a call option\n",
    "calculator.select_model(\n",
    "    modelName=\"BlackScholes\",\n",
    "    stockPrice=100,               # Current stock price\n",
    "    strikePrice=105,              # Option strike price\n",
    "    timeToExpirationYr=1,         # Time to expiration in years\n",
    "    riskFreeRate=0.05,            # Annual risk-free rate\n",
    "    volatility=0.2,               # Annual volatility\n",
    "    dividendYield=0.03,           # Continuous dividend yield\n",
    "    optionType=\"call\"             # Option type (either \"call\" or \"put\")\n",
    ")\n",
    "\n",
    "# 3. Calculate the option price\n",
    "price = calculator.calculate_price()\n",
    "print(f\"Option Price: {price:.2f}\")\n",
    "\n",
    "# 4. Calculate the option Greeks\n",
    "greeks = calculator.calculate_greeks()\n",
    "print(f\"Greeks: {greeks}\")\n",
    "\n",
    "# 5. Calculate both the option price and its Greeks in one go\n",
    "combined_result = calculator.calculate_price_and_greeks()\n",
    "print(f\"Combined Result: {combined_result}\")\n",
    "\n",
    "# If you need to switch to another model or option type, just use the select_model method again with new parameters.\n",
    "# For instance, to use the GarmanKohlhagen model for a put option on a foreign currency:\n",
    "calculator.select_model(\n",
    "    modelName=\"GarmanKohlhagen\",\n",
    "    stockPrice=1.20,              # Current currency exchange rate (e.g., USD to EUR)\n",
    "    strikePrice=1.25,             # Option strike price\n",
    "    timeToExpirationYr=0.5,       # Time to expiration in years\n",
    "    riskFreeRate=0.03,            # Annual domestic risk-free rate\n",
    "    volatility=0.15,              # Annual volatility of the currency exchange rate\n",
    "    foreignRiskFreeRate=0.02,     # Annual foreign risk-free rate\n",
    "    optionType=\"put\"              # Option type (either \"call\" or \"put\")\n",
    ")\n",
    "\n",
    "price = calculator.calculate_price_and_greeks()\n",
    "print(f\"Option Price for Foreign Currency Option: {price}\")\n"
   ]
  },
  {
   "cell_type": "code",
   "execution_count": 2,
   "metadata": {},
   "outputs": [
    {
     "name": "stdout",
     "output_type": "stream",
     "text": [
      "Put option has an intrinsic value of $0.050000000000000044. Exercising now would lead to a profit of $0.050000000000000044 per option. Consider buying if you anticipate the stock price will continue to fall. (Threshold: 1.25, Encountered: 1.2) \n",
      "[GarmanKohlhagen] The option has a longer time to expiration with 182.5 days left. Time decay is slower. This offers more time to make decisions based on other factors. (Threshold: 0.25, Encountered: 0.5) \n",
      "[GarmanKohlhagen] High gamma of 2.9799497611421017 indicates the currency option's delta is highly sensitive to changes in the currency pair. Such options can be affected rapidly by market movements, leading to potential quick gains or losses. (Threshold: 0.05, Encountered: 2.9799497611421017) \n",
      "[GarmanKohlhagen] The put option has high Vega sensitivity with a Vega of 0.321834574203347. This implies that for a 1% increase in implied volatility, the option's price will increase by approximately the Vega value. Consider this sensitivity when expecting volatility changes in the underlying asset. (Threshold: 0.05, Encountered: 0.321834574203347) \n",
      "[GarmanKohlhagen] The put option's price will decrease as the domestic interest rate rises. Consider this if you anticipate an increase in the domestic interest rate. (Threshold: 0.03, Encountered: -0.4014422892290824) \n",
      "[GarmanKohlhagen] The put option's price is affected by both domestic and foreign interest rates. Consider the interplay between the two when making decisions. (Threshold: 0.009999999999999998, Encountered: -0.4014422892290824)\n"
     ]
    }
   ],
   "source": [
    "from optionsPricingEngine.customRules.rules import rules\n",
    "from optionsPricingEngine.recommendation.recommendationEngine import RecommendationEngine\n",
    "\n",
    "engine = RecommendationEngine(rules=rules)\n",
    "\n",
    "data = calculator.modelResults \n",
    "data.update(calculator.modelParams)\n",
    "print(engine.recommend(data))\n"
   ]
  },
  {
   "cell_type": "code",
   "execution_count": 3,
   "metadata": {},
   "outputs": [
    {
     "data": {
      "text/plain": [
       "({'stockPrice': 1.2,\n",
       "  'strikePrice': 1.25,\n",
       "  'timeToExpirationYr': 0.5,\n",
       "  'riskFreeRate': 0.03,\n",
       "  'volatility': 0.15,\n",
       "  'dividendYield': 0.0,\n",
       "  'foreignRiskFreeRate': 0.02,\n",
       "  'optionType': 'put',\n",
       "  'modelName': 'GarmanKohlhagen',\n",
       "  'delta': -0.60597287398511,\n",
       "  'gamma': 2.9799497611421017,\n",
       "  'vega': 0.321834574203347,\n",
       "  'theta': -0.038731997752399744,\n",
       "  'rho': -0.4014422892290824},\n",
       " 47)"
      ]
     },
     "execution_count": 3,
     "metadata": {},
     "output_type": "execute_result"
    }
   ],
   "source": [
    "calculator.modelParams, len(rules)"
   ]
  },
  {
   "cell_type": "code",
   "execution_count": null,
   "metadata": {},
   "outputs": [],
   "source": []
  }
 ],
 "metadata": {
  "kernelspec": {
   "display_name": ".venv",
   "language": "python",
   "name": "python3"
  },
  "language_info": {
   "codemirror_mode": {
    "name": "ipython",
    "version": 3
   },
   "file_extension": ".py",
   "mimetype": "text/x-python",
   "name": "python",
   "nbconvert_exporter": "python",
   "pygments_lexer": "ipython3",
   "version": "3.11.4"
  }
 },
 "nbformat": 4,
 "nbformat_minor": 2
}
