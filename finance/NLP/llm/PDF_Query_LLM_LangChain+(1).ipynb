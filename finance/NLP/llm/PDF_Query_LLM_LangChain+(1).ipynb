{
  "cells": [
    {
      "cell_type": "markdown",
      "metadata": {
        "id": "_LZGci3gF1K-"
      },
      "source": [
        "#**Step 01: Install All Required the Packages**"
      ]
    },
    {
      "cell_type": "code",
      "execution_count": 1,
      "metadata": {
        "colab": {
          "base_uri": "https://localhost:8080/"
        },
        "id": "O7zxzCP7Fh3i",
        "outputId": "97e9b703-7649-4e3f-9fb7-19a5d4b0f1ae"
      },
      "outputs": [
        {
          "name": "stdout",
          "output_type": "stream",
          "text": [
            "Requirement already satisfied: langchain in c:\\users\\adity\\downloads\\machinelearningprojects\\.venv\\lib\\site-packages (0.1.1)\n",
            "Requirement already satisfied: PyYAML>=5.3 in c:\\users\\adity\\downloads\\machinelearningprojects\\.venv\\lib\\site-packages (from langchain) (6.0.1)\n",
            "Requirement already satisfied: SQLAlchemy<3,>=1.4 in c:\\users\\adity\\downloads\\machinelearningprojects\\.venv\\lib\\site-packages (from langchain) (2.0.25)\n",
            "Requirement already satisfied: aiohttp<4.0.0,>=3.8.3 in c:\\users\\adity\\downloads\\machinelearningprojects\\.venv\\lib\\site-packages (from langchain) (3.9.1)\n",
            "Requirement already satisfied: async-timeout<5.0.0,>=4.0.0 in c:\\users\\adity\\downloads\\machinelearningprojects\\.venv\\lib\\site-packages (from langchain) (4.0.3)\n",
            "Requirement already satisfied: dataclasses-json<0.7,>=0.5.7 in c:\\users\\adity\\downloads\\machinelearningprojects\\.venv\\lib\\site-packages (from langchain) (0.6.3)\n",
            "Requirement already satisfied: jsonpatch<2.0,>=1.33 in c:\\users\\adity\\downloads\\machinelearningprojects\\.venv\\lib\\site-packages (from langchain) (1.33)\n",
            "Requirement already satisfied: langchain-community<0.1,>=0.0.13 in c:\\users\\adity\\downloads\\machinelearningprojects\\.venv\\lib\\site-packages (from langchain) (0.0.13)\n",
            "Requirement already satisfied: langchain-core<0.2,>=0.1.9 in c:\\users\\adity\\downloads\\machinelearningprojects\\.venv\\lib\\site-packages (from langchain) (0.1.11)\n",
            "Requirement already satisfied: langsmith<0.1.0,>=0.0.77 in c:\\users\\adity\\downloads\\machinelearningprojects\\.venv\\lib\\site-packages (from langchain) (0.0.81)\n",
            "Requirement already satisfied: numpy<2,>=1 in c:\\users\\adity\\downloads\\machinelearningprojects\\.venv\\lib\\site-packages (from langchain) (1.23.4)\n",
            "Requirement already satisfied: pydantic<3,>=1 in c:\\users\\adity\\downloads\\machinelearningprojects\\.venv\\lib\\site-packages (from langchain) (2.5.3)\n",
            "Requirement already satisfied: requests<3,>=2 in c:\\users\\adity\\downloads\\machinelearningprojects\\.venv\\lib\\site-packages (from langchain) (2.31.0)\n",
            "Requirement already satisfied: tenacity<9.0.0,>=8.1.0 in c:\\users\\adity\\downloads\\machinelearningprojects\\.venv\\lib\\site-packages (from langchain) (8.2.3)\n",
            "Requirement already satisfied: attrs>=17.3.0 in c:\\users\\adity\\downloads\\machinelearningprojects\\.venv\\lib\\site-packages (from aiohttp<4.0.0,>=3.8.3->langchain) (23.2.0)\n",
            "Requirement already satisfied: multidict<7.0,>=4.5 in c:\\users\\adity\\downloads\\machinelearningprojects\\.venv\\lib\\site-packages (from aiohttp<4.0.0,>=3.8.3->langchain) (6.0.4)\n",
            "Requirement already satisfied: yarl<2.0,>=1.0 in c:\\users\\adity\\downloads\\machinelearningprojects\\.venv\\lib\\site-packages (from aiohttp<4.0.0,>=3.8.3->langchain) (1.9.4)\n",
            "Requirement already satisfied: frozenlist>=1.1.1 in c:\\users\\adity\\downloads\\machinelearningprojects\\.venv\\lib\\site-packages (from aiohttp<4.0.0,>=3.8.3->langchain) (1.4.1)\n",
            "Requirement already satisfied: aiosignal>=1.1.2 in c:\\users\\adity\\downloads\\machinelearningprojects\\.venv\\lib\\site-packages (from aiohttp<4.0.0,>=3.8.3->langchain) (1.3.1)\n",
            "Requirement already satisfied: marshmallow<4.0.0,>=3.18.0 in c:\\users\\adity\\downloads\\machinelearningprojects\\.venv\\lib\\site-packages (from dataclasses-json<0.7,>=0.5.7->langchain) (3.20.2)\n",
            "Requirement already satisfied: typing-inspect<1,>=0.4.0 in c:\\users\\adity\\downloads\\machinelearningprojects\\.venv\\lib\\site-packages (from dataclasses-json<0.7,>=0.5.7->langchain) (0.9.0)\n",
            "Requirement already satisfied: jsonpointer>=1.9 in c:\\users\\adity\\downloads\\machinelearningprojects\\.venv\\lib\\site-packages (from jsonpatch<2.0,>=1.33->langchain) (2.4)\n",
            "Requirement already satisfied: anyio<5,>=3 in c:\\users\\adity\\downloads\\machinelearningprojects\\.venv\\lib\\site-packages (from langchain-core<0.2,>=0.1.9->langchain) (4.2.0)\n",
            "Requirement already satisfied: packaging<24.0,>=23.2 in c:\\users\\adity\\downloads\\machinelearningprojects\\.venv\\lib\\site-packages (from langchain-core<0.2,>=0.1.9->langchain) (23.2)\n",
            "Requirement already satisfied: annotated-types>=0.4.0 in c:\\users\\adity\\downloads\\machinelearningprojects\\.venv\\lib\\site-packages (from pydantic<3,>=1->langchain) (0.6.0)\n",
            "Requirement already satisfied: pydantic-core==2.14.6 in c:\\users\\adity\\downloads\\machinelearningprojects\\.venv\\lib\\site-packages (from pydantic<3,>=1->langchain) (2.14.6)\n",
            "Requirement already satisfied: typing-extensions>=4.6.1 in c:\\users\\adity\\downloads\\machinelearningprojects\\.venv\\lib\\site-packages (from pydantic<3,>=1->langchain) (4.9.0)\n",
            "Requirement already satisfied: charset-normalizer<4,>=2 in c:\\users\\adity\\downloads\\machinelearningprojects\\.venv\\lib\\site-packages (from requests<3,>=2->langchain) (3.3.2)\n",
            "Requirement already satisfied: idna<4,>=2.5 in c:\\users\\adity\\downloads\\machinelearningprojects\\.venv\\lib\\site-packages (from requests<3,>=2->langchain) (3.6)\n",
            "Requirement already satisfied: urllib3<3,>=1.21.1 in c:\\users\\adity\\downloads\\machinelearningprojects\\.venv\\lib\\site-packages (from requests<3,>=2->langchain) (2.1.0)\n",
            "Requirement already satisfied: certifi>=2017.4.17 in c:\\users\\adity\\downloads\\machinelearningprojects\\.venv\\lib\\site-packages (from requests<3,>=2->langchain) (2023.11.17)\n",
            "Requirement already satisfied: greenlet!=0.4.17 in c:\\users\\adity\\downloads\\machinelearningprojects\\.venv\\lib\\site-packages (from SQLAlchemy<3,>=1.4->langchain) (3.0.3)\n",
            "Requirement already satisfied: sniffio>=1.1 in c:\\users\\adity\\downloads\\machinelearningprojects\\.venv\\lib\\site-packages (from anyio<5,>=3->langchain-core<0.2,>=0.1.9->langchain) (1.3.0)\n",
            "Requirement already satisfied: exceptiongroup>=1.0.2 in c:\\users\\adity\\downloads\\machinelearningprojects\\.venv\\lib\\site-packages (from anyio<5,>=3->langchain-core<0.2,>=0.1.9->langchain) (1.2.0)\n",
            "Requirement already satisfied: mypy-extensions>=0.3.0 in c:\\users\\adity\\downloads\\machinelearningprojects\\.venv\\lib\\site-packages (from typing-inspect<1,>=0.4.0->dataclasses-json<0.7,>=0.5.7->langchain) (1.0.0)\n",
            "Collecting openai\n",
            "  Downloading openai-1.8.0-py3-none-any.whl.metadata (18 kB)\n",
            "Requirement already satisfied: anyio<5,>=3.5.0 in c:\\users\\adity\\downloads\\machinelearningprojects\\.venv\\lib\\site-packages (from openai) (4.2.0)\n",
            "Collecting distro<2,>=1.7.0 (from openai)\n",
            "  Using cached distro-1.9.0-py3-none-any.whl.metadata (6.8 kB)\n",
            "Collecting httpx<1,>=0.23.0 (from openai)\n",
            "  Downloading httpx-0.26.0-py3-none-any.whl.metadata (7.6 kB)\n",
            "Requirement already satisfied: pydantic<3,>=1.9.0 in c:\\users\\adity\\downloads\\machinelearningprojects\\.venv\\lib\\site-packages (from openai) (2.5.3)\n",
            "Requirement already satisfied: sniffio in c:\\users\\adity\\downloads\\machinelearningprojects\\.venv\\lib\\site-packages (from openai) (1.3.0)\n",
            "Requirement already satisfied: tqdm>4 in c:\\users\\adity\\downloads\\machinelearningprojects\\.venv\\lib\\site-packages (from openai) (4.66.1)\n",
            "Requirement already satisfied: typing-extensions<5,>=4.7 in c:\\users\\adity\\downloads\\machinelearningprojects\\.venv\\lib\\site-packages (from openai) (4.9.0)\n",
            "Requirement already satisfied: idna>=2.8 in c:\\users\\adity\\downloads\\machinelearningprojects\\.venv\\lib\\site-packages (from anyio<5,>=3.5.0->openai) (3.6)\n",
            "Requirement already satisfied: exceptiongroup>=1.0.2 in c:\\users\\adity\\downloads\\machinelearningprojects\\.venv\\lib\\site-packages (from anyio<5,>=3.5.0->openai) (1.2.0)\n",
            "Requirement already satisfied: certifi in c:\\users\\adity\\downloads\\machinelearningprojects\\.venv\\lib\\site-packages (from httpx<1,>=0.23.0->openai) (2023.11.17)\n",
            "Collecting httpcore==1.* (from httpx<1,>=0.23.0->openai)\n",
            "  Downloading httpcore-1.0.2-py3-none-any.whl.metadata (20 kB)\n",
            "Collecting h11<0.15,>=0.13 (from httpcore==1.*->httpx<1,>=0.23.0->openai)\n",
            "  Downloading h11-0.14.0-py3-none-any.whl (58 kB)\n",
            "     ---------------------------------------- 0.0/58.3 kB ? eta -:--:--\n",
            "     ---------------------------- ----------- 41.0/58.3 kB ? eta -:--:--\n",
            "     -------------------------------------- 58.3/58.3 kB 774.5 kB/s eta 0:00:00\n",
            "Requirement already satisfied: annotated-types>=0.4.0 in c:\\users\\adity\\downloads\\machinelearningprojects\\.venv\\lib\\site-packages (from pydantic<3,>=1.9.0->openai) (0.6.0)\n",
            "Requirement already satisfied: pydantic-core==2.14.6 in c:\\users\\adity\\downloads\\machinelearningprojects\\.venv\\lib\\site-packages (from pydantic<3,>=1.9.0->openai) (2.14.6)\n",
            "Requirement already satisfied: colorama in c:\\users\\adity\\downloads\\machinelearningprojects\\.venv\\lib\\site-packages (from tqdm>4->openai) (0.4.6)\n",
            "Downloading openai-1.8.0-py3-none-any.whl (222 kB)\n",
            "   ---------------------------------------- 0.0/222.3 kB ? eta -:--:--\n",
            "   ------------------------------------ --- 204.8/222.3 kB 6.3 MB/s eta 0:00:01\n",
            "   ---------------------------------------- 222.3/222.3 kB 3.4 MB/s eta 0:00:00\n",
            "Using cached distro-1.9.0-py3-none-any.whl (20 kB)\n",
            "Downloading httpx-0.26.0-py3-none-any.whl (75 kB)\n",
            "   ---------------------------------------- 0.0/75.9 kB ? eta -:--:--\n",
            "   ---------------------------------------- 75.9/75.9 kB 2.1 MB/s eta 0:00:00\n",
            "Downloading httpcore-1.0.2-py3-none-any.whl (76 kB)\n",
            "   ---------------------------------------- 0.0/76.9 kB ? eta -:--:--\n",
            "   ---------------------------------------- 76.9/76.9 kB 4.2 MB/s eta 0:00:00\n",
            "Installing collected packages: h11, distro, httpcore, httpx, openai\n",
            "Successfully installed distro-1.9.0 h11-0.14.0 httpcore-1.0.2 httpx-0.26.0 openai-1.8.0\n",
            "Collecting PyPDF2\n",
            "  Downloading pypdf2-3.0.1-py3-none-any.whl (232 kB)\n",
            "     ---------------------------------------- 0.0/232.6 kB ? eta -:--:--\n",
            "     ------------- ------------------------- 81.9/232.6 kB 2.3 MB/s eta 0:00:01\n",
            "     ------------------ ------------------- 112.6/232.6 kB 1.7 MB/s eta 0:00:01\n",
            "     -------------------- ----------------- 122.9/232.6 kB 1.2 MB/s eta 0:00:01\n",
            "     --------------------------------- ---- 204.8/232.6 kB 1.1 MB/s eta 0:00:01\n",
            "     -------------------------------------- 232.6/232.6 kB 1.1 MB/s eta 0:00:00\n",
            "Installing collected packages: PyPDF2\n",
            "Successfully installed PyPDF2-3.0.1\n",
            "Collecting faiss-cpu\n",
            "  Downloading faiss_cpu-1.7.4-cp310-cp310-win_amd64.whl (10.8 MB)\n",
            "     ---------------------------------------- 0.0/10.8 MB ? eta -:--:--\n",
            "      --------------------------------------- 0.2/10.8 MB 4.4 MB/s eta 0:00:03\n",
            "     -- ------------------------------------- 0.6/10.8 MB 6.9 MB/s eta 0:00:02\n",
            "     --- ------------------------------------ 1.0/10.8 MB 8.2 MB/s eta 0:00:02\n",
            "     ----- ---------------------------------- 1.4/10.8 MB 7.2 MB/s eta 0:00:02\n",
            "     ------- -------------------------------- 1.9/10.8 MB 8.0 MB/s eta 0:00:02\n",
            "     -------- ------------------------------- 2.3/10.8 MB 8.8 MB/s eta 0:00:01\n",
            "     ---------- ----------------------------- 2.7/10.8 MB 8.6 MB/s eta 0:00:01\n",
            "     ----------- ---------------------------- 3.0/10.8 MB 7.9 MB/s eta 0:00:01\n",
            "     ------------ --------------------------- 3.2/10.8 MB 8.2 MB/s eta 0:00:01\n",
            "     ------------ --------------------------- 3.4/10.8 MB 7.5 MB/s eta 0:00:01\n",
            "     ------------- -------------------------- 3.6/10.8 MB 7.0 MB/s eta 0:00:02\n",
            "     -------------- ------------------------- 3.9/10.8 MB 7.2 MB/s eta 0:00:01\n",
            "     --------------- ------------------------ 4.2/10.8 MB 6.9 MB/s eta 0:00:01\n",
            "     ---------------- ----------------------- 4.4/10.8 MB 6.9 MB/s eta 0:00:01\n",
            "     ------------------ --------------------- 5.0/10.8 MB 7.1 MB/s eta 0:00:01\n",
            "     ------------------- -------------------- 5.2/10.8 MB 6.9 MB/s eta 0:00:01\n",
            "     --------------------- ------------------ 5.7/10.8 MB 7.3 MB/s eta 0:00:01\n",
            "     ---------------------- ----------------- 6.1/10.8 MB 7.2 MB/s eta 0:00:01\n",
            "     ------------------------ --------------- 6.6/10.8 MB 7.6 MB/s eta 0:00:01\n",
            "     ------------------------- -------------- 6.8/10.8 MB 7.5 MB/s eta 0:00:01\n",
            "     --------------------------- ------------ 7.4/10.8 MB 7.7 MB/s eta 0:00:01\n",
            "     --------------------------- ------------ 7.5/10.8 MB 7.5 MB/s eta 0:00:01\n",
            "     --------------------------- ------------ 7.5/10.8 MB 7.5 MB/s eta 0:00:01\n",
            "     ---------------------------- ----------- 7.7/10.8 MB 6.9 MB/s eta 0:00:01\n",
            "     ----------------------------- ---------- 8.0/10.8 MB 6.9 MB/s eta 0:00:01\n",
            "     ------------------------------ --------- 8.2/10.8 MB 6.8 MB/s eta 0:00:01\n",
            "     ------------------------------- -------- 8.5/10.8 MB 6.8 MB/s eta 0:00:01\n",
            "     --------------------------------- ------ 8.9/10.8 MB 6.9 MB/s eta 0:00:01\n",
            "     --------------------------------- ------ 9.0/10.8 MB 6.7 MB/s eta 0:00:01\n",
            "     --------------------------------- ------ 9.2/10.8 MB 6.6 MB/s eta 0:00:01\n",
            "     ---------------------------------- ----- 9.4/10.8 MB 6.6 MB/s eta 0:00:01\n",
            "     ----------------------------------- ---- 9.7/10.8 MB 6.5 MB/s eta 0:00:01\n",
            "     ------------------------------------ --- 9.8/10.8 MB 6.4 MB/s eta 0:00:01\n",
            "     ------------------------------------- -- 10.0/10.8 MB 6.3 MB/s eta 0:00:01\n",
            "     -------------------------------------- - 10.3/10.8 MB 6.4 MB/s eta 0:00:01\n",
            "     ---------------------------------------  10.5/10.8 MB 6.4 MB/s eta 0:00:01\n",
            "     ---------------------------------------  10.7/10.8 MB 6.2 MB/s eta 0:00:01\n",
            "     ---------------------------------------  10.8/10.8 MB 6.2 MB/s eta 0:00:01\n",
            "     ---------------------------------------- 10.8/10.8 MB 6.0 MB/s eta 0:00:00\n",
            "Installing collected packages: faiss-cpu\n",
            "Successfully installed faiss-cpu-1.7.4\n",
            "Collecting tiktoken\n",
            "  Downloading tiktoken-0.5.2-cp310-cp310-win_amd64.whl.metadata (6.8 kB)\n",
            "Requirement already satisfied: regex>=2022.1.18 in c:\\users\\adity\\downloads\\machinelearningprojects\\.venv\\lib\\site-packages (from tiktoken) (2023.12.25)\n",
            "Requirement already satisfied: requests>=2.26.0 in c:\\users\\adity\\downloads\\machinelearningprojects\\.venv\\lib\\site-packages (from tiktoken) (2.31.0)\n",
            "Requirement already satisfied: charset-normalizer<4,>=2 in c:\\users\\adity\\downloads\\machinelearningprojects\\.venv\\lib\\site-packages (from requests>=2.26.0->tiktoken) (3.3.2)\n",
            "Requirement already satisfied: idna<4,>=2.5 in c:\\users\\adity\\downloads\\machinelearningprojects\\.venv\\lib\\site-packages (from requests>=2.26.0->tiktoken) (3.6)\n",
            "Requirement already satisfied: urllib3<3,>=1.21.1 in c:\\users\\adity\\downloads\\machinelearningprojects\\.venv\\lib\\site-packages (from requests>=2.26.0->tiktoken) (2.1.0)\n",
            "Requirement already satisfied: certifi>=2017.4.17 in c:\\users\\adity\\downloads\\machinelearningprojects\\.venv\\lib\\site-packages (from requests>=2.26.0->tiktoken) (2023.11.17)\n",
            "Downloading tiktoken-0.5.2-cp310-cp310-win_amd64.whl (786 kB)\n",
            "   ---------------------------------------- 0.0/786.3 kB ? eta -:--:--\n",
            "   ------- -------------------------------- 143.4/786.3 kB 4.3 MB/s eta 0:00:01\n",
            "   ---------------------- ----------------- 440.3/786.3 kB 4.6 MB/s eta 0:00:01\n",
            "   -------------------------------- ------- 645.1/786.3 kB 5.1 MB/s eta 0:00:01\n",
            "   ---------------------------------------  778.2/786.3 kB 4.5 MB/s eta 0:00:01\n",
            "   ---------------------------------------- 786.3/786.3 kB 4.1 MB/s eta 0:00:00\n",
            "Installing collected packages: tiktoken\n",
            "Successfully installed tiktoken-0.5.2\n"
          ]
        }
      ],
      "source": [
        "!pip install langchain\n",
        "!pip install openai\n",
        "!pip install PyPDF2\n",
        "!pip install faiss-cpu\n",
        "!pip install tiktoken"
      ]
    },
    {
      "cell_type": "code",
      "execution_count": 17,
      "metadata": {},
      "outputs": [
        {
          "name": "stdout",
          "output_type": "stream",
          "text": [
            "Collecting langchain-openai\n",
            "  Downloading langchain_openai-0.0.3-py3-none-any.whl.metadata (2.5 kB)\n",
            "Collecting langchain-core<0.2,>=0.1.13 (from langchain-openai)\n",
            "  Downloading langchain_core-0.1.13-py3-none-any.whl.metadata (5.9 kB)\n",
            "Requirement already satisfied: numpy<2,>=1 in c:\\users\\adity\\downloads\\machinelearningprojects\\.venv\\lib\\site-packages (from langchain-openai) (1.23.4)\n",
            "Requirement already satisfied: openai<2.0.0,>=1.6.1 in c:\\users\\adity\\downloads\\machinelearningprojects\\.venv\\lib\\site-packages (from langchain-openai) (1.8.0)\n",
            "Requirement already satisfied: tiktoken<0.6.0,>=0.5.2 in c:\\users\\adity\\downloads\\machinelearningprojects\\.venv\\lib\\site-packages (from langchain-openai) (0.5.2)\n",
            "Requirement already satisfied: PyYAML>=5.3 in c:\\users\\adity\\downloads\\machinelearningprojects\\.venv\\lib\\site-packages (from langchain-core<0.2,>=0.1.13->langchain-openai) (6.0.1)\n",
            "Requirement already satisfied: anyio<5,>=3 in c:\\users\\adity\\downloads\\machinelearningprojects\\.venv\\lib\\site-packages (from langchain-core<0.2,>=0.1.13->langchain-openai) (4.2.0)\n",
            "Requirement already satisfied: jsonpatch<2.0,>=1.33 in c:\\users\\adity\\downloads\\machinelearningprojects\\.venv\\lib\\site-packages (from langchain-core<0.2,>=0.1.13->langchain-openai) (1.33)\n",
            "Collecting langsmith<0.0.84,>=0.0.83 (from langchain-core<0.2,>=0.1.13->langchain-openai)\n",
            "  Downloading langsmith-0.0.83-py3-none-any.whl.metadata (10 kB)\n",
            "Requirement already satisfied: packaging<24.0,>=23.2 in c:\\users\\adity\\downloads\\machinelearningprojects\\.venv\\lib\\site-packages (from langchain-core<0.2,>=0.1.13->langchain-openai) (23.2)\n",
            "Requirement already satisfied: pydantic<3,>=1 in c:\\users\\adity\\downloads\\machinelearningprojects\\.venv\\lib\\site-packages (from langchain-core<0.2,>=0.1.13->langchain-openai) (2.5.3)\n",
            "Requirement already satisfied: requests<3,>=2 in c:\\users\\adity\\downloads\\machinelearningprojects\\.venv\\lib\\site-packages (from langchain-core<0.2,>=0.1.13->langchain-openai) (2.31.0)\n",
            "Requirement already satisfied: tenacity<9.0.0,>=8.1.0 in c:\\users\\adity\\downloads\\machinelearningprojects\\.venv\\lib\\site-packages (from langchain-core<0.2,>=0.1.13->langchain-openai) (8.2.3)\n",
            "Requirement already satisfied: distro<2,>=1.7.0 in c:\\users\\adity\\downloads\\machinelearningprojects\\.venv\\lib\\site-packages (from openai<2.0.0,>=1.6.1->langchain-openai) (1.9.0)\n",
            "Requirement already satisfied: httpx<1,>=0.23.0 in c:\\users\\adity\\downloads\\machinelearningprojects\\.venv\\lib\\site-packages (from openai<2.0.0,>=1.6.1->langchain-openai) (0.26.0)\n",
            "Requirement already satisfied: sniffio in c:\\users\\adity\\downloads\\machinelearningprojects\\.venv\\lib\\site-packages (from openai<2.0.0,>=1.6.1->langchain-openai) (1.3.0)\n",
            "Requirement already satisfied: tqdm>4 in c:\\users\\adity\\downloads\\machinelearningprojects\\.venv\\lib\\site-packages (from openai<2.0.0,>=1.6.1->langchain-openai) (4.66.1)\n",
            "Requirement already satisfied: typing-extensions<5,>=4.7 in c:\\users\\adity\\downloads\\machinelearningprojects\\.venv\\lib\\site-packages (from openai<2.0.0,>=1.6.1->langchain-openai) (4.9.0)\n",
            "Requirement already satisfied: regex>=2022.1.18 in c:\\users\\adity\\downloads\\machinelearningprojects\\.venv\\lib\\site-packages (from tiktoken<0.6.0,>=0.5.2->langchain-openai) (2023.12.25)\n",
            "Requirement already satisfied: idna>=2.8 in c:\\users\\adity\\downloads\\machinelearningprojects\\.venv\\lib\\site-packages (from anyio<5,>=3->langchain-core<0.2,>=0.1.13->langchain-openai) (3.6)\n",
            "Requirement already satisfied: exceptiongroup>=1.0.2 in c:\\users\\adity\\downloads\\machinelearningprojects\\.venv\\lib\\site-packages (from anyio<5,>=3->langchain-core<0.2,>=0.1.13->langchain-openai) (1.2.0)\n",
            "Requirement already satisfied: certifi in c:\\users\\adity\\downloads\\machinelearningprojects\\.venv\\lib\\site-packages (from httpx<1,>=0.23.0->openai<2.0.0,>=1.6.1->langchain-openai) (2023.11.17)\n",
            "Requirement already satisfied: httpcore==1.* in c:\\users\\adity\\downloads\\machinelearningprojects\\.venv\\lib\\site-packages (from httpx<1,>=0.23.0->openai<2.0.0,>=1.6.1->langchain-openai) (1.0.2)\n",
            "Requirement already satisfied: h11<0.15,>=0.13 in c:\\users\\adity\\downloads\\machinelearningprojects\\.venv\\lib\\site-packages (from httpcore==1.*->httpx<1,>=0.23.0->openai<2.0.0,>=1.6.1->langchain-openai) (0.14.0)\n",
            "Requirement already satisfied: jsonpointer>=1.9 in c:\\users\\adity\\downloads\\machinelearningprojects\\.venv\\lib\\site-packages (from jsonpatch<2.0,>=1.33->langchain-core<0.2,>=0.1.13->langchain-openai) (2.4)\n",
            "Requirement already satisfied: annotated-types>=0.4.0 in c:\\users\\adity\\downloads\\machinelearningprojects\\.venv\\lib\\site-packages (from pydantic<3,>=1->langchain-core<0.2,>=0.1.13->langchain-openai) (0.6.0)\n",
            "Requirement already satisfied: pydantic-core==2.14.6 in c:\\users\\adity\\downloads\\machinelearningprojects\\.venv\\lib\\site-packages (from pydantic<3,>=1->langchain-core<0.2,>=0.1.13->langchain-openai) (2.14.6)\n",
            "Requirement already satisfied: charset-normalizer<4,>=2 in c:\\users\\adity\\downloads\\machinelearningprojects\\.venv\\lib\\site-packages (from requests<3,>=2->langchain-core<0.2,>=0.1.13->langchain-openai) (3.3.2)\n",
            "Requirement already satisfied: urllib3<3,>=1.21.1 in c:\\users\\adity\\downloads\\machinelearningprojects\\.venv\\lib\\site-packages (from requests<3,>=2->langchain-core<0.2,>=0.1.13->langchain-openai) (2.1.0)\n",
            "Requirement already satisfied: colorama in c:\\users\\adity\\downloads\\machinelearningprojects\\.venv\\lib\\site-packages (from tqdm>4->openai<2.0.0,>=1.6.1->langchain-openai) (0.4.6)\n",
            "Downloading langchain_openai-0.0.3-py3-none-any.whl (28 kB)\n",
            "Downloading langchain_core-0.1.13-py3-none-any.whl (228 kB)\n",
            "   ---------------------------------------- 0.0/228.7 kB ? eta -:--:--\n",
            "   ---------------------------------------  225.3/228.7 kB 6.7 MB/s eta 0:00:01\n",
            "   ---------------------------------------- 228.7/228.7 kB 3.5 MB/s eta 0:00:00\n",
            "Downloading langsmith-0.0.83-py3-none-any.whl (49 kB)\n",
            "   ---------------------------------------- 0.0/49.3 kB ? eta -:--:--\n",
            "   ---------------------------------------- 49.3/49.3 kB 2.4 MB/s eta 0:00:00\n",
            "Installing collected packages: langsmith, langchain-core, langchain-openai\n",
            "  Attempting uninstall: langsmith\n",
            "    Found existing installation: langsmith 0.0.81\n",
            "    Uninstalling langsmith-0.0.81:\n",
            "      Successfully uninstalled langsmith-0.0.81\n",
            "  Attempting uninstall: langchain-core\n",
            "    Found existing installation: langchain-core 0.1.11\n",
            "    Uninstalling langchain-core-0.1.11:\n",
            "      Successfully uninstalled langchain-core-0.1.11\n",
            "Successfully installed langchain-core-0.1.13 langchain-openai-0.0.3 langsmith-0.0.83\n"
          ]
        }
      ],
      "source": [
        "!pip install langchain-openai"
      ]
    },
    {
      "cell_type": "markdown",
      "metadata": {
        "id": "3wMoDglRHKw1"
      },
      "source": [
        "#**Step 02: Import All the Required Libraries**"
      ]
    },
    {
      "cell_type": "code",
      "execution_count": 2,
      "metadata": {
        "id": "SnJ3K_ILGO-6"
      },
      "outputs": [],
      "source": [
        "#pdfreader is a Pythonic API for: extracting texts, images and other data from PDF documents\n",
        "from PyPDF2 import PdfReader\n",
        "from langchain.embeddings.openai import OpenAIEmbeddings\n",
        "from langchain.text_splitter import CharacterTextSplitter\n",
        "from langchain.vectorstores import ElasticVectorSearch, Pinecone, Weaviate, FAISS"
      ]
    },
    {
      "cell_type": "markdown",
      "metadata": {
        "id": "lpEfpZzbHeji"
      },
      "source": [
        "#**Step 03: Setup the Environment**"
      ]
    },
    {
      "cell_type": "code",
      "execution_count": 24,
      "metadata": {
        "id": "7PFiIGz8Hh1m"
      },
      "outputs": [],
      "source": [
        "import os\n",
        "os.environ['OPENAI_API_KEY'] = 'your key here'"
      ]
    },
    {
      "cell_type": "markdown",
      "metadata": {
        "id": "Q6gBPpSkH40e"
      },
      "source": [
        "#**Step 04: Extracting Text from the PDF DOcument using PDF Reader**"
      ]
    },
    {
      "cell_type": "code",
      "execution_count": 4,
      "metadata": {
        "id": "QnSkBzs9H0Yy"
      },
      "outputs": [],
      "source": [
        "reader = PdfReader('patientsystem.pdf')"
      ]
    },
    {
      "cell_type": "markdown",
      "metadata": {
        "id": "ozQqWQ5lIN0o"
      },
      "source": [
        "#**Step 05: Read Data From the PDF File and put it into a variable raw_text**"
      ]
    },
    {
      "cell_type": "code",
      "execution_count": 5,
      "metadata": {
        "id": "eXIT8H-KIJ5P"
      },
      "outputs": [],
      "source": [
        "# It will go to each page and read text from each page, raw_text will contain all the text\n",
        "raw_text = ''\n",
        "for i, page in enumerate(reader.pages):\n",
        "  text = page.extract_text()\n",
        "  if text:\n",
        "    raw_text += text"
      ]
    },
    {
      "cell_type": "code",
      "execution_count": 6,
      "metadata": {
        "colab": {
          "base_uri": "https://localhost:8080/",
          "height": 1000
        },
        "id": "vLYsiYYPIyKZ",
        "outputId": "72f4ffc8-d9b0-4849-876a-bb4e6d3e8b57"
      },
      "outputs": [
        {
          "data": {
            "text/plain": [
              "'Vol.:(0123456789)The Patient - Patient-Centered Outcomes Research (2023) 16:183–199 \\nhttps://doi.org/10.1007/s40271-023-00619-w\\nPRACTICAL APPLICATION\\nSo You Want to\\xa0Build Your Disease’s First Online Patient Registry: \\nAn\\xa0Educational Guide for\\xa0Patient Organizations Based on\\xa0US \\nand\\xa0European Experience\\nPaul\\xa0Wicks1 \\xa0· Lindsey\\xa0Wahlstrom‑Edwards2 \\xa0· Sam\\xa0Fillingham3 \\xa0· Andrea\\xa0Downing4\\xa0· Elin\\xa0Haf\\xa0Davies5 \\nAccepted: 22 February 2023 / Published online: 22 March 2023 \\n© The Author(s) 2023\\nAbstract\\nPatient registries fulfill a number of key roles for clinicians, researchers, non-profit organizations, payers, and policy makers. \\nThey can help the field understand the natural history of a condition, determine the effectiveness of interventions, measure \\nsafety, and audit the quality of care provided. Successful registries in cystic fibrosis, Duchenne’s muscular dystrophy, and \\nother rare diseases have become a model for accelerating progress. However, the complex tasks required to develop a modern \\nregistry can seem overwhelming, particularly for those who are not from a technical background. In this Education article, \\na team of co-authors from across patient advocacy, technology, privacy, and commercial perspectives who have worked on \\na number of such projects offer a “Registry 101” primer to help get started. We will outline the promise and potential of \\npatient registries with worked case examples, identify some of the key technical considerations you will need to consider, \\ndescribe the type of data you might want to collect, consider privacy risks to protect your users, sketch out some of the paths \\ntowards long-term financial sustainability we have observed, and conclude with plans to mitigate some of the challenges that \\ncan occur and signpost interested readers to further resources. While rapid growth in the digital health market has presented \\nnumerous opportunities to those at the beginning of their journey, it is important to start with the long-term goals in mind \\nand to benefit from the learnings of those who have walked this path before.\\n * Paul Wicks \\n paul@wicksdigitalhealth.com\\n1 Wicks Digital Health Ltd, Lichfield, UK\\n2 Sano Genetics, Cambridge, UK\\n3 PIP-UK, Stockport, UK\\n4 Light Collective, Eugene, OR, USA\\n5 Aparito Ltd, Wrexham, UK184 P .\\xa0Wicks et al.\\nKey Points for Decision Makers  \\nPatient organizations are frequently encouraged by third \\nparties to “build a registry” but are offered little guidance \\non whether that is the right decision, and if so, whether \\nto build, buy, or borrow one from a platform provider.\\nPatient registries have the potential to serve a variety of \\nstakeholders including patients, researchers, clinicians, \\npharmaceutical companies, and payers. By starting with \\nthe end in mind and identifying the aims and intentions \\nof these stakeholders from the outset, the registry itself \\nwill be more useful for all concerned.\\nSetting up and maintaining a registry involves a range \\nof costs including information technology staff, server \\ncosts, data management, and marketing. There are a \\nrange of approaches to obtaining initial funding (such \\nas a grant or a consortium of industry sponsors) and \\nmaintaining ongoing support (such as cost recovery from \\nacademics or fee-for-service approaches).\\nWith the advance of technology, the barriers to building \\na registry are becoming lower, but the expectations \\nof patients and caregivers are growing higher as they \\nhave daily access to social networks, smartphones, and \\nwearable devices. Privacy, interoperability, and the \\nability to move to another platform in the future are key \\ntechnical considerations as you plan your activities.\\n1  Background\\nPatient registries are a relatively modern invention, dating \\nback some 50 years and defined as “an organized system \\nthat uses observational study methods to collect uniform \\ndata (clinical and other) to evaluate specified outcomes \\nfor a population defined by a particular disease, condition, \\nor exposure, and that serves one or more predetermined \\nscientific, clinical, or policy purposes” [1 ]. A registry \\ndiffers from a simple “contact database” that might be used \\nto store the personal details and basic demographics of \\npeople living with a medical condition for such purposes \\nas mailing lists or fundraising. It is also different from a \\n“study database” that might be developed while trying to \\nanswer a single scientific question for a single research \\nstudy. Finally, it is different from the “forums” or “online \\nsupport groups” found online that primarily exist to enable \\npeer-peer communication, even though their proper function \\ndepends on a database too. Instead, a well-designed registry has much broader functions, in that it can potentially serve as \\nthe foundation for multiple studies from different disciplines \\nthat serve many stakeholders [1 ].\\nTraditionally, registries have fulfilled a variety \\nof functions for clinicians, researchers, non-profit \\norganizations, payers, and policy makers such as helping \\nto understand the natural history of a poorly understood \\ncondition, determining the effectiveness of interventions \\noutside the confines of a randomized controlled trial, \\nmeasuring safety, and/or measuring quality [1 ]. More \\nrecently though, there has been growing interest in evolving \\nregistries from siloed databases purely intended for \\nscientists to study into more dynamic systems that allow \\nfor the development of “learning health systems” to benefit \\nmany stakeholders [2 ]. Such progress includes increasing \\npatient and caregiver involvement in governing a registry, \\nconnecting registry data to clinical care, and supporting \\nadvocacy for non-profit organizations looking to generate \\nevidence [2 ].\\nWe are a group of authors specializing in digital \\nhealth research (PW), registry partnerships with patient \\norganizations (LWE), setting up a patient organization’s \\nfirst registry (SF), data governance and privacy issues for \\npatients (AD), and regulations, registry development, and \\ncommercialization (EHD). Based on our experience in the \\nUSA and Europe, through the course of this education article \\nwe aim to provide an initial primer for leaders at patient \\norganizations who might be considering setting up a patient \\nregistry for the first time. We will outline the potential \\nbenefits of developing a registry, cite some examples for \\nreview, outline technical considerations, describe data \\ncollection approaches, summarize ethical issues, suggest \\nways to make a registry commercially sustainable, and \\noutline some of the key privacy issues involved.\\n2  The Promise and\\xa0Potential \\nof\\xa0a\\xa0Well‑Designed Patient Registry\\nGiven that there seem to be so many patient registries today, \\nwhat are some of the potential benefits that others have \\nexperienced? There is opportunity to support four levels of \\nbeneficiaries: individuals, communities, organizations, and \\nscientific fields.\\nAt an individual level, a shared experience of all those \\naffected by ill health is uncertainty. Common questions \\ninclude: What is this thing I have? What will this do to \\nme? What might help me get better [3 ]? Patients and \\nfamily members seek a variety of sources to answer these \\nquestions including their healthcare providers, the medical/\\nscientific community, and the experiences of other peers \\nlike them who have been down a similar path. However, \\nmost individuals quickly realize that there are no solid 185\\nSo You Want to Build Your Disease’s First Online Patient Registry\\nanswers and that whatever information they gather is likely \\nto be biased. Because registries have a scientific orientation \\ntowards collecting uniform data, they are the best chance \\nwe have to elevate individuals from “I” to a community of \\n“We” in improving our shared understanding of a condition \\n(Fig.\\xa0 1). Beyond fulfilling their own needs, most patients and \\ncaregivers altruistically want their experiences to count for \\nsomething, to be measured, and to be put to good use so that \\nothers might learn from their victories and their mistakes \\n[4]. Being seen, being counted, and being connected are key \\ndrivers of value for a community. Whereas once, being part \\nof the “patient community” meant being a formal member \\nof a charitable organization or non-profit organization and \\nattending in-person meetings or paying annual dues to \\nreceive newsletters, the changes brought by the Internet \\nhave broadened who counts as a member of a community. \\nIncreasingly, patient advocates use a variety of social \\nnetworking platforms and can self-identify with a hashtag \\nin their messages (e.g., #BCCW for Breast Cancer Chat \\nWorldwide), a note of diagnosis on their profile (e.g., “breast \\ncancer survivor”), or by interacting with other stakeholders \\ninformally in public or in private. The COVID-19 pandemic \\naccelerated such developments, as shown for example by \\nthe Patient-Led Research Collaborative of people living \\nwith Long Covid who themselves are also researchers from \\naround the world operating outside a formal organizational \\nstructure [5 ].\\nAt an organizational level, registries give authority and \\ncredibility for non-profit organizations to present data-driven \\ninsight and business cases. Governance and control over a registry act as powerful convening forces to attract external \\nstakeholders who would like to learn more about a condition, \\nsuch as pharmaceutical companies, funders, and policy \\nmakers. A registry is a tangible asset to attract investment, \\na rationale for professionalizing, and a mechanism for \\ndelivering impact. In collaborating with researchers, a \\nregistry lowers the barriers inherent in answering a range \\nof questions. The provision of electronic surveys fielded \\neasily through low-cost online tools expands the pool of \\nresearch hypotheses that can be tested without needing to \\nstand up their own data collection infrastructure. This can \\nbe important to answer questions relating to topics such as \\nthe health economic impact of disease [6 ], which might be \\nimportant from a policy perspective but rarely attract as \\nmuch research funding as interventional clinical trials, for \\ninstance. Where clinicians are tightly woven into the activity \\nof a registry, it can become possible to conduct quality \\nimprovement work to better understand how care delivery \\nand patient outcomes interact, and what can be done better \\n[7].\\nOnce a multi-national field of study and practice becomes \\nlarge enough, it is not uncommon for there to be multiple \\n(sometimes even competing) registries in a given condition. \\nThey might have originated in different geographies, fulfill \\ndifferent objectives, or even been developed as direct \\ncounter positioning (i.e., a non-profit version of a for-\\nprofit organization’s registry, or two different medicines \\neach with their own safety registry). For example, some \\nindustry-funded registries only collect data specific to a \\nsingle product, such as the Hunter Outcome Survey, which \\nFig. 1  Example dashboard view for a patient registry participant \\nshowing real-time location of registrations. Through an engaged \\ncommunity of younger users on TikTok and Instagram, the registry quickly surpassed its target recruitment of N = 100 for the year in just \\nover a month. Courtesy of Poland Syndrome Community Register \\nand Pulse Infoframe186 P .\\xa0Wicks et al.\\nexcludes potential participants who are not taking the \\nfunding manufacturer’s product [8 ]. In some fields, a higher \\norder harmonization group can come together to ensure \\nthat similar core data elements are collected by multiple \\nregistries and to offer an integrated view [7 , 9, 10].\\nRegulators are a key stakeholder and harmonizer \\nof standards in the health field, and groups such as the \\nEuropean Medicines Agency Cross-Committee Task Force \\non Patient Registries provide guidance and advice on how \\nto best structure registries [11]. Between 2005 and 2013, \\nthe European Medicines Agency requested that over 30 \\ndrug manufacturers develop a registry to inform long-term \\nsafety and risk-management profiles, particularly in rare \\nor “orphan” diseases [11]. In the USA, the Food and Drug \\nAdministration has draft guidance for industry on how to \\nensure the quality of data captured can support regulatory \\ndecisions [12]. Even if your registry is not primarily intended \\nto assess safety or the real-world efficacy of products, these \\nregulatory guidelines may still be the standards by which \\npharmaceutical sponsors (and the scientists that work there) \\nwill judge the robustness of your registry data. Table\\xa0 1 \\nlists some well-regarded registries in the space across \\na range of size, age, and therapeutic area, each of which \\nprovide additional context and examples of best practice in \\ngovernance, member engagement, and scientific outputs. \\nThey all have websites and scientific publications that can \\nserve as templates and inspiration for planning your registry.\\n3  Starting with\\xa0the\\xa0End in\\xa0Mind\\nThroughout this Education article, we repeat the importance \\nof starting with the end in mind. The point of a registry is \\nnot merely to collect data [ 13]. The point of a registry is to \\nanswer questions. The types of questions we can answer \\nwith a registry might include scientific, clinical, and policy \\nconcerns. Scientific questions might include: What sort of \\npeople have this disease? Where can we find people who \\nmight be eligible to enroll in clinical trials? Could we stratify \\npatients into different forms of the disease, for example, \\nmoderate/severe? Clinical questions might include: How \\nare the outcomes of people with this disease changing over \\ntime? What are the most important symptoms to manage? \\nHow well do drugs and other interventions work in this \\ndisease? Finally, policy questions might include: What sort \\nof services and support are people seeking and getting? Is \\nthere enough funding being provided to support people with \\nthis condition nationally as well as locally? Are people with \\nthis disease still able to work, study, and be productive? If \\nnot, what is getting in their way? There are several different \\ntypes of project associated with the word “registry” and \\nTable\\xa0 2 attempts to differentiate between the most common examples of terms used in the field, but these are not always \\napplied consistently.\\nBefore you get started, it is worth searching for your \\ncondition and the word “registry” in scientific search \\nengines such as PubMed or Google Scholar to see if there \\nare already similar projects underway. It can also be worth \\nsearching for any recent “systematic reviews” of your \\ndisease field to identify what gaps remain to be filled in the \\nliterature. As you start thinking through your objectives \\nfor a patient registry, it can be useful to keep a list of these \\nquestions, because this will shape what data you collect, \\nhow large a sample you need, and how burdensome \\nit might be to take on this endeavor. As you meet with \\nother stakeholders, it is also important to interview them \\nto understand what sort of questions they are hoping to \\nanswer with a registry. If you do not have all the context \\nas to why they might want a particular question answered, \\ndive a little deeper. The developers of the European Cystic \\nFibrosis Society Patient Registry caution against setting \\nthe community’s expectations too high or trying to capture \\ntoo much information from the outset that will never be \\nused [13]. For further information, and a helpful checklist, \\nThe Genetic Alliance has produced a detailed “Registry \\nBootcamp” (https:// genet icall iance. org/ regis  tries/ bootc  \\namp) to support your efforts.\\nFor example, once you have set up your registry, a \\npharmaceutical company might ask where in your country \\nmost of the patients are. There might be several reasons \\nthey are asking this and knowing why will help shape \\nyour approach. If they are at an early stage of R&D and \\ndesigning a clinical trial, they might be trying to figure \\nout which hospitals they should invite to be trial sites, so \\nit would be important to know how far your users are from \\nmajor cities. If they have already completed their trials \\nand have recently had their product approved, they might \\nbe in the commercial launch phase and trying to figure \\nout where to inform more doctors about their product. \\nEach of these use cases has different data needs, privacy \\nimplications, and nuances of interpretation, which we will \\nexplore in more detail later.\\nAs you develop your list, remember you  are a stakeholder \\ntoo, and for each question that your registry might answer, \\ntry and give an honest assessment; why  do you want to \\nanswer this question? How  will you act differently once you \\nknow the answer? What size of difference between groups \\nmight cause you to act differently? Who else will have to \\nbe convinced before you can make a decision? What would \\nhappen if you did not know the answer to a high degree of \\nconfidence; would a decision or action still be taken anyway? \\nToo often we see registries set up that will only describe  \\nthe state of a given population, with the intent of generating \\nhypotheses that can be tested later. However, it is worth \\ngoing through this exercise up front because in many cases 187\\nSo You Want to Build Your Disease’s First Online Patient RegistryTable 1  Examples of patient registries that range in size, age, and focus\\nEHR electronic health record, EU European Union, PROs patient-reported outcomes, SF-36 Short Form 36 questionnaireName (year founded), registered users Condition focus Ownership, scope, funding Key features\\nCystic Fibrosis Foundation Patient Registry \\n[13] (1960s), 50k+Cystic fibrosis and associated cystic fibrosis \\ntransmembrane conductance regulator-\\nrelated disordersNon-profit ownership, USA, charitable Clinical integration covering >\\xa095% of clinic \\nvisits, browsable quality measure data for care \\ncenters, >100 scientific projects\\nAutoimmune Research Collaborative [14] \\n(ARC, 2016), 50k+Rheumatoid arthritis, spondyloarthritis, \\nCrohn’s disease, ulcerative colitis, multiple \\nsclerosis, vasculitisPartnership, USA, primarily federal with some \\ncharitable and industry fundingMobile app, electronic patient-reported \\noutcome measures, patient newsletters, \\nharmonization to PCORnet Common Data \\nModel\\nNorth American Research Committee on \\nMultiple Sclerosis [15] (NARCOMS, 1996), \\n41k+Multiple sclerosis or clinically isolated \\nsyndromeClinical-Academic Consortium, USA but \\nexpanding globally, charitable and industry \\nfundingSurveys, trial recruitment, patient newsletters, \\nde-identified datasets for researchers, 152 \\npeer-reviewed publications, harmonization to \\nMS Metadata Collective\\nHunter Outcome Survey [8] (2005), 1k+ Mucopolysaccharidosis type II (Hunter \\nsyndrome)Industry funded, global, associated with \\nuse of a specific pharmaceutical product \\n(idursulfase,  Elaprase®)Data from routine clinic visits, emphasis \\non product safety, natural history, PROs, \\nexploratory data analyses, 12+ peer-reviewed \\npublications\\nThe Duchenne Registry [16] (formerly \\nDuchenne Connect, 2007), 5k+Duchenne or Becker muscular dystrophy Non-profit ownership with commercial \\ndelivery partners, global (115+ countries), \\ncharitably fundedMobile app, genetic testing, recruitment for \\n100+ studies, patient-entered data, EHR \\nintegration, clinical integration, industry \\npartnership, platform trial, harmonization to \\nTREAT-NMD\\nInternational Niemann-Pick Disease Registry \\n[17] (INPDR, 2014), 300+Acid sphingomyelinase deficiency (types A \\nand B) and Niemann–Pick disease type CNon-profit ownership with commercial \\ndelivery partners, available in 9 countries, \\nEU grant funded with industry supportWeb app platform, clinical records for \\ndiagnostics, genetics, and outcome data; \\npatient-generated health data by patient and/\\nor caregiver(s)\\nGaucher Registry for Development, \\nInnovation & Analysis of Neuronopathic \\ndisease [18] (GARDIAN, 2022) N = 30Type 2 and 3 (neuronopathic) Gaucher disease Non-profit ownership with commercial \\ndelivery partners, available globally in 8 \\nlanguages, industry fundedWeb app platform, surveys, patient-reported \\ndiagnosis (verified by professional) and \\npatient/caregiver-reported clinical data, \\nexamining PROs, clinical phenotypes, drug \\nuse, and impact on caregiver\\nPoland Syndrome Community Register [19] \\n(2022) N = 227Poland syndrome Non-profit ownership with commercial \\ndelivery partners, available in English, \\ncharitably fundedWeb app, surveys, patient/caregiver-reported \\ndata, surveys\\nPROs, SF-36, medical history, and \\ndemographics recorded188 P .\\xa0Wicks et al.\\nTable 2  Traditional origins for different types of registry (or similar concepts) and common terms. Definitions are not always used consistently over time, geographies, and disease areas\\nEMA European Medicines Agency, FDA  Food and Drug Administration, PCORI Patient-Centered Outcomes Research Institute, PPRNs Patient-Powered Research NetworksTerm Definition Notes\\nDisease/clinical registry (e.g., CDC ALS Registry [20]) Interactive database that collects, organizes, and displays \\nhealthcare information with an emphasis on the natural \\nhistory of disease in a real-world setting. Not restricted to \\none drug or medical device, can capture “off-label” useTypically originate at a hospital, group of hospitals, or from \\na multinational specialist consortium of researchers. More \\nlikely to use health record data or physician-reported data \\nrather than allowing patient-generated health data or social \\nnetworking. Outputs published in journals but slowly\\nProduct registry (Hunter Outcome Survey [8]) Database about patients taking a particular drug product \\nwith the objective of gathering outcomes and potentially \\ndemonstrating “real-world efficacy” of an interventionTypically originates from an industry sponsor, health system, \\nor consortium. Data are typically only shared for that \\nsponsor’s purposes (e.g., regulatory filing, health technology \\nassessment, partnership with allied doctors)\\nSafety registry (e.g., Tysabri pregnancy exposure registry \\n[21])Ongoing database developed to fulfill a pharmacovigilance \\nregulatory obligation, such as tracking cases of an adverse \\nevent for the regulators (e.g., EMA or FDA)The focus may often only be on drug side effects with relatively \\nlittle data about the patients themselves. Tends to be specific \\nto a region like the USA. Often shut down once the product \\ngoes generic or leaves the market, data typically not shared \\nwidely\\nDevice registry (e.g., deep brain stimulation for Tourette’s \\nsyndrome [22])Focused on tracking the safety and effectiveness of medical \\ndevices (e.g., surgical implants) once they are on the market \\n(“post-market surveillance”)Can help determine the need for product upgrades and recalls, \\nmay be important in litigation\\nRegistry-based study (e.g., effect of rheumatoid arthritis drugs \\n[23])Investigation of a research question using the data collection \\ninfrastructure or patient population of one or more patient \\nregistriesThis might be a clinical trial or an observational study run \\nthrough the registry itself, and might either be a secondary \\nanalysis of existing registry data or new primary data\\nBiobank (e.g., Department of Veteran Affairs Biorepository \\nBrain Bank [24])The combination of a registry with biological samples such as \\nsaliva, blood, or biopsy samples or processed biological data \\nsuch as DNA sequencesParticularly useful in conditions with causative genetic \\nmutations or to identify potential biomarkers of disease. \\nBecause of the expense and complexity, sample sizes tend to \\nbe small and localized\\nOnline community/forum (e.g., breast cancer Facebook group \\n[25])Digital tool that allows for synchronous or asynchronous \\ninteraction between users, primarily focused on social \\ninteraction and support with minimal objective data featuresTypical examples include Facebook groups or threaded bulletin \\nboard messaging platforms. Such tools typically are unable \\nto generate quantitative data that can be used for research but \\nmay be used for a qualitative text analysis or as a recruitment \\ntool for surveys\\nPatient-powered research network (e.g., PatientsLikeMe \\nneuromyelitis optica community [26])Patient-focused registry with online components that may \\nincorporate patient-reported outcome measures, electronic \\nhealth records, social features, and mobile appsPPRNs are often run by patients and caregivers themselves, or \\nthey have more decision-making influence than traditional \\nregistries. From 2009 a US funding body, PCORI, helped \\ndevelop around 30 such networks189\\nSo You Want to Build Your Disease’s First Online Patient Registry\\nthe decisions you make at an early stage will become hard \\nto change later on. If the data you gather have no path of \\nbecoming information needed to guide decisions, it is just \\nbeing conducted for curiosity’s sake.\\n4  Technical Considerations\\nEarly registries in the 1990s may once have been simple \\ndatabases on the hard drive of a spare computer in a clinic. \\nToday, most registries use cloud-based systems that allow \\nfor a greater degree of robustness against accidental data \\nloss but also enable a variety of programs and services. \\nFor example, an academic clinical researcher might need \\na data dashboard that displays anonymous aggregate-\\nlevel data to perform a statistical analysis. A patient \\nmight need a mobile app on their smartphone that collects \\nquestionnaires on a regular basis and syncs up with their \\nsmart watch. The non-profit running the registry may need \\na series of administrative tools that allow maintenance, \\nsoftware upgrades, or to set the permissions for other \\ncategories of user. Each of these users has a slightly \\ndifferent set of requirements and permissions to access \\nor modify the registry data, but they also share some \\ncommon requirements. They will have certain expectations \\nthat the software they use will be responsive, will work \\non a variety of devices (such as a tablet, smartphone, or \\ndesktop web browser), that it will be secure, and that it \\nwill conform with their local laws and regulations. Certain \\ntypes of data, such as brain imaging files or whole genome \\nsequencing data, can be very large and can only be usefully \\naccessed with specialist software. A large amount of data \\ncan also be confusing (for any user) and might need to be \\ncontextualized by visualizing it as a chart or timeline of \\nsome type.\\nThe most important users are the registry participants \\nthemselves and they will have their own needs and \\nexpectations. Depending on the condition they have, they \\nare also likely to have a range of accessibility requirements \\nsuch as adjustable font sizes, high-contrast modes for \\nvisual contrast issues, and compatibility with screen \\nreaders or assistive and augmentative communication \\ndevices [27]. For many conditions, it might be important \\nfor data from or about a patient to come from one or more \\ncaregivers, for example, one or more parents or other \\ncaregivers. While there is an increasing expectation that \\n“there’s an app for that”, smartphone users risk being \\noverwhelmed by the range of notifications, permissions, \\nand settings that need to be managed when controlling \\ntheir health data. There are also additional privacy \\nconcerns when their personal devices host sensitive \\nhealth data when that device might be shared with other \\nfamily members. Finally, there is a risk of widening the digital divide when relying only on the latest most \\nexpensive versions of hardware that are not available to all \\nparticipants equally. Throughout the development of any \\nregistry, it is important to use a “human centered design” \\napproach and continually gain feedback from the different \\nstakeholders that will power your registry [28].\\nWhile a full discussion of registry technology is \\noutside the scope of this article, there are a few high-level \\nconsiderations to bear in mind (see Table\\xa0 3). Broadly \\nspeaking, most registries are either bespoke (i.e., built just \\nfor you by a development team) or on a platform (i.e., a \\ncommon core of generic features with some optional \\ncustomization for your purposes from a menu of choices). \\nWhile bespoke registries can be cheaper to develop initially \\nand give more perceived control, there is a risk of being \\nreliant on a very small team of individuals that know how \\nit works and can make changes. Adding features like a \\nmobile app or clinical trial modules could be too significant \\nan undertaking for the team that originally built a simple \\nweb-based data collection tool, and there is a risk of the \\ncode becoming out of date as browsers and mobile devices \\nevolve. If key individuals leave, the company closes, or there \\nis a change of control, it might become more challenging to \\nmaintain control. Conversely, a platform-based registry may \\nbe more expensive upfront but will already cover some of the \\nbasic technical considerations and have a more intuitive user \\nexperience. They may also offer useful features that allow \\nstakeholders to gain value from the registry much faster. \\nIn either case, there is a risk of “vendor lock-in” where it \\nbecomes harder to transfer your data and your community \\nfrom one data environment to another in the event your \\nneeds change. A common complaint for either bespoke or \\nplatform-based registries is the presence of “bugs” and a \\nmonths-long waiting period before the implementation of \\nwhat seem like relatively small upgrade requests.\\n5  Data Collection Considerations\\nYou have probably noticed that various questionnaires you \\ncomplete ask you about the same thing in different ways, \\nwhether it is the order in which you are asked for a date (e.g., \\nDD/MM/YY vs MM/DD/YYYY) or whether you enter your \\nheight in inches or centimeters, everybody seems to do it a \\nlittle differently. That is annoying in daily life, but it can be \\ncrucial when it comes to designing a patient registry. Unlike \\nwhen you hand a piece of paper over to a human and they \\ncan check for errors and ask what exactly you meant (e.g., \\ndid you mean to write that you were “5 foot 9” where you \\nhave put “59 inches”?), online data entry is typically a one-\\nshot process, so it has to be right the first time.\\nEven the way we ask users to enter things as simple as \\ntheir age (or date of birth), sex (and/or gender identity), 190 P .\\xa0Wicks et al.\\nand location can become complicated very quickly. When \\nit comes to entering dates about things that happened a \\nlong time ago many respondents will have to guess (hence \\na high proportion of dates entered as “January 1”). In \\ngeneral, the harder you make it to enter the right answer \\nthe more likely you will encounter errors in the data, or \\nyour participants will simply give up. While it can be \\nappealing to consider the participants’ doctors entering \\ndata on their behalf, in practice this is almost impossible \\nbecause of a lack of time in the brief clinical encounter \\nor information technology security policy restrictions on \\nhospital computers.\\nThe method of data structuring becomes more critical \\nas you consider with whom the data might be shared once \\nthey are collected. If you have a national registry then at \\nsome point you might want to compare your data with that \\nfrom another country. If you think a researcher, a regulator, \\nor a pharma company might want to look at your data, then \\nits quality will be much higher if you enforce some data \\nstandards, i.e., guidelines by which data are described and \\nrecorded. You do not have to invent these yourself, there \\nare existing standards like Logical Observational Identifier \\nNames and Codes, which describe laboratory tests and their \\nresults, or International Classification of Diseases codes; \\nhowever, these standards do not apply across all types of \\ndata that might be collected as part of a registry, and many \\nrare diseases do not yet have an International Classification \\nof Diseases code.\\nAt a minimum, organizations should keep a record as to \\nhow data were collected and structured to allow for technical \\nintegration and/or further configuration down the road. If \\nyour registry has plenty of explanatory text on web pages or \\nuses branching logic, it is best practice to build a “codebook” \\nshowing how the data are entered, validated, and what the \\nuser sees, preferably with screenshots, and to keep it updated \\nas you make changes to data entry screens. That way if you \\nchange something on the website in the future, you can \\nunderstand why you might be seeing changes or errors in \\nthe data. In our earlier example of height, perhaps we started \\nout with an “open text box,” but then in a later version we \\nmade people choose to enter units as either centimeters or \\nfeet and inches. In a further iteration, we might decide to \\nreduce the likelihood of out-of-range data by giving users a \\ndropdown menu that only lists \"feasible” heights (bearing a \\nfew unusual “edge cases” in mind, such as children, outliers \\nat both ends, or even amputation).\\nIf trying to merge or compare two or more different \\ndata sets, then considerable effort might go into “data \\nharmonization,” i.e., deciding on which approach to \\nprefer when comparing two datasets. A data scientist can \\nhelp automate these rules so that you can compare those \\ndatasets more rapidly in the future, but it would be better \\nto start with the same standards. In some conditions, an Table 3  Summary of approaches to registry development (non-exhaustive)\\nIT information technologyApproach Description Advantages Disadvantages\\nBuild Develop IT skills within an organization (e.g. front-\\nend, web app development, community management, \\nback-end database management, data science) and own \\nongoing responsibilityTotal control of development, data, and commercial \\noptions. Customization to fit needs, staff development, \\nincorporation of registry at core of operations, can \\ndevelop at own paceTime, skills gap, management of multiple IT professionals, \\nlack of skilled oversight, competitive job market for \\nskilled professionals, regulatory/compliance overhead\\nBuy Conduct a tendering process for a third party to be paid to \\ndevelop and maintain a registry under contractFaster, control, partial customization, working with skilled \\nprofessionals, up to date with industry standards, fewer \\nstaff commitmentsExpensive, few independent developer studios have relevant \\nexperience, can be sensitive to scope creep, procurement \\nis complex, vendor lock-in\\nBorrow Agree to manage registry on an existing platform at low or \\nno cost, typically in exchange for provision of software \\n(and/or a share of revenue)Fastest option, many decisions already set as default or \\nadmin-able options at set-up, leverage experience with \\nsimilar platforms, benefit from marketing footprint, can \\nbe maintained by skeleton crew, not reinventing the \\nwheelLack of control and leverage over platform. Difficult to \\n“lift and shift” community if functionality degrades or \\nrelationship turns out poorly. Slow to respond to bugs and \\nnew feature requests191\\nSo You Want to Build Your Disease’s First Online Patient Registry\\norganization like the International Consortium of Health \\nOutcomes Measurement or a consortium specific to your \\ndisease might have already done the work to define a “Core \\nmeasure set” or “common data elements.” This can be a slow \\nand deliberative process that takes place over several years \\nthough, so do not be surprised if nobody’s done that work \\nyet in your field, but it is worth asking around because there \\nmay well be such a project underway.\\nOne group created a comprehensive patient registry \\nsoftware systems checklist called CIPROS [29]. It may not \\nbe necessary to go into this level of detail when just starting \\nout, but it could help structure the questions you want to \\nask of potential registry vendors as you work through your \\noptions. The European Cystic Fibrosis Society Patient \\nRegistry also published an extensive “lessons learnt” \\nfocusing on the collection, use, and improvement of data in \\ntheir registry in an open-access publication [13].\\n6  Data Governance, Privacy, and\\xa0Security\\nData governance remains the cornerstone that enables \\npatient registries to thrive. Typically, data are subject to \\nthe regulations of the country in which they are collected, \\nwith some countries requiring data collected about their \\ncitizens to be housed within that country. For those wishing \\nto host a multi-national registry, there are some cloud-based \\nsolutions that allow you to specify a “hosting country”, or \\nyou might narrow eligibility to individuals in a specific \\ncountry. Similarly, data collected about individuals who \\nlive in countries in which the European Union’s General \\nData Protection Regulation is in effect are beholden to the \\nGeneral Data Protection Regulation (in addition to local \\nlaws) regardless of the location of the organization collecting \\nthe data [30].\\nOne regulation to be aware of when operating within the \\nUSA is the Health Insurance Portability and Accountability \\nAct. The Health Insurance Portability and Accountability \\nAct applies to the transfer of protected health information \\nfrom one covered entity to another, i.e., health plans, \\nhealthcare clearing houses, and certain healthcare \\nproviders [31]. While the Health Insurance Portability and \\nAccountability Act does not typically apply to a registry or a \\nplatform for which an individual shares their data, users may \\nstill have specific expectations with regard to the privacy and \\nsharing rights applicable to their data.\\nConsent governs your permission to collect and store \\ndata, and to get in touch with your participants for the \\npurposes of marketing, recontact, or invitation to a specific \\nstudy. It may be efficient to try and secure ”broad consent” \\nfor all of these potential use cases when they first register to \\navoid needing to go back and “re-consent”. However, there is growing push back against consenting individuals in this \\nmanner [ 32], with a move towards “dynamic consent”, for \\nwhich individuals are given more control over the use of \\ntheir data on a case-by-case basis. The consequences of \\nthis more specific consent, however, will be more complex \\nadministration, reduced interoperability, and potentially \\nlower sample sizes for specific studies.\\nTruly informed  consent should ensure that each individual \\npatient understands who the guardian of the data is and how \\ndecisions are made about access and use. Some patients’ \\ngroups may involve a third-party vendor (e.g., contract \\nresearch organizations) that are for-profit entities that \\nmanage the risk of holding and analyzing or reporting on \\nthe data. This has value to ensure the smooth operations, \\nprocessing, and ownership of data within a legal framework, \\nbut ultimately patient groups should remain the “data \\nowner”. They should have transparent rules and processes \\nin place specifying under which predetermined criteria that \\nanonymized and aggregated data might be shared with third-\\nparty organizations such as clinicians and academics for \\nresearch purposes, regulators and reimbursement agencies \\nfor drug evaluation purposes, and pharmaceutical or medical \\ndevices companies for drug/device development.\\nAnticipating these data scenarios will allow for careful \\nconsideration of the informed consent and commercial \\narrangements to be put in place. All such financial \\narrangements should be made publicly available in a \\n“declaration of interest statement” that is kept up to date. \\nOne common approach to ensure good data governance is \\nto create a “data access committee” that convenes several \\ntimes a year and is responsible for evaluating each data \\nrequest received. Such a committee should include key \\nopinion leaders in the field to ensure the scientific value \\nof each request, patient advocates to represent the needs \\nof the patients, and independent methodologists. While \\nUS and European Union regulators are considering which \\nregulations might enforce such best practice consistently, for \\nthe time being, a well-governed data control process remains \\nparamount for maintaining the trust of the community.\\nBeyond focus on informed consent, running a patient \\nregistry will also require you follow laws and standard \\npractices to ensure your data are stored securely. For \\nexample, the National Institute of Standards and Technology \\noffers standards on implementing what is called Zero Trust  \\nas an architecture that considers potential risks of your \\nregistry data. These standards also support implementing \\nworkflows to ensure your organization is prepared and \\ntrained to protect sensitive health data of your registrants \\n[33]. Furthermore, you will need to learn the basics of how \\nto properly encrypt the database of your registry, and ensure \\nthere are clearly defined internal control policies to access \\nthe data in ways that honor the consent model entrusted by \\nyour registrants [34].192 P .\\xa0Wicks et al.\\n7  Building a\\xa0Research Agenda\\nBefore you develop a registry, it is useful to develop a \\nresearch agenda. A simple heuristic is something we call \\n“The Rumsfeld Research Agenda”. Based on a famous \\nquote [35], the questions that are “knowns knowns” \\ndescribe your sample and assess how it compares to the \\nscientific literature. If you have a large and relatively \\nunbiased method of recruiting participants, then we might \\nfind that the participants in your registry are very similar \\nto those reported in the published scientific literature. For \\nexample, in an analysis comparing 10,255 members of \\nthe PatientsLikeMe multiple sclerosis registry with 4039 \\nmembers of a specialist academic center database, the \\ntwo samples were similar on age, age at onset, disease \\nduration, gender ratio, family history, race, MS subtype, \\nand even education level. However, owing to the large \\nsample sizes, these were statistically significant differences \\nand reflected the fact that PatientsLikeMe members were \\nrecruited via social media sites like Facebook, which tend \\nto skew younger and more female [36]. While somewhat \\nuninteresting that the data were fairly similar to another \\ndata source, this is an important cornerstone to understand \\nany bias in the data you are collecting. If you were to skip \\nthis step and just start discovering “unknown unknowns” \\nfrom the outset, then you would face inevitable questions \\nof bias that might result from online methods [37].\\nOnce you have established the representativeness of \\nyour sample, the next step is to study “known unknowns” \\n[35]. A patient registry lowers the barriers to answer \\nresearch questions that are obscure, under-researched, \\nwould be challenging to fund, or represent a long-\\nstanding gap in the literature. Within the PatientsLikeMe \\nMS community, a survey on the impact of menopause \\nin women with MS on their symptoms was able to \\nquickly recruit N  = 513 respondents and established that \\npostmenopausal status, surgical menopause, and earlier \\nage at menopause were associated with more severe \\nsymptoms [38]. The clinical-scientific collaborators on \\nthis study had been interested in the topic for many years \\nbut because it crossed multiple disciplines, was in the \\nhistorically under-funded domain of women’s health, and \\nhad no direct impact on treatment, the study was otherwise \\nchallenging to conduct. This work has now been cited by \\nother peer-reviewed articles over 40 times and informed \\nseveral follow-up studies and systematic reviews. In this \\ncase, the “female bias” in the sample revealed by the \\nearlier study was an advantage, not a limitation.\\nFinally, your registry can be a jumping-off point for \\nhypothesis generation, innovation, and a rich foundry for \\n“unknown unknowns” [35]. Registries have unexpectedly \\nrevealed that cancer drugs worked faster than the pharma company that made them noticed [39], been the launchpad \\nfor patient-led drug trials, [40] spawned dozens of \\noffshoots in other countries [41], connected families to \\ngenetic counselors (e.g., https:// www. duche nnere gistry.  \\norg/), and become the basis for auditing the quality of \\ncare [42].\\n8  Commercialization and\\xa0Sustainability\\nA registry can only be sustained if it generates revenue or \\nsecures larger donations. While grants have historically \\nbeen a major funding source for starting registries, these \\nare time limited. When the grant comes to an end, then \\neither the data capture or maintenance of the registry \\ncomes to an end, or the work becomes reliant on the \\nunpaid (and finite) good will of the host organization. \\nBecause this is a risky position, most funders now ask for \\nsustainability plans through strategic partnerships such as \\nwith pharmaceutical and biotech partners (see Table\\xa0 4).\\nRegistry costs to consider include staff time (i.e., \\nmanagement, product management, front end user \\ninterface, back end database development, quality \\nassurance testing, infrastructure operations), platform \\nmaintenance and upkeep, recruitment support and \\ninitiatives, community moderation, marketing, and web \\nhosting. This is without analysis and reporting costs, or \\nefforts to publish and disseminate results. Therefore, there \\nis no truly “free” service. There are, however, a variety of \\nregistry providers with various business models tailored \\nto the organization. Some provide a free platform for \\nadvocacy organizations and use shared data ownership to \\nhelp them recover the costs of maintaining the platform. \\nOther platforms, like REDCap, charge organizations a \\nsmall fee for long-term programs and for support services \\n[43]. Still others charge organizations a licensing fee \\nfor use of the platform, but do not require shared data \\nownership. Depending on the organization’s needs, it \\nmay be possible to offset the licensing fees through data \\nsharing or a similar agreement. At the time of writing, \\ncommercial providers of patient registries include (in \\nalphabetical order and with no implied endorsement) \\nAparito, ArborMetrix, Clinical Pursuit, CorEvitas, IQVIA, \\nInvitae, Luna, OM1, PatientsLikeMe, Pulse Infoframe, \\nSano Genetics, Syneos, and Thread Research, amongst \\nothers. There are also non-profit organizations such as the \\nNational Organization for Rare Disorders  IAMRARE® \\nregistry program or the Rare-X data platform.\\nAnother method organizations use to secure support \\nfor their work is to have a “corporate circle” or other \\nmembership scheme through which organizations solicit \\nsponsorship from several relevant for-profit partners \\nthrough which they maintain the registry. Examples 193\\nSo You Want to Build Your Disease’s First Online Patient RegistryTable 4  Summary of potential commercial approaches to sustainability (non-exhaustive)\\nEU European Union, NIH National Institutes of Health, NIHR National Institute for Health and Care Excellence, CROs Contract Research OrganisationsApproach Description Advantages Disadvantages\\nInitial set-up grant Multimillion USD institutional funding from \\ne.g., NIH, NIHR, large charities, EU Horizon \\nfundingSignificant capital bolus and initial burst of \\nenergy, interest, resources, grant writing \\nconsultants available for supportGrant writing is arduous, complex coordination, \\nreporting requirements, limited flexibility to \\nchange direction, usually goes to academics\\nUse a third-party platform to host registry Avoid costs by running registry through \\na commercial provider who manage the \\nplatformFree at point of development, access to \\nadvanced features, continuous upgradesLimited ability to share in revenue upside, vendor \\nlock-in, lack of control, data ownership\\nCost recovery on academic grants Charge a fee to academic / clinical partners as \\npass-through costs on their grants when they \\nuse your registry data for researchRespectable funding source, proportionate to \\noutput, associated with scientific outputsUnpredictable and low overall chance of success \\nfor any single grant, may require upfront work \\nthat is not funded, only covering costs or low \\nmargin\\nSingle-sponsor pharmaceutical funder A single sponsor steps in to take on all set-up \\ncosts and a fixed window of maintenance in \\nexchange for access/control rightsAccess to depth of expertise and network, rapid \\nfunding decision, significant capitalMay insist on excluding competitors, loss of \\ncontrol, perceptions of bias, lose interest at end \\nof product patent life\\nMultiple-sponsor “corporate circle” Two or more sponsors collaborate in a managed \\nconsortium for initial funding or access to \\ndata and servicesDiversified income, multiple perspectives, less \\nperception of bias to a single organization, \\nmore funds availableComplex political management, corporate desires \\ncan dominate priorities, potential regulatory/\\ncompliance issues\\nFee for service Charging market or commercial rates for \\nservices such as clinical trial referral, market \\nresearch surveys, data extracts, and reportsProportionate to output, opportunity for \\nsignificant revenue from multiple sources, can \\nfund growthRisk of survey fatigue, need trained staff to \\ndeliver high-quality services, competing with \\ncommercial CROs, claiming attribution194 P .\\xa0Wicks et al.\\ninclude the American Association of Kidney Patients and \\nNephCure Kidney. This method of sponsorship may be \\nmost relevant for organizations working in one or multiple \\nconditions in which several pharmaceutical or biotech \\ncompanies have an ongoing interest. Where there is only \\na single pharmaceutical sponsor responsible for funding, \\ndeveloping, and maintaining a registry, there is a risk that \\nbecause of their interests and regulatory constraints that \\ndata will be restricted only to their products. In the longer \\nterm as more therapeutic options emerge, this may lead \\nto a fragmentation of data. In addition, pharmaceutical \\ncompanies can undergo many changes such as changes in \\ntherapeutic focus, the exhaustion of a patent, or corporate \\nchanges of control. Therefore, reliance on a single \\npharmaceutical sponsor presents an additional risk.\\nAside from unrestricted financial support, many registries \\noperate on a fee-for-service basis for more transactional \\nservices such as data access, advertising, academic research \\npartnerships, and consulting services. It can be helpful to \\nlook at other resources in your space such as biobanks or \\nother repositories and ask about their costing structure, \\nwhich might include set-up fees, data licenses, and a variable \\nfee depending on the number of participants, depth of data, \\nand any additional support services needed billed out at an \\nhourly rate.\\nUse caution and carefully evaluate the tools that you \\nchoose to run your registry. While some platforms use \\nadvertising revenue to support their platform, this can be \\nproblematic. While a simple business model, platforms may \\nhave little control over which ads they serve through an ad \\nnetwork, and the most common ads in the health space are \\neither direct-to-consumer pharmaceutical ads (which may \\nbe restricted by global compliance regulations to certain \\nterritories) or may be for complementary and alternative \\nmedicine approaches with limited evidence of utility. The \\ntechnology involved in targeting ads may also lead to greater \\nprivacy concerns for your users. As you evaluate which tools \\nto use, consider how you negotiate with platforms to ensure \\nthe digital rights to data in your community are preserved. \\nOne such framework for evaluating and negotiating with \\nplatforms is provided by the Light Collective (https:// light  \\ncolle ctive. org/ trust/).\\nMany registries field surveys on behalf of academics, \\nagencies, or pharmaceutical companies, and again it \\nis important to consider the potential burden on your \\npopulation, the potential for survey fatigue, and whether \\nyou will need to assist in the design, improvement, or \\nimplementation of a survey. Even a questionnaire assembled \\nby clinical or research experts might benefit from patient \\nexpertise, which is a valuable service in itself. Where \\nacademics are writing grants, they may not yet have the \\nfunding in hand, but you should provide a quote to allocate \\nto their budget. In general, a given grant has only a 5–10% chance of being accepted, so if the volume of such requests \\nis becoming unmanageable it would be reasonable to either \\noffer only a standard menu of service offerings or to charge \\nfor the time involved in making estimates. If pressed, \\nresearchers often do have access to patient and public \\ninvolvement grants or may have discretionary research \\nfunds. After all, if 90% of the time your work supporting \\ntheir grant writing will be in vain, then this may not be the \\nbest use of your time in the long term. Finally, there is the \\npotential for generating revenue specifically by offering \\n“consulting services” around engaging your community on \\nbehalf of your organization. Many nonprofit organizations \\ngive this away freely because they want sponsors to engage \\nin their space, but in many cases, there are layers and layers \\nof agencies, consultancies, data brokers, and advisors, all \\nof whom are being paid. It would be illogical that those \\nworking (or volunteering) for a non-profit organization \\nare the only agents in such activity not being paid for their \\ncontribution.\\nSome organizations have successfully built registries \\nthat facilitate paid participant engagement in clinical trials \\nand/or market research, such as the COPD Foundation’s \\nPatient-Powered Research Network [44]. Quality of \\nengagement is valuable and should be reflected in the fees \\ncharged. Sponsors may wish to pay only for those potential \\nparticipants that are randomized into a trial; however, \\nmany well-qualified leads you refer to them will either \\nbe rejected for inclusion/exclusion criteria beyond your \\ncontrol or may be lost to follow-up because of issues at \\nthe site like responding to enquiries in a timely manner \\n[45]. Therefore, you might wish to structure access on the \\nbasis of a flat fee for a messaging campaign, or based on \\nthe number of message opens or “click throughs” rather \\nthan enrollments, which are beyond your control. This is \\nalso important because typically a sponsor will go to many \\nrecruitment sources all at once, and there may be duplicates \\nin registrations across the vendors. For example, a potential \\ntrial enrollee “A” may be contacted through “ad agency X’s” \\ne-mail campaign and then again through “hospital trial site \\nY’s” Facebook ad campaign, but then finally enrolls via your \\n“non-profit registry Z.” So, who gets the credit, who can \\nprove it, and who gets paid for participant A’s enrollment? \\nSometimes it is best to win this game by not playing it.\\nFinally, it is worth bearing in mind that commercial \\nproviders are charging above the level of mere cost recovery \\nand that this is widely accepted practice. Ultimately, you \\ncannot run your organization without resources, and you do \\nnot need to subsidize organizations who have endowments, \\nrevenues, and investors. If for some reason they lose interest \\nin a few years’ time, you will still be here, so will your \\nregistry, and so will your (rising) costs. If you are good at \\nsomething, never do it for free.195\\nSo You Want to Build Your Disease’s First Online Patient RegistryTable 5  Risks and mitigation strategies\\nGDPR General Data Protection RegulationRisk Description Possible mitigation strategy\\nCommunity engagement While an organization may be ready to build a registry, it does not necessarily mean \\nthe community is ready to engage. Onboarding and maintaining engagement in the \\ncommunity can be a full-time job that organizations do not anticipate. This role is \\ncritical, and turnover can impact community engagement. Similarly, communities \\nneed to be ready for a registry offeringConduct market research prior to launching a registry to understand community \\nreadiness, key messages that may resonate with the audience to encourage \\nparticipation. Assess staffing availability and resources available to promote \\ncommunity engagement. As much as possible, share the role of community \\nengagement across multiple team members and/or volunteers to prevent attrition if/\\nwhen changes in staff occur\\nPlatform delays Any technical product that is not off-the-shelf can face delays in development, from \\nthe build itself through to quality testing and data migration. These delays can be \\nsignificant and can impact your business plan if not properly accounted for in your \\ntimelinesDo not try and launch near holidays. Consider licensing a platform from a third-party \\nvendor, rather than attempting to build and maintain a platform in-house. While on \\nthe surface it can seem like a more expensive solution, it often ends up saving money \\nbecause of the ongoing support and platform maintenance a vendor will provide\\nChanges in key staff When building, there are several key staff members who can and should be involved: \\ntechnical, scientific, community engagement, and fundraising. Changes in these key \\nstaff positions can threaten the continuity of the programClear and comprehensive documentation of processes, goals, changes in the platform, \\nand changes relevant to data security (i.e., new privacy policies or regulations) is the \\nbest way to mitigate the loss of important institutional knowledge due to changes in \\nstaff\\nShifting internal priorities Internal targets and priorities can shift with new scientific developments, changes \\nin staff, and external influences. A registry is a long-term commitment requiring \\nleadership buy-in and staff commitment to its maintenance and growth, and therefore \\ncan fall victim to shifts in internal short-term prioritiesEnsuring the buy-in of all key decision makers prior to a registry launch is critical. A \\nregistry platform should also be sufficiently flexible to easily adapt to new areas of \\nfocus. For example, once a new treatment is discovered, a registry can be used to \\nmatch potentially eligible individuals to said treatment. Establishing comprehensive \\nrequirements for multiple use cases before a build commences is the best mitigation \\nagainst shifting priorities\\nShifting external priorities Creating a registry is committing to a long-term commitment that requires funding for \\nplatform maintenance, growth, and community engagement. If funding is secured \\nthrough a single avenue (i.e., industry grants), it can put your registry at risk should \\nthe funding source change their funding priorities, e.g., due to a failed drug trialThe primary goal for mitigating shifts in external priorities is to diversify the funding \\nsources. In addition to securing industry grants, individual donations, family \\nfoundations, and government grants may be available to help ensure the long-term \\nsustainability of the program. Philanthropic donors tend to prefer starting initiatives \\nover supporting existing initiatives\\nResearcher engagement While many researchers are more likely to engage with organizations that have an \\nestablished registry or community, having a registry does not guarantee researchers \\nwill engage with your organization or condition—they may even view you as \\ncompetitionAs they undertake a registry build, some organizations have also begun funding one or \\nmore researchers who are interested in their health condition. This ensures the data \\ncollected through the registry are used for their intended purpose and that research \\nmoves forward in the condition\\nChanges to data privacy standards The rollout of the GDPR in 2018 demonstrated the critical importance of \\nunderstanding the data privacy regulations within each geographic area of operation. \\nTypically, data are beholden to the regulations in which they are collected, and the \\nrequirements of each country (or state) vary widely. In addition, privacy regulations \\ncan influence the ability of registry owners to collaborate with research partnersUsing a third-party registry vendor can help organizations navigate various regulatory \\nenvironments as qualified vendors will have staff and/or external counsel assisting \\nthem to ensure adherence to all standards. Organizations that build their own platform \\nmay choose to only allow individuals from specific countries to join a registry and \\nshare their data, which helps to manage regulatory requirements, but can hinder \\nresearch progress. Users can also enter false data about where they are located\\nData quality/data analysis Every data set will have its biases, but when your registry is just starting it is likely \\nto be at its most unrepresentative. Early adopters may not be typical patients, \\nand recruiting through social media may bias younger and more female; “Word \\nof mouth” tends to attract similar users. The biases of your dataset might call \\nconclusions drawn from it into questionFollowing the “Rumsfeld Research Agenda” described earlier should help you \\nunderstand, and potentially minimize sources of bias. Try and do research iteratively in \\nsmall projects first, and reincorporate those learnings into a revised data capture plan. \\nInvite statisticians, epidemiologists, or population health researchers to your advisory \\nboard. Thoughtfully plan outreach to under-represented groups196 P .\\xa0Wicks et al.\\nTable 6  Further resources\\nAHRQ Agency for Healthcare Research and Quality, EU European UnionName Description URL\\nGenetic Alliance Registry Bootcamp A free resource from an experienced rare disease non-profit to \\nhelp organizations and communities set up and sustain their \\nown registryhttps:// regis  trybo otcamp. org/\\nRegistries for Evaluating Patient Outcomes: A User’s Guide: \\n4th Edition“The registry bible”, 426-page comprehensive US AHRQ \\nReport detailing registry planning, design, operations, and \\nanalysis as well as sections on common data elements, \\nstandardized outcome measurements, governance, \\nstakeholder engagement, ethics, privacy, informed consent, \\nand real-world evidencehttps:// effec tiveh ealth care. ahrq. gov/ produ cts/ regis  tries- guide- \\n4th- editi on/ users- guide\\nEuropean Medicines Agency—Patient Registries Directory of European Registry resources including searchable \\ninventory of existing registries, stakeholder collaboration \\nactivities, reports from registry workshops, and guidelines \\non registry studieshttps:// www. ema. europa. eu/ en/ human- regul atory/ post- autho \\nrisat ion/ patie nt- regis  tries\\nDevelopment of Harmonized Outcome Measures for Use \\nin Patient Registries and Clinical Practice: Methods and \\nLessons LearnedUS AHRQ Report on how to develop an Outcome Measures \\nFramework for registrieshttps:// effec tiveh ealth care. ahrq. gov/ sites/ defau lt/ files/ wysiw yg/ \\nwhite- paper- stand ardiz ed- libra ry. pdf\\nEuropean Network of Centres for Pharmacoepidemiology and \\nPharmacovigilanceSearchable inventory of disease registries in EU https:// www. encepp. eu/ encepp/ search. htm197\\nSo You Want to Build Your Disease’s First Online Patient Registry\\n9  Privacy Risks\\nIt is important to consider the very real risks of holding \\nhighly sensitive data. The trust of a community takes years \\nto earn, minutes to lose, and can take years to rebuild. In this \\nsection, we discuss how to mitigate the risk of community \\ndata misuse.\\nWe start with an example of how things can go wrong \\nquickly. Since 2013, the non-profit organization Crisis Text \\nLine has hosted a SMS text and social-media based suicide \\nhotline for people in a mental health crisis to get help. \\nAlthough the service provided support to millions of users, \\nsince 2017, a commercial partnership with the artificial \\nintelligence spin-off company Loris.ai used anonymized \\ndatasets of over 200 million messages extracted from the \\nservice to optimize the performance of customer service \\nchatbots. Critics questioned whether a 50-paragraph “terms \\nof use” agreement merited proper consent from people in \\nneed of urgent help, and the organization’s own volunteers \\nwere unaware of the data repackaging [ 46]. To avoid \\nsimilar issues yourself, it is worth using internal marketing \\ncampaigns, surveys, and user interviews to ensure there are \\n“no surprises” with how data are being used.\\nDecisions beyond your control can incur privacy risks \\ntoo. Technology platforms you adopt will inevitably want \\nto test new business models, particularly in response to \\nchanging privacy policies or leadership, but these may not \\nalways benefit the community. For example, many advocacy \\norganizations created Facebook Groups to provide social \\nsupport, reach an audience, and to grow their communities \\n[47]. However, because such tools prioritize “engagement” \\nthey may inadvertently reveal personal information by \\ndisclosing membership of a sensitive group such as \\nbeing a carrier for a disease-associated genetic variant. \\nTheir engagement algorithms may also inadvertently \\npromote misinformation [47]. While mainstream social \\nmedia platforms can support fundraising, connection, \\nand advocacy, they were not built with the same intent or \\nconstraints as true registries.\\nConsider the privacy issues that you create for your \\ncommunity over the long term. Many new or emerging \\nregistry tools may appear to be an “easy fix,” to reach your \\ncommunity. However the lack of rights to your collective \\ndata may quickly sow mistrust and even cause real harm, \\nas shown by patient groups who tried to emerge from using \\nFacebook as a lightweight registry [48]. Consider how a \\nthird-party platform may target ads to your community \\nor resell your community’s data [49], and consider how \\nsensitive data about your community can be leaked to third \\nparties or data brokers [50].\\nRegularly put yourself in the shoes of someone joining \\nyour registry today. Data have the potential to heal, but it also holds the power to cause harm when in the wrong \\nhands. With great power comes great responsibility. You \\nwill need to understand how to make sure the technology \\nand tools you use to implement your strategy are worthy of \\nyour trust, and the trust of your community. Consider your \\nrights to the data as you adopt any new technology, and \\nif you are uncertain, it is usually worth investing in legal \\ncounsel to help you understand your country’s health data \\nprivacy and compliance laws. There are additional potential \\nrisks to consider presented in Table\\xa0 5 along with ways to \\nmitigate them.\\n10  Conclusions\\nFor someone just starting their journey on developing \\na patient registry, this brief (but broad) education article \\nmay appear daunting. There is certainly the potential for \\ngreater depth and complexity behind any of the topics we \\nhave covered including data, research agendas, governance, \\nprivacy, sustainability, and mitigating the types of challenges \\nthat may appear, and we would encourage interested readers \\nto explore the references provided. Fortunately, this is now a \\nwell-worn path and you do not have to create every aspect of \\nyour registry from a blank slate. Increasingly, there are now \\na range of developers and software providers who can get \\nyou started much quicker than in the past, though continuity \\nand interoperability must always be primary considerations \\nwhen partnering with another organization.\\nTable\\xa0 6 details additional resources you can explore in \\ngreater depth and use as a starting point for developing your \\nown registry, but the most practical advice can always be \\nfound by connecting to other people who have built their \\nown registry in adjacent areas. It might be another pediatric \\nindication like yours, or a different form of cancer, or \\nsomeone who has developed a registry around a similar \\ndrug or device that might apply in your condition but for \\na different indication. Because technologies, regulation, \\nand funding opportunities are so dynamic, it is important to \\nconnect with those who have launched their own registries \\nrecently, ideally in the same territory.\\nWe leave the closing words to someone sharing their \\nlived experience, first as someone who has been through this \\njourney and emerged successfully on the other side (author \\nSF, Electronic Supplementary Material), and finally from a \\nparticipant themselves: “The register means a huge deal to \\nme, as a parent … it would be so incredible to have this data \\ncoming from our community that we  can then take to the \\n(health service), to the professions, to the organizations and \\nsay “this is what we know to be true about this condition”.198 P .\\xa0Wicks et al.\\nDeclarations  \\nFunding No specific funding was provided for this education \\narticle. SF’s organization PIP-UK and AD’s organization “The Light \\nCollective” received charitable donations from Wicks Digital Health \\nLtd in recognition of their time and effort.\\nConflicts of interest/competing interests PW is an associate editor \\nat the Journal of Medical Internet Research and is on the editorial \\nadvisory boards of the BMJ, BMC Medicine, The Patient, and \\nDigital Biomarkers. PW is employed by Wicks Digital Health Ltd, \\nwhich has received funding from Ada Health, AstraZeneca, Biogen, \\nBold Health, Camoni, Compass Pathways, Coronna, EIT, Endava, \\nHappify, HealthUnlocked, Inbeeo, Kheiron Medical, Lindus Health, \\nMedRhythms, PatientsLikeMe, Sano Genetics, Self Care Catalysts, \\nThe Learning Corp, The Wellcome Trust, THREAD Research, United \\nGenomics, VeraSci, and Woebot. PW and spouse are shareholders \\nof WDH Investments, Ltd., which owns stock in BlueSkeye AI Ltd, \\nEarswitch Ltd, Sano Genetics Ltd, and Una Health Gmbh. EHD is an \\nemployee of Aparito and owns stock in the company. Aparito provides \\nregistry software. LWE is an employee of Sano Genetics, a technology \\ncompany that provides registry software for third parties, including \\npatient advocacy organizations. She owns stock in both Sano Genetics \\nLtd and Antidote Technologies Ltd. SF is an employee of PIP-UK. AD \\nreports no conflicts of interest.\\nEthics approval Not applicable.\\nConsent to participate Not applicable.\\nConsent for publication Not applicable.\\nAvailability of data and material Not applicable.\\nCode availability Not applicable.\\nAuthor contributions All authors contributed to the manuscript \\nconception and design. The first draft of the manuscript was written by \\nPW and all authors commented on previous versions of the manuscript. \\nAll authors read and approved the final manuscript.\\nOpen Access This article is licensed under a Creative Commons \\nAttribution-NonCommercial 4.0 International License, which permits \\nany non-commercial use, sharing, adaptation, distribution and \\nreproduction in any medium or format, as long as you give appropriate \\ncredit to the original author(s) and the source, provide a link to the \\nCreative Commons licence, and indicate if changes were made. The \\nimages or other third party material in this article are included in the \\narticle\\'s Creative Commons licence, unless indicated otherwise in a \\ncredit line to the material. If material is not included in the article\\'s \\nCreative Commons licence and your intended use is not permitted by \\nstatutory regulation or exceeds the permitted use, you will need to \\nobtain permission directly from the copyright holder. To view a copy \\nof this licence, visit http:// creat iveco mmons. org/ licen ses/ by- nc/4. 0/.\\nReferences\\n 1. Gliklich RE, Leavy MB, Dreyer NA. Registries for evaluating \\npatient outcomes: a user’s guide. Fourth edition. Agency for \\nHealthcare Research and Quality (AHRQ); 2020. https:// effec  \\ntiveh ealth care. ahrq. gov/ produ cts/ regis  tries- guide- 4th- editi on/  \\nusers- guide. Accessed 9 Mar 2023. 2. Nelson EC, Dixon-Woods M, Batalden PB, Homa K, Van Citters \\nAD, Morgan TS, et\\xa0al. Patient focused registries can improve \\nhealth, care, and science. BMJ. 2016. https:// doi. org/ 10. 1136/  \\nbmj. i3319.\\n 3. Okun S, Goodwin K. Building a learning health community: by \\nthe people, for the people. Learn Health Syst. 2017;1: e10028.\\n 4. Bradley M, Braverman J, Harrington M, Wicks P. Patients’ \\nmotivations and interest in research: characteristics of volunteers \\nfor patient-led projects on PatientsLikeMe. Res Involv Engagem. \\n2016;2:33.\\n 5. Davis HE, Assaf GS, McCorkell L, Wei H, Low RJ, Reem Y, et\\xa0al. \\nCharacterizing long COVID in an international cohort: 7 months \\nof symptoms and their impact. eClinicalMedicine. 2021;38: \\n101019.\\n 6. Landfeldt E, Lindgren P, Bell CF, Schmitt C, Guglieri M, \\nStraub V, et\\xa0al. The burden of Duchenne muscular dystrophy: an \\ninternational, cross-sectional study. Neurology. 2014;83:529–36.\\n 7. European Medicines Agency. Patient Registries Workshop, 28 \\nOctober 2016. 2017. https:// www. ema. europa. eu/ en/ docum ents/  \\nreport/ report- patie nt- regis  tries- works hop_ en. pdf. Accessed 9 Mar \\n2023.\\n 8. Muenzer J, Jones SA, Tylki-Szymańska A, Harmatz P, \\nMendelsohn NJ, Guffon N, et\\xa0al. Ten years of the Hunter Outcome \\nSurvey (HOS): insights, achievements, and lessons learned from \\na global patient registry. Orphanet J Rare Dis. 2017;12:82.\\n 9. TREAT-NMD Neuromuscular Network. TREAT-NMD diseases: \\ndata and Information. 2022. https:// treat- nmd. org/ what- we- do/  \\ndata-  and- infor  mation/  treat-  nmd-  disea  ses/. Accessed 9 Mar 2023.\\n 10. Maelstrom. Multiple Sclerosis Metadata Collective: a \\ncollaborative effort of North American observational studies in \\nmultiple sclerosis. 2022. https:// www. maels  trom- resea rch. org/  \\nnetwo rk/ msmdc. Accessed 24 Oct 2022.\\n 11. Olmo CA, McGettigan P, Kurz X. Barriers and opportunities for \\nuse of patient registries in medicines regulation. Clin Pharmacol \\nTher. 2019;106:39–42.\\n 12. US Food and Drug Administration. Assessing registries to support \\nregulatory decision-making for drug and biological products \\nguidance for industry: draft guidance. 2021. https:// www. fda. gov/  \\nmedia/ 154449/ downl oad. Accessed 9 Mar 2023.\\n 13. Viviani L, Zolin A, Mehta A, Olesen HV. The European Cystic \\nFibrosis Society Patient Registry: valuable lessons learned on how \\nto sustain a disease registry. Orphanet J Rare Dis. 2014;9:81.\\n 14. Nowell WB, Merkel PA, McBurney RN, Young K, Venkatachalam \\nS, Shaw DG, et\\xa0al. Patient-powered research networks of the \\nAutoimmune Research Collaborative: rationale, capacity, and \\nfuture directions. Patient. 2021;14:699–710.\\n 15. Marrie RA, Cutter GR, Fox RJ, Vollmer T, Tyry T, Salter A. \\nNARCOMS and other registries in multiple sclerosis: issues and \\ninsights. The Consortium of Multiple Sclerosis Centers. Int J MS \\nCare. 2021;23:276–84.\\n 16. Rangel V, Martin AS, Peay HL. DuchenneConnect registry report. \\nPLoS Curr. 2012;4:1309.\\n 17. Bolton SC, Soran V, Marfa MP, Imrie J, Gissen P, Jahnova H, \\net\\xa0al. Clinical disease characteristics of patients with Niemann-\\nPick disease type C: findings from the International Niemann-Pick \\nDisease Registry (INPDR). Orphanet J Rare Dis. 2022;17:51.\\n 18. Collin-Histed T, Milce J, Reed S, Braham-Chaouche L, Jaffe D, \\nRevel-Vilk S, et\\xa0al. SA73 addressing unmet needs of patients with \\nneuronopathic Gaucher disease type 2 and type 3: creation of the \\nGARDIAN Patient Registry. Value Health. 2022;25:S497.\\n 19. PIP UK. Poland Syndrome Community Register. https:// pip- uk.  \\norg/ poland-  syndr  ome-  commu  nity- regis  ter. Accessed 25 Jan 2023.\\n 20. Rechtman L, Brenner S, Wright M, Ritsick M, Rahman F, Han \\nM, et\\xa0al. Impact of the National Amyotrophic Lateral Sclerosis \\nRegistry: analysis of registry-funded research. Ann Clin Transl \\nNeurol. 2022;9:1692–701.199\\nSo You Want to Build Your Disease’s First Online Patient Registry\\n 21. Friend S, Richman S, Bloomgren G, Cristiano LM, Wenten \\nM. Evaluation of pregnancy outcomes from the  Tysabri® \\n(natalizumab) pregnancy exposure registry: a global, \\nobservational, follow-up study. BMC Neurol. 2016;16:150.\\n 22. Deeb W, Rossi PJ, Porta M, Visser-Vandewalle V, Servello D, \\nSilburn P, et\\xa0al. The international deep brain stimulation registry \\nand database for Gilles de la Tourette syndrome: how does it \\nwork? Front Neurosci. 2016. https:// doi. org/ 10. 3389/ fnins. 2016.  \\n00170/ abstr  act.\\n 23. Padula AS, Pappas DA, Fiore S, Blachley TS, Ford K, Emeanuru \\nK, et\\xa0al. The effect of targeted rheumatoid arthritis therapeutics \\non systemic inflammation and anemia: analysis of data from the \\nCorEvitas RA registry. Arthritis Res Ther. 2022;24:276.\\n 24. Brady CB, Trevor KT, Stein TD, Deykin EY, Perkins SD, Averill \\nJG, et\\xa0al. The Department of Veterans Affairs Biorepository \\nBrain Bank: a national resource for amyotrophic lateral sclerosis \\nresearch. Amyotrophic Lateral Sclerosis and Frontotemporal \\nDegeneration. 2013;14:591–7.\\n 25. Kashian N, Jacobson S. Factors of engagement and patient-\\nreported outcomes in a stage IV breast cancer Facebook group. \\nHealth Commun. 2020;35:75–82.\\n 26. Eaneff S, Wang V, Hanger M, Levy M, Mealy MA, Brandt AU, \\net\\xa0al. Patient perspectives on neuromyelitis optica spectrum \\ndisorders: data from the PatientsLikeMe online community. \\nMultiple Scler Relat Disord. 2017;17:116–22.\\n 27. Lazar J, Goldstein DF, Taylor A. Ensuring digital accessibility \\nthrough process and policy. Amsterdam: Morgan Kaufmann/\\nElsevier; 2015.\\n 28. Goodwin K. Designing for the digital age: how to create human-\\ncentered products and services. Indianapolis: Wiley Publications; \\n2009.\\n 29. Lindoerfer D, Mansmann U. Data for the elaboration of the \\nCIPROS checklist with items for a patient registry software \\nsystem: examples and explanations. Data Brief. 2017;14:494–7.\\n 30. Voigt P, Von dem Bussche A. The eu general data protection \\nregulation (GDPR): a practical guide, vol 10. 1st ed. Cham: \\nSpringer International Publishing; 2017. p. 10–5555.\\n 31. US Department of Health and Human Services National Institute \\nof Health. To whom does the privacy rule apply and whom will it \\naffect? 2022. https:// priva cyrul eandr  esear  ch. nih. gov/ pr_ 06. asp#:  \\n~: text= Cover  ed% 20ent ities% 20are% 20defi  ned% 20in,which%  \\n20HHS%  20has%  20ado  pted%  20sta  ndards . Accessed 24 Oct 2022.\\n 32. Steinsbekk KS, KåreMyskja B, Solberg B. Broad consent versus \\ndynamic consent in biobank research: is passive participation an \\nethical problem? Eur J Hum Genet. 2013;21:897–902.\\n 33. Rose S. Planning for a zero trust architecture: a planning guide \\nfor Federal administrators. Gaithersburg (MD): National Institute \\nof Standards and Technology; 2022: Report No.: NIST CSWP \\n20. https:// nvlpu bs. nist. gov/ nistp ubs/ CSWP/ NIST. CSWP. 20. pdf. \\nAccessed 9 Mar 2023.\\n 34. Stine K, Dang Q. Encryption basics. J Am Health Inform Manage \\nAssoc. 2011;82:44–6.\\n 35. Wikipedia. There are known knowns. 2022. https:// en. wikip edia.  \\norg/ wiki/ There_ are_ known_ knowns. Accessed 9 Mar 2023. 36. Bove R, Secor E, Healy BC, Musallam A, Vaughan T, Glanz \\nBI, et\\xa0al. Evaluation of an online platform for multiple sclerosis \\nresearch: patient description, validation of severity scale, and \\nexploration of BMI effects on disease course. PLoS ONE. 2013;8: \\ne59707.\\n 37. Goodson N, Wicks P, Morgan J, Hashem L, Callinan S, Reites J. \\nOpportunities and counterintuitive challenges for decentralized \\nclinical trials to broaden participant inclusion. NPJ Digit Med. \\n2022;5:58.\\n 38. Bove R, Vaughan T, Chitnis T, Wicks P, De Jager PL. Women’s \\nexperiences of menopause in an online MS cohort: a case series. \\nMult Scler Relat Disord. 2016;9:56–9.\\n 39. Michelucci P, editor. Handbook of human computation. New \\nYork: Springer; 2013.\\n 40. Wicks P, Vaughan T, Heywood J. Subjects no more: what \\nhappens when trial participants realize they hold the power? BMJ. \\n2014;348: g368.\\n 41. Sheppard DN. The European cystic fibrosis patient registry: the \\npower of sharing data. J Cystic Fibrosis. 2010;9:S1-2.\\n 42. Schechter MS, Fink AK, Homa K, Goss CH. The Cystic \\nFibrosis Foundation Patient Registry as a tool for use in quality \\nimprovement. BMJ Qual Saf. 2014;23:i9-14.\\n 43. University of Florda Clinical and Translational Science Institute. \\nREDCap pricing. 2022. https:// www. ctsi. ufl. edu/ resea rch/ study-  \\ndesign- and- analy  sis/ redcap/ redcap- prici ng/. Accessed 24 Oct \\n2022.\\n 44. Thomashow B, Walsh J, Malanga E. The COPD Foundation: \\ncelebrating a decade of progress and looking ahead to a cure. J \\nCOPD F. 2014;1:4–16.\\n 45. Bedlack RS, Wicks P, Heywood J, Kasarskis E. Modifiable \\nbarriers to enrollment in American ALS research studies. \\nAmyotrophic Lateral Scler. 2010;11:502–7.\\n 46. Politico. Suicide hotline shares data with for-profit spinoff, raising \\nethical questions. 2022. https://  www.  polit  ico. com/  news/  2022/  \\n01/ 28/ suici de-  hotli ne- silic on- valley- priva cy- debat es- 00002 617. \\nAccessed 9 Mar 2023.\\n 47. Zhang S. Facebook groups as therapy. 2018. https:// www. theat  \\nlantic.  com/  techn  ology/  archi  ve/ 2018/  10/ faceb  ook-  emoti  onal-  \\nsuppo rt- groups/ 572941/. Accessed 24 Oct 2022.\\n 48. Prior R. This breast cancer advocate says she discovered a \\nFacebook flaw that put the health data of millions at risk. 2020. \\nhttps:// editi on. cnn. com/ 2020/ 02/ 29/ health/ andrea- downi ng- faceb  \\nook- data- breach- welln ess- trnd/ index. html. Accessed 24 Oct 2022.\\n 49. Ohlheiser A. Facebook is bombarding cancer patients with ads for \\nunproven treatments. 2022. https:// www. techn ology review. com/  \\n2022/ 06/ 27/ 10547 84/ faceb ook- meta- cancer- treat ment- ads- misin  \\nforma tion/. Accessed 9 Mar 2023.\\n 50. Feathers T, Fondrie-Teitler S, Waller A, Mattu S. Facebook is \\nreceiving sensitive medical information from hospital websites. \\n2022. https:// thema rkup. org/ pixel- hunt/ 2022/ 06/ 16/ faceb ook- is-  \\nrecei ving- sensi tive- medic al- infor  mation- from- hospi tal- websi tes. \\nAccessed 24 Oct 2022.'"
            ]
          },
          "execution_count": 6,
          "metadata": {},
          "output_type": "execute_result"
        }
      ],
      "source": [
        "raw_text"
      ]
    },
    {
      "cell_type": "code",
      "execution_count": 7,
      "metadata": {
        "colab": {
          "base_uri": "https://localhost:8080/",
          "height": 36
        },
        "id": "XiW_Y2RiIztY",
        "outputId": "5a05a9a6-2752-41e3-f357-554d497e6554"
      },
      "outputs": [
        {
          "data": {
            "text/plain": [
              "'V'"
            ]
          },
          "execution_count": 7,
          "metadata": {},
          "output_type": "execute_result"
        }
      ],
      "source": [
        "raw_text[:1]"
      ]
    },
    {
      "cell_type": "code",
      "execution_count": 8,
      "metadata": {
        "colab": {
          "base_uri": "https://localhost:8080/",
          "height": 36
        },
        "id": "7sg1lEnwI97X",
        "outputId": "3d51aadd-6a01-4333-e9a9-2c8fcab5479f"
      },
      "outputs": [
        {
          "data": {
            "text/plain": [
              "'Vol.:(0123456789)The Patient - Patient-Centered Outcomes Research (2023) 16:183–199 \\nhttps://doi.org'"
            ]
          },
          "execution_count": 8,
          "metadata": {},
          "output_type": "execute_result"
        }
      ],
      "source": [
        "raw_text[:100]"
      ]
    },
    {
      "cell_type": "markdown",
      "metadata": {
        "id": "pjRlPkmhJJ8r"
      },
      "source": [
        "#**Step 06: Split Text into Smaller Chunks**"
      ]
    },
    {
      "cell_type": "code",
      "execution_count": 9,
      "metadata": {
        "id": "wKLczYxSJAVU"
      },
      "outputs": [],
      "source": [
        " #Now we will split the text we read into smaller chunks so that during information retrieval we dont hit the maximum token limit\n",
        "#OpenAI models such as GPT 3.5 or GPT 4, have a maximum token limit, which restricts the input length.\n",
        "#The token limit for gpt-3.5-turbo is 4096 tokens, whereas the token limits for gpt-4-8k and gpt-4-32k are 8192 and 32768 respectively.\n",
        "\n",
        "textsplitter = CharacterTextSplitter(\n",
        "    separator = \"\\n\",\n",
        "    #chunk size of 1000 Token each and there is going to be an overlap of 200 tokens between the consecutive chunks\n",
        "    #first chunk 1000 charaters long, Next chunk will include last 200 charaters from the first chunk\n",
        "    chunk_size=1000,\n",
        "    chunk_overlap = 200,\n",
        "    length_function=len\n",
        "\n",
        ")"
      ]
    },
    {
      "cell_type": "code",
      "execution_count": 10,
      "metadata": {
        "id": "Lx2UtDtvJ7oy"
      },
      "outputs": [],
      "source": [
        "#Now to convert text into chunks we will use textsplitter\n",
        "texts = textsplitter.split_text(raw_text)"
      ]
    },
    {
      "cell_type": "code",
      "execution_count": 11,
      "metadata": {
        "colab": {
          "base_uri": "https://localhost:8080/"
        },
        "id": "GglCC0EHKJ7d",
        "outputId": "fb1e4639-bb32-4ad4-b833-a071f804cc35"
      },
      "outputs": [
        {
          "data": {
            "text/plain": [
              "103"
            ]
          },
          "execution_count": 11,
          "metadata": {},
          "output_type": "execute_result"
        }
      ],
      "source": [
        "len(texts)"
      ]
    },
    {
      "cell_type": "code",
      "execution_count": 12,
      "metadata": {
        "colab": {
          "base_uri": "https://localhost:8080/",
          "height": 140
        },
        "id": "DIVd7W99KMf4",
        "outputId": "587f8b49-3298-4f16-8488-29447ac95271"
      },
      "outputs": [
        {
          "data": {
            "text/plain": [
              "'Vol.:(0123456789)The Patient - Patient-Centered Outcomes Research (2023) 16:183–199 \\nhttps://doi.org/10.1007/s40271-023-00619-w\\nPRACTICAL APPLICATION\\nSo You Want to\\xa0Build Your Disease’s First Online Patient Registry: \\nAn\\xa0Educational Guide for\\xa0Patient Organizations Based on\\xa0US \\nand\\xa0European Experience\\nPaul\\xa0Wicks1 \\xa0· Lindsey\\xa0Wahlstrom‑Edwards2 \\xa0· Sam\\xa0Fillingham3 \\xa0· Andrea\\xa0Downing4\\xa0· Elin\\xa0Haf\\xa0Davies5 \\nAccepted: 22 February 2023 / Published online: 22 March 2023 \\n© The Author(s) 2023\\nAbstract\\nPatient registries fulfill a number of key roles for clinicians, researchers, non-profit organizations, payers, and policy makers. \\nThey can help the field understand the natural history of a condition, determine the effectiveness of interventions, measure \\nsafety, and audit the quality of care provided. Successful registries in cystic fibrosis, Duchenne’s muscular dystrophy, and'"
            ]
          },
          "execution_count": 12,
          "metadata": {},
          "output_type": "execute_result"
        }
      ],
      "source": [
        "texts[0]"
      ]
    },
    {
      "cell_type": "code",
      "execution_count": 13,
      "metadata": {
        "colab": {
          "base_uri": "https://localhost:8080/",
          "height": 140
        },
        "id": "MCjHDrZvKO2H",
        "outputId": "92816232-a295-4eeb-c5f5-7b0ff90654c0"
      },
      "outputs": [
        {
          "data": {
            "text/plain": [
              "'safety, and audit the quality of care provided. Successful registries in cystic fibrosis, Duchenne’s muscular dystrophy, and \\nother rare diseases have become a model for accelerating progress. However, the complex tasks required to develop a modern \\nregistry can seem overwhelming, particularly for those who are not from a technical background. In this Education article, \\na team of co-authors from across patient advocacy, technology, privacy, and commercial perspectives who have worked on \\na number of such projects offer a “Registry 101” primer to help get started. We will outline the promise and potential of \\npatient registries with worked case examples, identify some of the key technical considerations you will need to consider, \\ndescribe the type of data you might want to collect, consider privacy risks to protect your users, sketch out some of the paths \\ntowards long-term financial sustainability we have observed, and conclude with plans to mitigate some of the challenges that'"
            ]
          },
          "execution_count": 13,
          "metadata": {},
          "output_type": "execute_result"
        }
      ],
      "source": [
        "texts[1]"
      ]
    },
    {
      "cell_type": "code",
      "execution_count": 14,
      "metadata": {
        "colab": {
          "base_uri": "https://localhost:8080/",
          "height": 140
        },
        "id": "fNYLWBGEKQjL",
        "outputId": "bd337186-c142-411a-8502-0e4b90d3b278"
      },
      "outputs": [
        {
          "data": {
            "text/plain": [
              "'towards long-term financial sustainability we have observed, and conclude with plans to mitigate some of the challenges that \\ncan occur and signpost interested readers to further resources. While rapid growth in the digital health market has presented \\nnumerous opportunities to those at the beginning of their journey, it is important to start with the long-term goals in mind \\nand to benefit from the learnings of those who have walked this path before.\\n * Paul Wicks \\n paul@wicksdigitalhealth.com\\n1 Wicks Digital Health Ltd, Lichfield, UK\\n2 Sano Genetics, Cambridge, UK\\n3 PIP-UK, Stockport, UK\\n4 Light Collective, Eugene, OR, USA\\n5 Aparito Ltd, Wrexham, UK184 P .\\xa0Wicks et al.\\nKey Points for Decision Makers  \\nPatient organizations are frequently encouraged by third \\nparties to “build a registry” but are offered little guidance \\non whether that is the right decision, and if so, whether \\nto build, buy, or borrow one from a platform provider.'"
            ]
          },
          "execution_count": 14,
          "metadata": {},
          "output_type": "execute_result"
        }
      ],
      "source": [
        "texts[2]"
      ]
    },
    {
      "cell_type": "markdown",
      "metadata": {
        "id": "6AqKdg1YK0ua"
      },
      "source": [
        "#**Step 07: Download Embeddings from OpenAI**"
      ]
    },
    {
      "cell_type": "code",
      "execution_count": 25,
      "metadata": {
        "id": "AZucG_2rKnAc"
      },
      "outputs": [],
      "source": [
        "# For each of these chunks we need to compute the corresponding embeddings,  In order to compute embeddings for our chunks we\n",
        "#will be using open ai text embedding\n",
        "from langchain_openai import OpenAIEmbeddings\n",
        "embeddings = OpenAIEmbeddings()"
      ]
    },
    {
      "cell_type": "code",
      "execution_count": 26,
      "metadata": {
        "id": "uchSm1CJLW9z"
      },
      "outputs": [],
      "source": [
        "# We want to compute the embedding on our document, there is a bunch of vector stores that langchain support we will use FAISS\n",
        "# FAISS will take the text chunks, find the corresponding embedding and that will be stored in the Document Search\n",
        "docsearch = FAISS.from_texts(texts, embeddings)"
      ]
    },
    {
      "cell_type": "code",
      "execution_count": 29,
      "metadata": {
        "id": "7_eFteRNLoDj"
      },
      "outputs": [],
      "source": [
        "from langchain.chains.question_answering import load_qa_chain\n",
        "# from langchain.llms import OpenAI\n",
        "from langchain_openai import OpenAI"
      ]
    },
    {
      "cell_type": "code",
      "execution_count": 30,
      "metadata": {
        "id": "7MjHVkYKL8X0"
      },
      "outputs": [],
      "source": [
        "chain = load_qa_chain(OpenAI(), chain_type = 'stuff')"
      ]
    },
    {
      "cell_type": "code",
      "execution_count": 33,
      "metadata": {
        "colab": {
          "base_uri": "https://localhost:8080/",
          "height": 36
        },
        "id": "THHz6eNvMH4k",
        "outputId": "693e94ac-b19f-438f-b089-88ffa8456381"
      },
      "outputs": [
        {
          "data": {
            "text/plain": [
              "' Paul Wicks, Lindsey Wahlstrom-Edwards, Sam Fillingham, Andrea Downing, and Elin Haf Davies.'"
            ]
          },
          "execution_count": 33,
          "metadata": {},
          "output_type": "execute_result"
        }
      ],
      "source": [
        "query = \"\"\"Who are the authors of this paper - So You Want to Build Your Disease’s First Online Patient Registry:\n",
        "An Educational Guide for Patient Organizations Based on US\n",
        "and European Experience\"\"\"\n",
        "docs = docsearch.similarity_search(query)\n",
        "chain.run(input_documents=docs, question=query)"
      ]
    },
    {
      "cell_type": "code",
      "execution_count": 34,
      "metadata": {
        "colab": {
          "base_uri": "https://localhost:8080/",
          "height": 53
        },
        "id": "ClC3mY_TNGnv",
        "outputId": "0f519a90-1872-4758-93ed-7ff153cdf6aa"
      },
      "outputs": [
        {
          "data": {
            "text/plain": [
              "' This paper discusses the potential benefits and challenges of creating a patient registry for individuals affected by illness. The authors emphasize the importance of considering ethical and privacy issues, as well as ensuring the sustainability of the registry. They also highlight the potential for a registry to support individuals, communities, organizations, and scientific fields. '"
            ]
          },
          "execution_count": 34,
          "metadata": {},
          "output_type": "execute_result"
        }
      ],
      "source": [
        "query = \"can you summarize the paper\"\n",
        "docs = docsearch.similarity_search(query)\n",
        "chain.run(input_documents=docs, question=query)"
      ]
    },
    {
      "cell_type": "code",
      "execution_count": 35,
      "metadata": {
        "colab": {
          "base_uri": "https://localhost:8080/",
          "height": 36
        },
        "id": "Ly9W7hOkNhzA",
        "outputId": "3f8b7166-97b0-4da6-f0fb-f2659c34a7f2"
      },
      "outputs": [
        {
          "data": {
            "text/plain": [
              "'\\n\\nThere is no one \"best\" technique to create a patient registry, as it will depend on the specific needs and goals of the registry. However, some important considerations to keep in mind when creating a patient registry include privacy, interoperability, and the ability to move to another platform in the future. It is also important to consider the different requirements and permissions of various users, such as researchers, patients, and administrators. Ultimately, the best technique for creating a patient registry will vary depending on the specific context and goals of the registry.'"
            ]
          },
          "execution_count": 35,
          "metadata": {},
          "output_type": "execute_result"
        }
      ],
      "source": [
        "query = \"what techniques are best to create a patient registry \"\n",
        "docs = docsearch.similarity_search(query)\n",
        "chain.run(input_documents=docs, question=query)"
      ]
    },
    {
      "cell_type": "code",
      "execution_count": 36,
      "metadata": {
        "colab": {
          "base_uri": "https://localhost:8080/",
          "height": 36
        },
        "id": "Xlhm2WfONywi",
        "outputId": "f7662ffa-7363-4f19-c5a4-0ba6513466d3"
      },
      "outputs": [
        {
          "data": {
            "text/plain": [
              "' I am an AI and do not have personal knowledge or opinions about specific companies or products. I suggest conducting an online search or consulting with a relevant source for accurate information about Google Bard.'"
            ]
          },
          "execution_count": 36,
          "metadata": {},
          "output_type": "execute_result"
        }
      ],
      "source": [
        "query = \"Do you know about Google Bard\"\n",
        "docs = docsearch.similarity_search(query)\n",
        "chain.run(input_documents=docs, question=query)"
      ]
    },
    {
      "cell_type": "code",
      "execution_count": 38,
      "metadata": {
        "id": "-r0J9As0OQmN"
      },
      "outputs": [
        {
          "data": {
            "text/plain": [
              "\" I don't know, as this context does not provide any information about the current date. \""
            ]
          },
          "execution_count": 38,
          "metadata": {},
          "output_type": "execute_result"
        }
      ],
      "source": [
        "query = \"What is the date today?\"\n",
        "docs = docsearch.similarity_search(query)\n",
        "chain.run(input_documents=docs, question=query)"
      ]
    },
    {
      "cell_type": "code",
      "execution_count": 39,
      "metadata": {},
      "outputs": [
        {
          "data": {
            "text/plain": [
              "' I am not programmed to solve math problems. I suggest using a calculator or asking a math teacher for help with this question.'"
            ]
          },
          "execution_count": 39,
          "metadata": {},
          "output_type": "execute_result"
        }
      ],
      "source": [
        "query = \"What is 2+2\"\n",
        "docs = docsearch.similarity_search(query)\n",
        "chain.run(input_documents=docs, question=query)"
      ]
    }
  ],
  "metadata": {
    "colab": {
      "provenance": []
    },
    "kernelspec": {
      "display_name": "Python 3",
      "name": "python3"
    },
    "language_info": {
      "codemirror_mode": {
        "name": "ipython",
        "version": 3
      },
      "file_extension": ".py",
      "mimetype": "text/x-python",
      "name": "python",
      "nbconvert_exporter": "python",
      "pygments_lexer": "ipython3",
      "version": "3.10.11"
    }
  },
  "nbformat": 4,
  "nbformat_minor": 0
}
