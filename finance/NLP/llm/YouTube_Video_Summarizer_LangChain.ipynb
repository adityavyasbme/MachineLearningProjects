{
  "cells": [
    {
      "cell_type": "markdown",
      "metadata": {
        "id": "WhDQokSKxkO5"
      },
      "source": [
        "#**Step 01: Install All the Required Packages**"
      ]
    },
    {
      "cell_type": "code",
      "execution_count": 1,
      "metadata": {
        "colab": {
          "base_uri": "https://localhost:8080/"
        },
        "id": "ZOHXi5zGxcRB",
        "outputId": "367ae12d-5986-4bfe-cdb4-7ec3027c3604"
      },
      "outputs": [
        {
          "name": "stdout",
          "output_type": "stream",
          "text": [
            "Collecting langchain\n",
            "  Downloading langchain-0.0.232-py3-none-any.whl (1.3 MB)\n",
            "\u001b[?25l     \u001b[90m━━━━━━━━━━━━━━━━━━━━━━━━━━━━━━━━━━━━━━━━\u001b[0m \u001b[32m0.0/1.3 MB\u001b[0m \u001b[31m?\u001b[0m eta \u001b[36m-:--:--\u001b[0m\r\u001b[2K     \u001b[91m━━━━━━━\u001b[0m\u001b[91m╸\u001b[0m\u001b[90m━━━━━━━━━━━━━━━━━━━━━━━━━━━━━━━━\u001b[0m \u001b[32m0.3/1.3 MB\u001b[0m \u001b[31m8.4 MB/s\u001b[0m eta \u001b[36m0:00:01\u001b[0m\r\u001b[2K     \u001b[91m━━━━━━━━━━━━━━━━━━━━━━━━━━━━━━━━━━━━━━━\u001b[0m\u001b[91m╸\u001b[0m \u001b[32m1.3/1.3 MB\u001b[0m \u001b[31m22.6 MB/s\u001b[0m eta \u001b[36m0:00:01\u001b[0m\r\u001b[2K     \u001b[90m━━━━━━━━━━━━━━━━━━━━━━━━━━━━━━━━━━━━━━━━\u001b[0m \u001b[32m1.3/1.3 MB\u001b[0m \u001b[31m17.8 MB/s\u001b[0m eta \u001b[36m0:00:00\u001b[0m\n",
            "\u001b[?25hRequirement already satisfied: PyYAML>=5.4.1 in /usr/local/lib/python3.10/dist-packages (from langchain) (6.0)\n",
            "Requirement already satisfied: SQLAlchemy<3,>=1.4 in /usr/local/lib/python3.10/dist-packages (from langchain) (2.0.18)\n",
            "Requirement already satisfied: aiohttp<4.0.0,>=3.8.3 in /usr/local/lib/python3.10/dist-packages (from langchain) (3.8.4)\n",
            "Requirement already satisfied: async-timeout<5.0.0,>=4.0.0 in /usr/local/lib/python3.10/dist-packages (from langchain) (4.0.2)\n",
            "Collecting dataclasses-json<0.6.0,>=0.5.7 (from langchain)\n",
            "  Downloading dataclasses_json-0.5.9-py3-none-any.whl (26 kB)\n",
            "Collecting langsmith<0.0.6,>=0.0.5 (from langchain)\n",
            "  Downloading langsmith-0.0.5-py3-none-any.whl (25 kB)\n",
            "Requirement already satisfied: numexpr<3.0.0,>=2.8.4 in /usr/local/lib/python3.10/dist-packages (from langchain) (2.8.4)\n",
            "Requirement already satisfied: numpy<2,>=1 in /usr/local/lib/python3.10/dist-packages (from langchain) (1.22.4)\n",
            "Collecting openapi-schema-pydantic<2.0,>=1.2 (from langchain)\n",
            "  Downloading openapi_schema_pydantic-1.2.4-py3-none-any.whl (90 kB)\n",
            "\u001b[2K     \u001b[90m━━━━━━━━━━━━━━━━━━━━━━━━━━━━━━━━━━━━━━━━\u001b[0m \u001b[32m90.0/90.0 kB\u001b[0m \u001b[31m9.3 MB/s\u001b[0m eta \u001b[36m0:00:00\u001b[0m\n",
            "\u001b[?25hRequirement already satisfied: pydantic<2,>=1 in /usr/local/lib/python3.10/dist-packages (from langchain) (1.10.11)\n",
            "Requirement already satisfied: requests<3,>=2 in /usr/local/lib/python3.10/dist-packages (from langchain) (2.27.1)\n",
            "Requirement already satisfied: tenacity<9.0.0,>=8.1.0 in /usr/local/lib/python3.10/dist-packages (from langchain) (8.2.2)\n",
            "Requirement already satisfied: attrs>=17.3.0 in /usr/local/lib/python3.10/dist-packages (from aiohttp<4.0.0,>=3.8.3->langchain) (23.1.0)\n",
            "Requirement already satisfied: charset-normalizer<4.0,>=2.0 in /usr/local/lib/python3.10/dist-packages (from aiohttp<4.0.0,>=3.8.3->langchain) (2.0.12)\n",
            "Requirement already satisfied: multidict<7.0,>=4.5 in /usr/local/lib/python3.10/dist-packages (from aiohttp<4.0.0,>=3.8.3->langchain) (6.0.4)\n",
            "Requirement already satisfied: yarl<2.0,>=1.0 in /usr/local/lib/python3.10/dist-packages (from aiohttp<4.0.0,>=3.8.3->langchain) (1.9.2)\n",
            "Requirement already satisfied: frozenlist>=1.1.1 in /usr/local/lib/python3.10/dist-packages (from aiohttp<4.0.0,>=3.8.3->langchain) (1.3.3)\n",
            "Requirement already satisfied: aiosignal>=1.1.2 in /usr/local/lib/python3.10/dist-packages (from aiohttp<4.0.0,>=3.8.3->langchain) (1.3.1)\n",
            "Collecting marshmallow<4.0.0,>=3.3.0 (from dataclasses-json<0.6.0,>=0.5.7->langchain)\n",
            "  Downloading marshmallow-3.19.0-py3-none-any.whl (49 kB)\n",
            "\u001b[2K     \u001b[90m━━━━━━━━━━━━━━━━━━━━━━━━━━━━━━━━━━━━━━━━\u001b[0m \u001b[32m49.1/49.1 kB\u001b[0m \u001b[31m4.3 MB/s\u001b[0m eta \u001b[36m0:00:00\u001b[0m\n",
            "\u001b[?25hCollecting marshmallow-enum<2.0.0,>=1.5.1 (from dataclasses-json<0.6.0,>=0.5.7->langchain)\n",
            "  Downloading marshmallow_enum-1.5.1-py2.py3-none-any.whl (4.2 kB)\n",
            "Collecting typing-inspect>=0.4.0 (from dataclasses-json<0.6.0,>=0.5.7->langchain)\n",
            "  Downloading typing_inspect-0.9.0-py3-none-any.whl (8.8 kB)\n",
            "Requirement already satisfied: typing-extensions>=4.2.0 in /usr/local/lib/python3.10/dist-packages (from pydantic<2,>=1->langchain) (4.7.1)\n",
            "Requirement already satisfied: urllib3<1.27,>=1.21.1 in /usr/local/lib/python3.10/dist-packages (from requests<3,>=2->langchain) (1.26.16)\n",
            "Requirement already satisfied: certifi>=2017.4.17 in /usr/local/lib/python3.10/dist-packages (from requests<3,>=2->langchain) (2023.5.7)\n",
            "Requirement already satisfied: idna<4,>=2.5 in /usr/local/lib/python3.10/dist-packages (from requests<3,>=2->langchain) (3.4)\n",
            "Requirement already satisfied: greenlet!=0.4.17 in /usr/local/lib/python3.10/dist-packages (from SQLAlchemy<3,>=1.4->langchain) (2.0.2)\n",
            "Requirement already satisfied: packaging>=17.0 in /usr/local/lib/python3.10/dist-packages (from marshmallow<4.0.0,>=3.3.0->dataclasses-json<0.6.0,>=0.5.7->langchain) (23.1)\n",
            "Collecting mypy-extensions>=0.3.0 (from typing-inspect>=0.4.0->dataclasses-json<0.6.0,>=0.5.7->langchain)\n",
            "  Downloading mypy_extensions-1.0.0-py3-none-any.whl (4.7 kB)\n",
            "Installing collected packages: mypy-extensions, marshmallow, typing-inspect, openapi-schema-pydantic, marshmallow-enum, langsmith, dataclasses-json, langchain\n",
            "Successfully installed dataclasses-json-0.5.9 langchain-0.0.232 langsmith-0.0.5 marshmallow-3.19.0 marshmallow-enum-1.5.1 mypy-extensions-1.0.0 openapi-schema-pydantic-1.2.4 typing-inspect-0.9.0\n",
            "Collecting openai\n",
            "  Downloading openai-0.27.8-py3-none-any.whl (73 kB)\n",
            "\u001b[2K     \u001b[90m━━━━━━━━━━━━━━━━━━━━━━━━━━━━━━━━━━━━━━━━\u001b[0m \u001b[32m73.6/73.6 kB\u001b[0m \u001b[31m4.8 MB/s\u001b[0m eta \u001b[36m0:00:00\u001b[0m\n",
            "\u001b[?25hRequirement already satisfied: requests>=2.20 in /usr/local/lib/python3.10/dist-packages (from openai) (2.27.1)\n",
            "Requirement already satisfied: tqdm in /usr/local/lib/python3.10/dist-packages (from openai) (4.65.0)\n",
            "Requirement already satisfied: aiohttp in /usr/local/lib/python3.10/dist-packages (from openai) (3.8.4)\n",
            "Requirement already satisfied: urllib3<1.27,>=1.21.1 in /usr/local/lib/python3.10/dist-packages (from requests>=2.20->openai) (1.26.16)\n",
            "Requirement already satisfied: certifi>=2017.4.17 in /usr/local/lib/python3.10/dist-packages (from requests>=2.20->openai) (2023.5.7)\n",
            "Requirement already satisfied: charset-normalizer~=2.0.0 in /usr/local/lib/python3.10/dist-packages (from requests>=2.20->openai) (2.0.12)\n",
            "Requirement already satisfied: idna<4,>=2.5 in /usr/local/lib/python3.10/dist-packages (from requests>=2.20->openai) (3.4)\n",
            "Requirement already satisfied: attrs>=17.3.0 in /usr/local/lib/python3.10/dist-packages (from aiohttp->openai) (23.1.0)\n",
            "Requirement already satisfied: multidict<7.0,>=4.5 in /usr/local/lib/python3.10/dist-packages (from aiohttp->openai) (6.0.4)\n",
            "Requirement already satisfied: async-timeout<5.0,>=4.0.0a3 in /usr/local/lib/python3.10/dist-packages (from aiohttp->openai) (4.0.2)\n",
            "Requirement already satisfied: yarl<2.0,>=1.0 in /usr/local/lib/python3.10/dist-packages (from aiohttp->openai) (1.9.2)\n",
            "Requirement already satisfied: frozenlist>=1.1.1 in /usr/local/lib/python3.10/dist-packages (from aiohttp->openai) (1.3.3)\n",
            "Requirement already satisfied: aiosignal>=1.1.2 in /usr/local/lib/python3.10/dist-packages (from aiohttp->openai) (1.3.1)\n",
            "Installing collected packages: openai\n",
            "Successfully installed openai-0.27.8\n",
            "Collecting tiktoken\n",
            "  Downloading tiktoken-0.4.0-cp310-cp310-manylinux_2_17_x86_64.manylinux2014_x86_64.whl (1.7 MB)\n",
            "\u001b[2K     \u001b[90m━━━━━━━━━━━━━━━━━━━━━━━━━━━━━━━━━━━━━━━━\u001b[0m \u001b[32m1.7/1.7 MB\u001b[0m \u001b[31m23.5 MB/s\u001b[0m eta \u001b[36m0:00:00\u001b[0m\n",
            "\u001b[?25hRequirement already satisfied: regex>=2022.1.18 in /usr/local/lib/python3.10/dist-packages (from tiktoken) (2022.10.31)\n",
            "Requirement already satisfied: requests>=2.26.0 in /usr/local/lib/python3.10/dist-packages (from tiktoken) (2.27.1)\n",
            "Requirement already satisfied: urllib3<1.27,>=1.21.1 in /usr/local/lib/python3.10/dist-packages (from requests>=2.26.0->tiktoken) (1.26.16)\n",
            "Requirement already satisfied: certifi>=2017.4.17 in /usr/local/lib/python3.10/dist-packages (from requests>=2.26.0->tiktoken) (2023.5.7)\n",
            "Requirement already satisfied: charset-normalizer~=2.0.0 in /usr/local/lib/python3.10/dist-packages (from requests>=2.26.0->tiktoken) (2.0.12)\n",
            "Requirement already satisfied: idna<4,>=2.5 in /usr/local/lib/python3.10/dist-packages (from requests>=2.26.0->tiktoken) (3.4)\n",
            "Installing collected packages: tiktoken\n",
            "Successfully installed tiktoken-0.4.0\n"
          ]
        }
      ],
      "source": [
        "!pip install langchain\n",
        "!pip install openai\n",
        "!pip install tiktoken"
      ]
    },
    {
      "cell_type": "code",
      "execution_count": 2,
      "metadata": {
        "colab": {
          "base_uri": "https://localhost:8080/"
        },
        "id": "sb-lQjB4xu6C",
        "outputId": "1c14c779-bc8c-4898-e92c-98608784e325"
      },
      "outputs": [
        {
          "name": "stdout",
          "output_type": "stream",
          "text": [
            "Collecting youtube-transcript-api\n",
            "  Downloading youtube_transcript_api-0.6.1-py3-none-any.whl (24 kB)\n",
            "Requirement already satisfied: requests in /usr/local/lib/python3.10/dist-packages (from youtube-transcript-api) (2.27.1)\n",
            "Requirement already satisfied: urllib3<1.27,>=1.21.1 in /usr/local/lib/python3.10/dist-packages (from requests->youtube-transcript-api) (1.26.16)\n",
            "Requirement already satisfied: certifi>=2017.4.17 in /usr/local/lib/python3.10/dist-packages (from requests->youtube-transcript-api) (2023.5.7)\n",
            "Requirement already satisfied: charset-normalizer~=2.0.0 in /usr/local/lib/python3.10/dist-packages (from requests->youtube-transcript-api) (2.0.12)\n",
            "Requirement already satisfied: idna<4,>=2.5 in /usr/local/lib/python3.10/dist-packages (from requests->youtube-transcript-api) (3.4)\n",
            "Installing collected packages: youtube-transcript-api\n",
            "Successfully installed youtube-transcript-api-0.6.1\n",
            "Collecting pytube\n",
            "  Downloading pytube-15.0.0-py3-none-any.whl (57 kB)\n",
            "\u001b[2K     \u001b[90m━━━━━━━━━━━━━━━━━━━━━━━━━━━━━━━━━━━━━━━━\u001b[0m \u001b[32m57.6/57.6 kB\u001b[0m \u001b[31m2.6 MB/s\u001b[0m eta \u001b[36m0:00:00\u001b[0m\n",
            "\u001b[?25hInstalling collected packages: pytube\n",
            "Successfully installed pytube-15.0.0\n"
          ]
        }
      ],
      "source": [
        "!pip install youtube-transcript-api\n",
        "!pip install pytube"
      ]
    },
    {
      "cell_type": "markdown",
      "metadata": {
        "id": "3uDtYwo2x96R"
      },
      "source": [
        "#**Step 02: Import All the Required Libraries**"
      ]
    },
    {
      "cell_type": "code",
      "execution_count": 11,
      "metadata": {
        "id": "3v23HgOwx6lM"
      },
      "outputs": [],
      "source": [
        "from langchain.document_loaders import YoutubeLoader\n",
        "from langchain.llms import OpenAI\n",
        "from langchain.chains.summarize import load_summarize_chain"
      ]
    },
    {
      "cell_type": "markdown",
      "metadata": {
        "id": "aTau0QAlyma1"
      },
      "source": [
        "#**Step 03: Setup the Environment**"
      ]
    },
    {
      "cell_type": "code",
      "execution_count": 2,
      "metadata": {
        "id": "qd9WsJzQyYD8"
      },
      "outputs": [],
      "source": [
        "import os\n",
        "os.environ[\"OPENAI_API_KEY\"] = 'your key here'"
      ]
    },
    {
      "cell_type": "markdown",
      "metadata": {
        "id": "xpeLWg27yzwy"
      },
      "source": [
        "#**Step 04: Load the Youtube Video and Generate a Transcript of it**"
      ]
    },
    {
      "cell_type": "code",
      "execution_count": 3,
      "metadata": {
        "id": "u4afmudiy5oF"
      },
      "outputs": [],
      "source": [
        "loader = YoutubeLoader.from_youtube_url(\"https://www.youtube.com/watch?v=WbWcPypsW90\", add_video_info=True)"
      ]
    },
    {
      "cell_type": "code",
      "execution_count": 4,
      "metadata": {
        "id": "5IHZ_k6ezIQ3"
      },
      "outputs": [],
      "source": [
        "result = loader.load()"
      ]
    },
    {
      "cell_type": "code",
      "execution_count": 5,
      "metadata": {
        "colab": {
          "base_uri": "https://localhost:8080/"
        },
        "id": "2QXhTYc9zNN1",
        "outputId": "8c2024df-1a04-461b-d656-eaca13a03374"
      },
      "outputs": [
        {
          "name": "stdout",
          "output_type": "stream",
          "text": [
            "<class 'list'>\n"
          ]
        }
      ],
      "source": [
        "print(type(result))"
      ]
    },
    {
      "cell_type": "code",
      "execution_count": 6,
      "metadata": {
        "colab": {
          "base_uri": "https://localhost:8080/"
        },
        "id": "kg_vd-XwzO_i",
        "outputId": "dbd0c0c8-1833-4867-d601-e97a18bc484f"
      },
      "outputs": [
        {
          "name": "stdout",
          "output_type": "stream",
          "text": [
            "Found Video from HISTORY that is 1920 seconds long\n"
          ]
        }
      ],
      "source": [
        "print(f\"Found Video from {result[0].metadata['author']} that is {result[0].metadata['length']} seconds long\")"
      ]
    },
    {
      "cell_type": "code",
      "execution_count": 21,
      "metadata": {
        "colab": {
          "base_uri": "https://localhost:8080/"
        },
        "id": "8cZ5wf2izgsO",
        "outputId": "fd7cfa16-dbc0-4ae7-d281-8e84c2e2c19b"
      },
      "outputs": [],
      "source": [
        "result[0].page_content = result[0].page_content[0:15000]"
      ]
    },
    {
      "cell_type": "code",
      "execution_count": 22,
      "metadata": {
        "id": "Ddi_u6-vzmgP"
      },
      "outputs": [],
      "source": [
        "from langchain.llms import OpenAI\n",
        "llm=OpenAI(temperature=0.6)"
      ]
    },
    {
      "cell_type": "markdown",
      "metadata": {
        "id": "KDWVzKtY0Dg0"
      },
      "source": [
        "#**Step 05: YouTube Video Summary**"
      ]
    },
    {
      "cell_type": "code",
      "execution_count": 23,
      "metadata": {
        "id": "TgHutmVAzxSE"
      },
      "outputs": [],
      "source": [
        "chain = load_summarize_chain(llm=llm, chain_type = 'stuff', verbose=True)"
      ]
    },
    {
      "cell_type": "code",
      "execution_count": 24,
      "metadata": {
        "colab": {
          "base_uri": "https://localhost:8080/",
          "height": 403
        },
        "id": "dpyuXErp0SvZ",
        "outputId": "fa7c6f35-ff19-45ca-d471-b924d2279d39"
      },
      "outputs": [
        {
          "name": "stdout",
          "output_type": "stream",
          "text": [
            "\n",
            "\n",
            "\u001b[1m> Entering new StuffDocumentsChain chain...\u001b[0m\n",
            "\n",
            "\n",
            "\u001b[1m> Entering new LLMChain chain...\u001b[0m\n",
            "Prompt after formatting:\n",
            "\u001b[32;1m\u001b[1;3mWrite a concise summary of the following:\n",
            "\n",
            "\n",
            "\"zanto Mexico May 3rd 1975 after dropping off passengers at this Seaport town on the Pacific coast pilot Carlos De Los Santos embarks on a return trip to Mexico City in his Piper pa24 commanche the weather conditions are clear and visibility is good as de los Santos cruises at 10,000 ft one hour into the flight he Witnesses something unusual a gray wingless object off the left side of his plane and as he approaches Mexico City he notices basically a small Flying Saucer just above his left wing it's not as large as his aircraft and he's flying a fairly small aircraft and he's like what is this and then he looks over to his right and he sees another one and then he looks ahead of them and there's one coming at him it goes below his aircraft and he feels a bump under his aircraft and he's scared out of his mind anyone would be he then realizes that he's not really in control of his aircraft his aircraft is moving in a way that seems to respond to these objects not to him he goes to move the Yoke and the yoke is moving on itself the plane starts climbing to 3,000 M that's the ceiling of the piper if it climbs any further it will stall out he will lose control the plane will fall out of the sky is actually becoming afraid because his cabin's not pressurized you get to a certain altitude he's going to have a hard time breathing the theory is that the UFO that came under the plane took control contr of his plane and the UFO's own magnetic envelope is lifting the plane higher and higher and higher to Los santis is in a panic he's giving Mayday [Music] calls he's telling them there are these unidentified objects at my wing tips and below me and I don't know what to do as the private plane races towards a mountainous area the three uaps disengage from Carlos's plane and Veer off toward the mount poata pedal volcano at lightning speed as the objects disappear from sight Carlos regains control of the plane but he quickly realizes his ordeal isn't over you can't initiate his landing gear because of the impact that one of these objects made on his aircraft he has to circle around the airport uh about 10 times and he uses a screwdriver to push the lever to get his uh landing gear to come down and he successfully lands his aircraft it's kind of an amazing thing there so he lands his aircraft and the story doesn't end here now he would have had his whole career reputation ruined probably with this except for the fact that Mexican Air Traffic Control tracked these objects also and this came out to support him this story became a huge news story in Mexico didn't really make much impact in the United States but it was a very big story in Mexico years later de los Santos revealed that in the aftermath of the event he was twice approached by mysterious figures warning him not to speak about his experience the first occasion was just before he was scheduled to be interviewed by a Mexican television station the second happened when de los Santos was sent to meet with the famous UFO investigator Jay Allen heinik heinik was into the case a lot of people were following this case and just before he was going to meet with hinek at some Hotel he gets another encounter from um one of these men in black these tall pasty white-skinned guys who warned him don't talk about this he was threatened and he did actually stop talking about this for a little while after that but as time went by he he he's talked about it it's just one of the most incredible Aviation UAP stories that you're ever going to hear and he got out of it alive pilot Carlos De Los Santos ultimately emerged from his her hering midair encounter unscathed but similar confrontations between civilian planes and UFOs have led to tragic consequences including injuries crashes and even loss of [Applause] life yaka flat Nevada May 19th 1953 at 5:05 a.m. one of a series of nuclear tests under the umbrella Cod named upshot knole is set [Music] off within seconds of the blast a disc-shaped object is seen rapidly descending from the sky headed South toward Las Vegas then disappearing into the mountains just 2 days after this event government officials secretly gathered a team of scientists for a curious assignment they were to to investigate the crash of an unidentified flying object on the outskirts of Kingman Arizona a city 175 Mi south of the nuclear test site there were 40 Engineers that boarded a bus and they took a long 3 and 1 half hour ride from Phoenix to Kingman when they got there it was nighttime there were MPS on all corners of the craft it's about a 40ft diam dis shaped craft that was perfectly intact there wasn't a scratch on it there were four beings associated with this craft and they shipped it to groom Lake Groom Lake is the area 51 region in Nevada when Area 51 was just Bare Bones they took the craft and the aliens out to that location in the middle of the Nevada desert because it was so remote and around that they build Area 51 hidden within a ring of mountains deep in the Nevada desert Area 51 is a top secret military installation that has long been rumored to hold evidence of alien technology and there are even stories that a special facility at Area 51 once held a survivor of the 1953 Kingman UFO crash an alien entity known as jrod jrod is an alien who allegedly work worked at Area 51 over a period of years and it was jrod's mission or duty to help reverse engineer technology that was apparently from the 1953 Kingman UFO crash jrod was one of the crash survivors and worked directly with our own government Captain Bill U house a former Navy pilot who later worked for the US Air Force performing experimental testing on aircraft was assigned to Area 51 in the mid 1960s and he claims that he not only studied the craft that allegedly crashed in Kingman Arizona but also had Direct contact with jrod we had a long period of introduction into meeting you know an alien and I I called him jrod that's the name that the linguist gave him and he talked he would talk but he'd sound just like if you spoke he'd sound like you you know he he's like one of the you parrot but but he'd try and answer your question you know basically it was only engineering advice or science advice there's also another whistleblower by the name of Dan beish and Dan beish said that he was hired as a microbiologist to basically care for jrod ensuring that he remained healthy and uh this went on for years and years and years according to Dan beish and Bill U house jrod was housed in a special underground chamber at Area 51 and there have been numerous other accounts of extraterrestrials working with the United States government there's a lot of stories that we worked with the aliens at Area 51 or uh some say at a base nearby kind of in the desert out there and we've been working with them in underground labs and they have been sharing information for us to enhance our Technologies is it possible that the United States government has met with and worked with entities like jron and other alien visitors since at least the 1950s according to UFO researchers there is evidence that extraterrestrials have not only been held at secret military bases but have even met face to face with the commander-in-chief inside the walls of the [Applause] Pentagon pilot Theo Chesley has reported one of the most significant and credible UFO sightings in recent Alaskan history the incident caught the attention of author and researcher David chras who traveled to Anchorage to meet with Chanley and examined the evidence of his heroine encounter hi Theo hi David nice to meet you nice to meet you I understand you have a very interesting story to tell well I do and it happened right here in this aircraft you've been flying here for quite a few years right yeah about 35 years so when was this first occurrence well uh we had a flight back in October 2019 we were Northeast of the mountain now we were probably 30 m from the mountain we spotted something in the sky and this is what we saw did it seem to have a a cloud around it or no it had like a tail on it a little bit of a wisp coming out of the back so I'm looking at it going okay what is that as we started to come towards the mountain and fly by it this horizontal disc turned vertical and came over and sort of parked by the mountain and held it shape so it had been moving and then it stopped it stopped by the volcano so I'm like looking at going okay if this is a smoke ring it's not going to hold its shape it's not going to stop it's going to dissipate it held its shape the whole time and had you ever seen anything like this before uh i' been flying well 35 years and 15,000 hours of flighttime uh most of them in Alaska and I had never seen anything like this then we had something fly out of the Mountain uh now the mountain a second object a second object so this object flies out of the mountain and at the same time we're still watching the the sphere that's vertically parked and it's like it's right over here matter of fact I'll show you another picture here that kind of just puts it all together okay okay so then this appeared on the side of the mountain this green orb shows up on the side of the mountain in a lower spot the next picture we take this is what happened to the vertical sphere in the sky something flew inside of it and pulled it out of shape you see these two little I don't know there's like two little wings out there and we like looked at that and I said no we're done here we're we are leaving the scene here and to be honest uh you know my concern level was going about through the roof at that point did it seem like a very large object then this is a big mountain and this was something that caught our eye 40 to 50 mil away okay that's it's like 40 50 mil away so this had to be almost I want to guess half a mile wide wow that's fascinating and you know when it comes to UFO type objects around volcanoes that's a common thing one of the first modern UFO sightings on record involved an entire Squadron of vehicles that appeared to enter a volcano on June 24th 1947 Kenneth Arnold was flying his private plane near Mount reneer in Washington when he witnessed nine disc-shaped objects move at an impossible speed across the Horizon then disappear into a nearby volcano called Mount Adams there has been a lot of UFO sightings around volcanoes and we've seen this in the Canary Islands in Mexico in South America you have other places like say Mount Shasta and we're seeing it in Hawaii too where UFOs are seen and there's a lot of activity I mean it definitely makes you wonder okay what's in this volcano what is the attraction here and the crazy thing is is uh this was just the first occurrence we had a second occurrence okay 6 months later I'm by myself in a different aircraft and uh I looked out of my left window and all of a sudden there is a huge cloud formation that came out of nowhere and that's right kind of above the volcano above and east of the mountain but I've never seen anything like this in my life it was a clear sky without anything and suddenly you saw this well you saw the picture the that picture that I took clear sky was a minute before this decided to sh so the crazy part is this Cloud morphed into several different shapes there looks like something black inside there an object underneath this thing yeah during the occurrence uh I had the aircraft on autopilot and the aircraft was flying straight and my rot of flight took me back by the mountain again as I'm coming back I have the aircraft on autopilot and I look down and I noticed I'm 35° off course heading towards the mountain I shut the autopilot off reset the heading set the airplane back up on of course and okay yeah we're fine and I'm looking around again trying to see if there's anything and I look down we're heading back towards the mountain again it happened two times so at that point I go oh no this something's not right here I'm going to hand fly the aircraft and worked fine uh hand flying the airplane but I've never had that happened to me on an autopilot just pulled the aircraft you know start pulling the aircraft somewhere where it's not supposed to me so the autopilot then was somehow sensing some weird magnetic thing and pulling you then exactly something internally in the aircraft was feeling a magnetic pole this sounds a lot like other things that have happened like say in the Berita triangle or something like where their instruments do go Haywire or they're being taken off you know course without even knowing it and suddenly they vanish right very much so to me this is very important story I'm so glad that you've been able to get these good photographs you've got other Witnesses and for 70 years there have been planes Vanishing even military planes this all fits so squarely into the mystery which is Alaska Alaska November 17th 1986 Japan Airlines flight 1628 is carrying cargo from Paris France to Narita international airport near Tokyo the threers crew is led by Captain kenju terauchi an exf fighter pilot with over 10,000 hours of flight time as the 747 approaches Anchorage Captain terauchi notices two strange lights out of his cockpit window it's dark it's uh very early morning Before Sunrise the these lights are clearly maneuvering they are in relationship to each other one is on top of the other and they move directly in front of his aircraft now he's flying at about 500 mph these things are pacing him Captain terauchi realizes the lights are strange oval-shaped flying objects and they're getting dangerously close to his aircraft as bright lights fill the cockpit Captain terauchi radios the Anchorage Air Traffic Control Center and asks if they can identify the objects nearest [Applause] plane we not we as terrai attempts a series of evasive maneuvers to avoid a potential Collision the two UFOs suddenly disappear in their place is another object one so large it dwarfs the 747 his words for describing it were gigantic spaceship the size of maybe two aircraft carriers just immense terauchi sees his massive thing in the sky and he's scared concerned by Captain Tera uchi's report the air traffic controller calls NORAD the North American Aerospace Defense command based at at Elmendorf Air Force Base in Anchorage communication specialists at the airbase confirm that there is a very large unidentified object on their radar screens traffic control told them that they could actually take whatever evasive actions they needed to to avoid collision and they even dropped down to 4,000 ft above sea level and the thing continued to follow them Air Traffic Control diverted another commercial flight to come look at this UFO and by the time they got there UFO was completely gone one of the reasons why the Jal report is such a big deal is because the corroborating evidence is overwhelming not only are there eyewitness reports but there is the records of the communication systems that Teri was in touch with actual dial\"\n",
            "\n",
            "\n",
            "CONCISE SUMMARY:\u001b[0m\n",
            "\n",
            "\u001b[1m> Finished chain.\u001b[0m\n",
            "\n",
            "\u001b[1m> Finished chain.\u001b[0m\n"
          ]
        },
        {
          "data": {
            "text/plain": [
              "'\\n\\nOn May 3rd, 1975, pilot Carlos De Los Santos witnesses multiple UFOs while flying his Piper PA24 Comanche from a seaport town to Mexico City. The objects seem to take control of his plane, causing it to climb dangerously high. De Los Santos is able to regain control and land safely, but is later threatened by mysterious figures not to speak about his experience. Similarly, in 1953, a UFO is seen descending towards Las Vegas shortly after a nuclear test. A team of scientists is sent to investigate a crash near Kingman, Arizona, and it is rumored that a survivor, known as J-Rod, worked with the US government to reverse engineer technology from the crash. In 1986, Japan Airlines Flight 1628 is followed by UFOs, including one massive object that dwarfs their plane. The incident is corroborated by radar and other eyewitness reports.'"
            ]
          },
          "execution_count": 24,
          "metadata": {},
          "output_type": "execute_result"
        }
      ],
      "source": [
        "chain.run(result)"
      ]
    },
    {
      "cell_type": "markdown",
      "metadata": {
        "id": "n5-xnW2P0nAL"
      },
      "source": [
        "#**Step 06: Load a Very Long Youtube Video and Generate a Transcript for it**"
      ]
    },
    {
      "cell_type": "code",
      "execution_count": 25,
      "metadata": {
        "id": "Wj5jM3BP0Vdb"
      },
      "outputs": [],
      "source": [
        "loader = YoutubeLoader.from_youtube_url(\"https://www.youtube.com/watch?v=WbWcPypsW90\", add_video_info=True)"
      ]
    },
    {
      "cell_type": "code",
      "execution_count": 26,
      "metadata": {
        "id": "xycCtuAy0w8d"
      },
      "outputs": [],
      "source": [
        "result=loader.load()"
      ]
    },
    {
      "cell_type": "code",
      "execution_count": 27,
      "metadata": {
        "colab": {
          "base_uri": "https://localhost:8080/"
        },
        "id": "iOP55y2s0zAd",
        "outputId": "822c5f23-5486-48fd-cc99-8af8527219cc"
      },
      "outputs": [
        {
          "name": "stdout",
          "output_type": "stream",
          "text": [
            "<class 'list'>\n"
          ]
        }
      ],
      "source": [
        "print(type(result))"
      ]
    },
    {
      "cell_type": "code",
      "execution_count": 28,
      "metadata": {
        "colab": {
          "base_uri": "https://localhost:8080/"
        },
        "id": "InpUJQW202Dp",
        "outputId": "83fd2579-d825-4ee6-ce36-6478ddce3278"
      },
      "outputs": [
        {
          "name": "stdout",
          "output_type": "stream",
          "text": [
            "Found Video from HISTORY that is 1920 seconds long\n"
          ]
        }
      ],
      "source": [
        "print(f\"Found Video from {result[0].metadata['author']} that is {result[0].metadata['length']} seconds long\")"
      ]
    },
    {
      "cell_type": "code",
      "execution_count": 29,
      "metadata": {
        "colab": {
          "base_uri": "https://localhost:8080/"
        },
        "id": "S8PypQmv04Pq",
        "outputId": "dae9f377-b0f5-47e9-b9b9-98df2702ac45"
      },
      "outputs": [
        {
          "name": "stdout",
          "output_type": "stream",
          "text": [
            "[Document(page_content=\"zanto Mexico May 3rd 1975 after dropping off passengers at this Seaport town on the Pacific coast pilot Carlos De Los Santos embarks on a return trip to Mexico City in his Piper pa24 commanche the weather conditions are clear and visibility is good as de los Santos cruises at 10,000 ft one hour into the flight he Witnesses something unusual a gray wingless object off the left side of his plane and as he approaches Mexico City he notices basically a small Flying Saucer just above his left wing it's not as large as his aircraft and he's flying a fairly small aircraft and he's like what is this and then he looks over to his right and he sees another one and then he looks ahead of them and there's one coming at him it goes below his aircraft and he feels a bump under his aircraft and he's scared out of his mind anyone would be he then realizes that he's not really in control of his aircraft his aircraft is moving in a way that seems to respond to these objects not to him he goes to move the Yoke and the yoke is moving on itself the plane starts climbing to 3,000 M that's the ceiling of the piper if it climbs any further it will stall out he will lose control the plane will fall out of the sky is actually becoming afraid because his cabin's not pressurized you get to a certain altitude he's going to have a hard time breathing the theory is that the UFO that came under the plane took control contr of his plane and the UFO's own magnetic envelope is lifting the plane higher and higher and higher to Los santis is in a panic he's giving Mayday [Music] calls he's telling them there are these unidentified objects at my wing tips and below me and I don't know what to do as the private plane races towards a mountainous area the three uaps disengage from Carlos's plane and Veer off toward the mount poata pedal volcano at lightning speed as the objects disappear from sight Carlos regains control of the plane but he quickly realizes his ordeal isn't over you can't initiate his landing gear because of the impact that one of these objects made on his aircraft he has to circle around the airport uh about 10 times and he uses a screwdriver to push the lever to get his uh landing gear to come down and he successfully lands his aircraft it's kind of an amazing thing there so he lands his aircraft and the story doesn't end here now he would have had his whole career reputation ruined probably with this except for the fact that Mexican Air Traffic Control tracked these objects also and this came out to support him this story became a huge news story in Mexico didn't really make much impact in the United States but it was a very big story in Mexico years later de los Santos revealed that in the aftermath of the event he was twice approached by mysterious figures warning him not to speak about his experience the first occasion was just before he was scheduled to be interviewed by a Mexican television station the second happened when de los Santos was sent to meet with the famous UFO investigator Jay Allen heinik heinik was into the case a lot of people were following this case and just before he was going to meet with hinek at some Hotel he gets another encounter from um one of these men in black these tall pasty white-skinned guys who warned him don't talk about this he was threatened and he did actually stop talking about this for a little while after that but as time went by he he he's talked about it it's just one of the most incredible Aviation UAP stories that you're ever going to hear and he got out of it alive pilot Carlos De Los Santos ultimately emerged from his her hering midair encounter unscathed but similar confrontations between civilian planes and UFOs have led to tragic consequences including injuries crashes and even loss of [Applause] life yaka flat Nevada May 19th 1953 at 5:05 a.m. one of a series of nuclear tests under the umbrella Cod named upshot knole is set [Music] off within seconds of the blast a disc-shaped object is seen rapidly descending from the sky headed South toward Las Vegas then disappearing into the mountains just 2 days after this event government officials secretly gathered a team of scientists for a curious assignment they were to to investigate the crash of an unidentified flying object on the outskirts of Kingman Arizona a city 175 Mi south of the nuclear test site there were 40 Engineers that boarded a bus and they took a long 3 and 1 half hour ride from Phoenix to Kingman when they got there it was nighttime there were MPS on all corners of the craft it's about a 40ft diam dis shaped craft that was perfectly intact there wasn't a scratch on it there were four beings associated with this craft and they shipped it to groom Lake Groom Lake is the area 51 region in Nevada when Area 51 was just Bare Bones they took the craft and the aliens out to that location in the middle of the Nevada desert because it was so remote and around that they build Area 51 hidden within a ring of mountains deep in the Nevada desert Area 51 is a top secret military installation that has long been rumored to hold evidence of alien technology and there are even stories that a special facility at Area 51 once held a survivor of the 1953 Kingman UFO crash an alien entity known as jrod jrod is an alien who allegedly work worked at Area 51 over a period of years and it was jrod's mission or duty to help reverse engineer technology that was apparently from the 1953 Kingman UFO crash jrod was one of the crash survivors and worked directly with our own government Captain Bill U house a former Navy pilot who later worked for the US Air Force performing experimental testing on aircraft was assigned to Area 51 in the mid 1960s and he claims that he not only studied the craft that allegedly crashed in Kingman Arizona but also had Direct contact with jrod we had a long period of introduction into meeting you know an alien and I I called him jrod that's the name that the linguist gave him and he talked he would talk but he'd sound just like if you spoke he'd sound like you you know he he's like one of the you parrot but but he'd try and answer your question you know basically it was only engineering advice or science advice there's also another whistleblower by the name of Dan beish and Dan beish said that he was hired as a microbiologist to basically care for jrod ensuring that he remained healthy and uh this went on for years and years and years according to Dan beish and Bill U house jrod was housed in a special underground chamber at Area 51 and there have been numerous other accounts of extraterrestrials working with the United States government there's a lot of stories that we worked with the aliens at Area 51 or uh some say at a base nearby kind of in the desert out there and we've been working with them in underground labs and they have been sharing information for us to enhance our Technologies is it possible that the United States government has met with and worked with entities like jron and other alien visitors since at least the 1950s according to UFO researchers there is evidence that extraterrestrials have not only been held at secret military bases but have even met face to face with the commander-in-chief inside the walls of the [Applause] Pentagon pilot Theo Chesley has reported one of the most significant and credible UFO sightings in recent Alaskan history the incident caught the attention of author and researcher David chras who traveled to Anchorage to meet with Chanley and examined the evidence of his heroine encounter hi Theo hi David nice to meet you nice to meet you I understand you have a very interesting story to tell well I do and it happened right here in this aircraft you've been flying here for quite a few years right yeah about 35 years so when was this first occurrence well uh we had a flight back in October 2019 we were Northeast of the mountain now we were probably 30 m from the mountain we spotted something in the sky and this is what we saw did it seem to have a a cloud around it or no it had like a tail on it a little bit of a wisp coming out of the back so I'm looking at it going okay what is that as we started to come towards the mountain and fly by it this horizontal disc turned vertical and came over and sort of parked by the mountain and held it shape so it had been moving and then it stopped it stopped by the volcano so I'm like looking at going okay if this is a smoke ring it's not going to hold its shape it's not going to stop it's going to dissipate it held its shape the whole time and had you ever seen anything like this before uh i' been flying well 35 years and 15,000 hours of flighttime uh most of them in Alaska and I had never seen anything like this then we had something fly out of the Mountain uh now the mountain a second object a second object so this object flies out of the mountain and at the same time we're still watching the the sphere that's vertically parked and it's like it's right over here matter of fact I'll show you another picture here that kind of just puts it all together okay okay so then this appeared on the side of the mountain this green orb shows up on the side of the mountain in a lower spot the next picture we take this is what happened to the vertical sphere in the sky something flew inside of it and pulled it out of shape you see these two little I don't know there's like two little wings out there and we like looked at that and I said no we're done here we're we are leaving the scene here and to be honest uh you know my concern level was going about through the roof at that point did it seem like a very large object then this is a big mountain and this was something that caught our eye 40 to 50 mil away okay that's it's like 40 50 mil away so this had to be almost I want to guess half a mile wide wow that's fascinating and you know when it comes to UFO type objects around volcanoes that's a common thing one of the first modern UFO sightings on record involved an entire Squadron of vehicles that appeared to enter a volcano on June 24th 1947 Kenneth Arnold was flying his private plane near Mount reneer in Washington when he witnessed nine disc-shaped objects move at an impossible speed across the Horizon then disappear into a nearby volcano called Mount Adams there has been a lot of UFO sightings around volcanoes and we've seen this in the Canary Islands in Mexico in South America you have other places like say Mount Shasta and we're seeing it in Hawaii too where UFOs are seen and there's a lot of activity I mean it definitely makes you wonder okay what's in this volcano what is the attraction here and the crazy thing is is uh this was just the first occurrence we had a second occurrence okay 6 months later I'm by myself in a different aircraft and uh I looked out of my left window and all of a sudden there is a huge cloud formation that came out of nowhere and that's right kind of above the volcano above and east of the mountain but I've never seen anything like this in my life it was a clear sky without anything and suddenly you saw this well you saw the picture the that picture that I took clear sky was a minute before this decided to sh so the crazy part is this Cloud morphed into several different shapes there looks like something black inside there an object underneath this thing yeah during the occurrence uh I had the aircraft on autopilot and the aircraft was flying straight and my rot of flight took me back by the mountain again as I'm coming back I have the aircraft on autopilot and I look down and I noticed I'm 35° off course heading towards the mountain I shut the autopilot off reset the heading set the airplane back up on of course and okay yeah we're fine and I'm looking around again trying to see if there's anything and I look down we're heading back towards the mountain again it happened two times so at that point I go oh no this something's not right here I'm going to hand fly the aircraft and worked fine uh hand flying the airplane but I've never had that happened to me on an autopilot just pulled the aircraft you know start pulling the aircraft somewhere where it's not supposed to me so the autopilot then was somehow sensing some weird magnetic thing and pulling you then exactly something internally in the aircraft was feeling a magnetic pole this sounds a lot like other things that have happened like say in the Berita triangle or something like where their instruments do go Haywire or they're being taken off you know course without even knowing it and suddenly they vanish right very much so to me this is very important story I'm so glad that you've been able to get these good photographs you've got other Witnesses and for 70 years there have been planes Vanishing even military planes this all fits so squarely into the mystery which is Alaska Alaska November 17th 1986 Japan Airlines flight 1628 is carrying cargo from Paris France to Narita international airport near Tokyo the threers crew is led by Captain kenju terauchi an exf fighter pilot with over 10,000 hours of flight time as the 747 approaches Anchorage Captain terauchi notices two strange lights out of his cockpit window it's dark it's uh very early morning Before Sunrise the these lights are clearly maneuvering they are in relationship to each other one is on top of the other and they move directly in front of his aircraft now he's flying at about 500 mph these things are pacing him Captain terauchi realizes the lights are strange oval-shaped flying objects and they're getting dangerously close to his aircraft as bright lights fill the cockpit Captain terauchi radios the Anchorage Air Traffic Control Center and asks if they can identify the objects nearest [Applause] plane we not we as terrai attempts a series of evasive maneuvers to avoid a potential Collision the two UFOs suddenly disappear in their place is another object one so large it dwarfs the 747 his words for describing it were gigantic spaceship the size of maybe two aircraft carriers just immense terauchi sees his massive thing in the sky and he's scared concerned by Captain Tera uchi's report the air traffic controller calls NORAD the North American Aerospace Defense command based at at Elmendorf Air Force Base in Anchorage communication specialists at the airbase confirm that there is a very large unidentified object on their radar screens traffic control told them that they could actually take whatever evasive actions they needed to to avoid collision and they even dropped down to 4,000 ft above sea level and the thing continued to follow them Air Traffic Control diverted another commercial flight to come look at this UFO and by the time they got there UFO was completely gone one of the reasons why the Jal report is such a big deal is because the corroborating evidence is overwhelming not only are there eyewitness reports but there is the records of the communication systems that Teri was in touch with actual dialogue that happened hey we are up here we see this are you you guys seeing this on your radar all this stuff is recorded once safely grounded Captain terauchi his co-pilot and flight engineer were immediately interviewed by Alaska Federal Aviation Administration officials and other special agents there's an FAA investigation into this there's lots of documentation uh there's no real hard and fast conclusion about this and so the pilot perhaps out of frustration talks to the media in December 1986 one month after the encounter Captain terauchi contacted Kyoto news and said he believed the mysterious crafts were of extraterrestrial origin the unauthorized statements prompted Japan Airlines officials to remove captain terauchi from Pilot Duty and assign him to a desk job a around the same time John Callahan the faa's division chief of the accidents and investigations Branch learned of the incident and deemed it worthy of Investigation John Callahan went to DC about this and there was a meeting that was chaired by one of the top people of the FAA this meeting was also attended by representatives of the FBI representatives of the CIA and representatives of President Reagan's White House they had audio tapes that were played between the pilot and air traffic control describing everything that was happening and written reports and at the end of the meeting one of the CIA uh agents stood up and said this meeting never happened and we're confiscating all of the data that has been shared here now a Callahan use a little slide but he was within his rights they never asked me he said if I had a copy of any of this myself he said which I did he had a copy of the audio recordings if nothing else and a little over a decade later shared that with the public John Callahan came away with the feeling that there was essentially a kind of coverup the FAA didn't want the fact that this incident had occurred to get out I've spoken to pilots who have seen amazing things out there but never reported because of the fear of being disbelieved being ridiculed and perhaps being grounded you won't be flying anymore so what did they say most times nothing you have countless commercial and private airline pilots who spend an exorbitant amount of time up in the sky and in my opinion I think think they're the best people to discern what is natural and what is not as far as ancient astronaut theorists are concerned UFO encounters reported by civilian Pilots provide some of the most compelling evidence that there is an extraterrestrial presence in the skies above Earth and according to some Pilots what they've witnessed presents a serious Danger Mexico City Beneath the current day capital of Mexico lie the ruins of the ancient Aztec Metropolis known as tadan the Aztecs dominated much of central Mexico from the 14th to the 16th century ad and tanadon is considered to be their first official settlement an incredibly sophisticated City featuring a grid system of canals and causeways but according to their historical texts the Aztec civilization did not originate here the Aztec say they started from this place up in the north called Chiki moak it was a cave and inside that cave it had seven different caverns and there were said to be seven different tribes and the Aztec say they were part of the seven tribes that came from the seven chambers of chikim moo while Chico moo was once thought to be a mythological Place some scholars believe archaeological evidence suggests that it really did exist and is located at the site of the ancient pyramid complex known today as teot tiaan the place of seven caves we think maybe that has actually been located archaeologically at the site of the main Temple of teoton called the Pyramid of the sun which sits just north of the valley of Mexico underneath it is actually a cave with seven different spots that it extends out into and that's where the Aztecs said their original ancestors came from in the 16th century Spanish chronicler gono deetta recorded the legends of the local native population according to their accounts the Aztec believed that they were fashioned by a group of stranded Gods Within These seven caves Manda wrote an account of Aztec Legend in this report he describes a giant Flint knife land landing on the Earth and the Earth was trembling and shaking as this enormous Flint knife landed then some 1600 Gods disgorged from this thing and they are responsible for launching Aztec civilization the Aztecs talk about the many gods coming down to earth and creating humans they create them out of Bones own Ash and their own blood and they make them somewhat in their own image but they make them specifically so that they will honor them and they will serve them all of a sudden there is a description of a giant Flint knife that descended from the sky and somebody emerged out of it one has to wonder whether or not our ancestors were with witness to a landing of some type of a craft if so then the AED story suggests that at some point in our history extraterrestrials created Mankind and something very strange was going on at teot hukan located just 30 m Northeast of Mexico City the taakan complex encompasses nearly 8 square miles and is dated to the 1st Century ad it is the oldest and most sophisticated city of meso America an area that extends from northern Mexico down through Central America the civilization predated the Maya by at least 100 years at its peak it was said to have supported nearly 100,000 residents it was also the largest city in the entire entire Western Hemisphere prior to the 15th century and served as the major Commerce and religious center for the region the significance of teot wakan cannot be overstated it is the Rome of meso America the things that teot wakan did set the pattern for all other city states after it the central features of the complex are two large pyramids known as the Pyramid of the sun and the Pyramid of the Moon as well as a Temple dedicated to ketle quad The Feathered Serpent these structures stand alongside a thoroughfare referred to as the Avenue of the Dead over 200 smaller buildings platforms and pyramids are found adjacent to the Avenue and there are thousands of living quarters just outside the complex but as incredible as teot wakan is no one knows exactly who built this Metropolis or what happened to its occupants teoton despite its size has no hieroglyphs whatsoever there are other cultures in meso America that were using writing systems there's nothing like that at teot wakan so we don't really have a clear history of what happened at teoton and we can't really find evidence of their rulers we don't know who were the original tacanos we don't know where they came from we do not know how they were able to develop a complete huge complex Citadel in the middle of nowhere and able to sustain thousand of inhabitants we have such a sophisticated site that embodies engineering principles craftsmanship art where did it originate where are the smaller versions of this while we don't find any so we don't have a progression an evolution to show where this came from so we have to ask where did it come from we become conditioned look at these awesome works of stone architecture and think oh primitive people did that and they use primitive methods with primitive technology but we have to rethink the fundamental assumptions and come to a greater and greater level of understanding that the technology required to build these artifacts in fact is greater than anything that they [Music] possessed\", metadata={'source': 'WbWcPypsW90', 'title': 'Ancient Aliens: TOP 10 ALIEN ENCOUNTERS OF 2023 | PART 1', 'description': 'Unknown', 'view_count': 2073928, 'thumbnail_url': 'https://i.ytimg.com/vi/WbWcPypsW90/hq720.jpg', 'publish_date': '2023-12-07 00:00:00', 'length': 1920, 'author': 'HISTORY'})]\n"
          ]
        }
      ],
      "source": [
        "print(result)"
      ]
    },
    {
      "cell_type": "markdown",
      "metadata": {
        "id": "mSIeh9hW1C7l"
      },
      "source": [
        "#**Step 07: YouTube Video Summary**"
      ]
    },
    {
      "cell_type": "code",
      "execution_count": 30,
      "metadata": {
        "id": "nuUbTCLq07Ua"
      },
      "outputs": [],
      "source": [
        "llm=OpenAI(temperature=0.6)"
      ]
    },
    {
      "cell_type": "code",
      "execution_count": 31,
      "metadata": {
        "id": "1B8bfdiB1eci"
      },
      "outputs": [],
      "source": [
        "from langchain.text_splitter import RecursiveCharacterTextSplitter"
      ]
    },
    {
      "cell_type": "code",
      "execution_count": 32,
      "metadata": {
        "id": "6tPixoOO1ofH"
      },
      "outputs": [],
      "source": [
        "text_splitter = RecursiveCharacterTextSplitter(chunk_size=1000, chunk_overlap=200)"
      ]
    },
    {
      "cell_type": "code",
      "execution_count": 33,
      "metadata": {
        "id": "CgCTtRwe12Eq"
      },
      "outputs": [],
      "source": [
        "texts = text_splitter.split_documents(result)"
      ]
    },
    {
      "cell_type": "code",
      "execution_count": 34,
      "metadata": {
        "colab": {
          "base_uri": "https://localhost:8080/"
        },
        "id": "MT4lSbRp2BWi",
        "outputId": "aec113d0-51af-4a5c-80b6-36097cf7549c"
      },
      "outputs": [
        {
          "data": {
            "text/plain": [
              "29"
            ]
          },
          "execution_count": 34,
          "metadata": {},
          "output_type": "execute_result"
        }
      ],
      "source": [
        "len(texts)"
      ]
    },
    {
      "cell_type": "code",
      "execution_count": 35,
      "metadata": {
        "colab": {
          "base_uri": "https://localhost:8080/"
        },
        "id": "b8rlsCLo1714",
        "outputId": "170215d2-218f-46b1-84df-e73136dc74d4"
      },
      "outputs": [
        {
          "data": {
            "text/plain": [
              "Document(page_content=\"zanto Mexico May 3rd 1975 after dropping off passengers at this Seaport town on the Pacific coast pilot Carlos De Los Santos embarks on a return trip to Mexico City in his Piper pa24 commanche the weather conditions are clear and visibility is good as de los Santos cruises at 10,000 ft one hour into the flight he Witnesses something unusual a gray wingless object off the left side of his plane and as he approaches Mexico City he notices basically a small Flying Saucer just above his left wing it's not as large as his aircraft and he's flying a fairly small aircraft and he's like what is this and then he looks over to his right and he sees another one and then he looks ahead of them and there's one coming at him it goes below his aircraft and he feels a bump under his aircraft and he's scared out of his mind anyone would be he then realizes that he's not really in control of his aircraft his aircraft is moving in a way that seems to respond to these objects not to him he goes to move\", metadata={'source': 'WbWcPypsW90', 'title': 'Ancient Aliens: TOP 10 ALIEN ENCOUNTERS OF 2023 | PART 1', 'description': 'Unknown', 'view_count': 2073928, 'thumbnail_url': 'https://i.ytimg.com/vi/WbWcPypsW90/hq720.jpg', 'publish_date': '2023-12-07 00:00:00', 'length': 1920, 'author': 'HISTORY'})"
            ]
          },
          "execution_count": 35,
          "metadata": {},
          "output_type": "execute_result"
        }
      ],
      "source": [
        "texts[0]"
      ]
    },
    {
      "cell_type": "code",
      "execution_count": 36,
      "metadata": {
        "colab": {
          "base_uri": "https://localhost:8080/"
        },
        "id": "5yBPgwYf177l",
        "outputId": "a95f39ea-cde3-480e-a910-24505b4ecfbd"
      },
      "outputs": [
        {
          "data": {
            "text/plain": [
              "Document(page_content=\"out of his mind anyone would be he then realizes that he's not really in control of his aircraft his aircraft is moving in a way that seems to respond to these objects not to him he goes to move the Yoke and the yoke is moving on itself the plane starts climbing to 3,000 M that's the ceiling of the piper if it climbs any further it will stall out he will lose control the plane will fall out of the sky is actually becoming afraid because his cabin's not pressurized you get to a certain altitude he's going to have a hard time breathing the theory is that the UFO that came under the plane took control contr of his plane and the UFO's own magnetic envelope is lifting the plane higher and higher and higher to Los santis is in a panic he's giving Mayday [Music] calls he's telling them there are these unidentified objects at my wing tips and below me and I don't know what to do as the private plane races towards a mountainous area the three uaps disengage from Carlos's plane and Veer off\", metadata={'source': 'WbWcPypsW90', 'title': 'Ancient Aliens: TOP 10 ALIEN ENCOUNTERS OF 2023 | PART 1', 'description': 'Unknown', 'view_count': 2073928, 'thumbnail_url': 'https://i.ytimg.com/vi/WbWcPypsW90/hq720.jpg', 'publish_date': '2023-12-07 00:00:00', 'length': 1920, 'author': 'HISTORY'})"
            ]
          },
          "execution_count": 36,
          "metadata": {},
          "output_type": "execute_result"
        }
      ],
      "source": [
        "texts[1]"
      ]
    },
    {
      "cell_type": "code",
      "execution_count": 37,
      "metadata": {
        "id": "Az4P8pSD1E9m"
      },
      "outputs": [],
      "source": [
        "chain = load_summarize_chain(llm=llm, chain_type = 'map_reduce', verbose=False)"
      ]
    },
    {
      "cell_type": "code",
      "execution_count": 38,
      "metadata": {
        "colab": {
          "base_uri": "https://localhost:8080/",
          "height": 88
        },
        "id": "2B-sQSYZ1KBx",
        "outputId": "5dca1a26-822e-4780-be8f-95ef779ed945"
      },
      "outputs": [
        {
          "data": {
            "text/plain": [
              "\" The passage discusses various UFO sightings and encounters, including a pilot losing control of his plane due to unidentified objects, a Navy pilot's claim of direct contact with an alien named Jrod, and a mysterious encounter with a UFO in Alaska. It also delves into the Aztec legend of a giant knife landing on Earth and the mystery of the ancient city of Teotihuacan. The author challenges our assumptions about primitive technology and suggests a higher level of knowledge and skill in ancient civilizations.\""
            ]
          },
          "execution_count": 38,
          "metadata": {},
          "output_type": "execute_result"
        }
      ],
      "source": [
        "chain.run(texts)"
      ]
    },
    {
      "cell_type": "code",
      "execution_count": 39,
      "metadata": {
        "id": "IE7_82cG1LfC"
      },
      "outputs": [],
      "source": [
        "chain = load_summarize_chain(llm=llm, chain_type = 'map_reduce', verbose=True)"
      ]
    },
    {
      "cell_type": "code",
      "execution_count": 40,
      "metadata": {
        "colab": {
          "base_uri": "https://localhost:8080/",
          "height": 1000
        },
        "id": "q8vHveAj3GX2",
        "outputId": "6dfbd90e-2fe3-4595-874c-cadb47b9fd2d"
      },
      "outputs": [
        {
          "name": "stdout",
          "output_type": "stream",
          "text": [
            "\n",
            "\n",
            "\u001b[1m> Entering new MapReduceDocumentsChain chain...\u001b[0m\n",
            "\n",
            "\n",
            "\u001b[1m> Entering new LLMChain chain...\u001b[0m\n",
            "Prompt after formatting:\n",
            "\u001b[32;1m\u001b[1;3mWrite a concise summary of the following:\n",
            "\n",
            "\n",
            "\"zanto Mexico May 3rd 1975 after dropping off passengers at this Seaport town on the Pacific coast pilot Carlos De Los Santos embarks on a return trip to Mexico City in his Piper pa24 commanche the weather conditions are clear and visibility is good as de los Santos cruises at 10,000 ft one hour into the flight he Witnesses something unusual a gray wingless object off the left side of his plane and as he approaches Mexico City he notices basically a small Flying Saucer just above his left wing it's not as large as his aircraft and he's flying a fairly small aircraft and he's like what is this and then he looks over to his right and he sees another one and then he looks ahead of them and there's one coming at him it goes below his aircraft and he feels a bump under his aircraft and he's scared out of his mind anyone would be he then realizes that he's not really in control of his aircraft his aircraft is moving in a way that seems to respond to these objects not to him he goes to move\"\n",
            "\n",
            "\n",
            "CONCISE SUMMARY:\u001b[0m\n",
            "Prompt after formatting:\n",
            "\u001b[32;1m\u001b[1;3mWrite a concise summary of the following:\n",
            "\n",
            "\n",
            "\"out of his mind anyone would be he then realizes that he's not really in control of his aircraft his aircraft is moving in a way that seems to respond to these objects not to him he goes to move the Yoke and the yoke is moving on itself the plane starts climbing to 3,000 M that's the ceiling of the piper if it climbs any further it will stall out he will lose control the plane will fall out of the sky is actually becoming afraid because his cabin's not pressurized you get to a certain altitude he's going to have a hard time breathing the theory is that the UFO that came under the plane took control contr of his plane and the UFO's own magnetic envelope is lifting the plane higher and higher and higher to Los santis is in a panic he's giving Mayday [Music] calls he's telling them there are these unidentified objects at my wing tips and below me and I don't know what to do as the private plane races towards a mountainous area the three uaps disengage from Carlos's plane and Veer off\"\n",
            "\n",
            "\n",
            "CONCISE SUMMARY:\u001b[0m\n",
            "Prompt after formatting:\n",
            "\u001b[32;1m\u001b[1;3mWrite a concise summary of the following:\n",
            "\n",
            "\n",
            "\"are these unidentified objects at my wing tips and below me and I don't know what to do as the private plane races towards a mountainous area the three uaps disengage from Carlos's plane and Veer off toward the mount poata pedal volcano at lightning speed as the objects disappear from sight Carlos regains control of the plane but he quickly realizes his ordeal isn't over you can't initiate his landing gear because of the impact that one of these objects made on his aircraft he has to circle around the airport uh about 10 times and he uses a screwdriver to push the lever to get his uh landing gear to come down and he successfully lands his aircraft it's kind of an amazing thing there so he lands his aircraft and the story doesn't end here now he would have had his whole career reputation ruined probably with this except for the fact that Mexican Air Traffic Control tracked these objects also and this came out to support him this story became a huge news story in Mexico didn't really\"\n",
            "\n",
            "\n",
            "CONCISE SUMMARY:\u001b[0m\n",
            "Prompt after formatting:\n",
            "\u001b[32;1m\u001b[1;3mWrite a concise summary of the following:\n",
            "\n",
            "\n",
            "\"ruined probably with this except for the fact that Mexican Air Traffic Control tracked these objects also and this came out to support him this story became a huge news story in Mexico didn't really make much impact in the United States but it was a very big story in Mexico years later de los Santos revealed that in the aftermath of the event he was twice approached by mysterious figures warning him not to speak about his experience the first occasion was just before he was scheduled to be interviewed by a Mexican television station the second happened when de los Santos was sent to meet with the famous UFO investigator Jay Allen heinik heinik was into the case a lot of people were following this case and just before he was going to meet with hinek at some Hotel he gets another encounter from um one of these men in black these tall pasty white-skinned guys who warned him don't talk about this he was threatened and he did actually stop talking about this for a little while after that\"\n",
            "\n",
            "\n",
            "CONCISE SUMMARY:\u001b[0m\n",
            "\n",
            "\u001b[1m> Finished chain.\u001b[0m\n",
            "\n",
            "\n",
            "\u001b[1m> Entering new LLMChain chain...\u001b[0m\n",
            "Prompt after formatting:\n",
            "\u001b[32;1m\u001b[1;3mWrite a concise summary of the following:\n",
            "\n",
            "\n",
            "\"\n",
            "\n",
            "On May 3rd, 1975, pilot Carlos De Los Santos was returning from a trip to a Seaport town on the Pacific coast in his Piper pa24 Comanche. While flying at 10,000 ft, he witnessed an unusual gray wingless object and noticed a small flying saucer near his left wing. As he approached Mexico City, he saw another saucer and felt a bump under his aircraft. He realized he was not in control of his plane, which seemed to respond to the objects rather than his commands. He was scared and unable to move.\n",
            "\n",
            " The pilot realizes he is not in control of his aircraft as it responds to unidentified objects. The yoke moves on its own and the plane starts climbing to a dangerous altitude. The pilot becomes afraid as the plane's cabin is not pressurized. It is theorized that a UFO has taken control of the plane and is lifting it higher. The pilot sends out distress calls as the UFOs disengage and fly away.\n",
            "\n",
            " While flying a private plane, Carlos encounters unidentified objects which cause him to lose control and head towards a mountainous area. The objects then disengage and disappear, but Carlos is unable to initiate his landing gear due to damage caused by one of the objects. After circling the airport and using a screwdriver to manually release the gear, Carlos successfully lands. The incident gains media attention in Mexico and is supported by Mexican Air Traffic Control.\n",
            "\n",
            " Mexican Air Traffic Control tracked unidentified objects, supporting a man's story about a UFO encounter. The story gained significant attention in Mexico, but not in the United States. Years later, the man was warned twice by mysterious figures not to speak about his experience, causing him to stop talking about it for a period of time.\"\n",
            "\n",
            "\n",
            "CONCISE SUMMARY:\u001b[0m\n",
            "\n",
            "\u001b[1m> Finished chain.\u001b[0m\n",
            "\n",
            "\u001b[1m> Finished chain.\u001b[0m\n"
          ]
        },
        {
          "data": {
            "text/plain": [
              "'\\n\\nA pilot flying in Mexico in 1975 encounters unidentified objects that take control of his plane, causing him to lose control and nearly crash. He is able to manually release the landing gear and safely land, but is warned not to speak about the incident. The story gains attention in Mexico but not in the United States.'"
            ]
          },
          "execution_count": 40,
          "metadata": {},
          "output_type": "execute_result"
        }
      ],
      "source": [
        "chain.run(texts[:4])"
      ]
    },
    {
      "cell_type": "markdown",
      "metadata": {
        "id": "P-YivsX53d2g"
      },
      "source": [
        "#**Step 08: Multiple YouTube Videos | Generate a Summary**"
      ]
    },
    {
      "cell_type": "code",
      "execution_count": 41,
      "metadata": {
        "id": "hEZl3mdo3IvP"
      },
      "outputs": [],
      "source": [
        "youtube_url_list = [\"https://www.youtube.com/watch?v=WbWcPypsW90\", \"https://www.youtube.com/watch?v=b-3RhyfYk58\"]"
      ]
    },
    {
      "cell_type": "code",
      "execution_count": 42,
      "metadata": {
        "id": "cVR0bHFe3k3Z"
      },
      "outputs": [],
      "source": [
        "text = []\n",
        "\n",
        "text_splitter = RecursiveCharacterTextSplitter(chunk_size=1000, chunk_overlap = 200)\n",
        "\n",
        "\n",
        "for url in youtube_url_list:\n",
        "  loader = YoutubeLoader.from_youtube_url(url, add_video_info=True)\n",
        "  result=loader.load()\n",
        "  text.extend(text_splitter.split_documents(result))"
      ]
    },
    {
      "cell_type": "code",
      "execution_count": 43,
      "metadata": {
        "colab": {
          "base_uri": "https://localhost:8080/"
        },
        "id": "cQcrn7M24RX1",
        "outputId": "26f4164d-62f2-4710-f13d-6dbe7c5880cd"
      },
      "outputs": [
        {
          "data": {
            "text/plain": [
              "53"
            ]
          },
          "execution_count": 43,
          "metadata": {},
          "output_type": "execute_result"
        }
      ],
      "source": [
        "len(text)"
      ]
    },
    {
      "cell_type": "code",
      "execution_count": 44,
      "metadata": {
        "id": "QN961SEd4bri"
      },
      "outputs": [],
      "source": [
        "llm = OpenAI(temperature=0.6)"
      ]
    },
    {
      "cell_type": "code",
      "execution_count": 47,
      "metadata": {
        "id": "NIxHI5rF4gGo"
      },
      "outputs": [],
      "source": [
        "chain = load_summarize_chain(llm=llm, chain_type = 'map_reduce', verbose=True)"
      ]
    },
    {
      "cell_type": "code",
      "execution_count": 48,
      "metadata": {
        "colab": {
          "base_uri": "https://localhost:8080/",
          "height": 70
        },
        "id": "WVXWUqQL4iwJ",
        "outputId": "72b0a889-8deb-4804-ae5f-b5e8bbd83709"
      },
      "outputs": [
        {
          "name": "stdout",
          "output_type": "stream",
          "text": [
            "\n",
            "\n",
            "\u001b[1m> Entering new MapReduceDocumentsChain chain...\u001b[0m\n",
            "\n",
            "\n",
            "\u001b[1m> Entering new LLMChain chain...\u001b[0m\n",
            "Prompt after formatting:\n",
            "\u001b[32;1m\u001b[1;3mWrite a concise summary of the following:\n",
            "\n",
            "\n",
            "\"zanto Mexico May 3rd 1975 after dropping off passengers at this Seaport town on the Pacific coast pilot Carlos De Los Santos embarks on a return trip to Mexico City in his Piper pa24 commanche the weather conditions are clear and visibility is good as de los Santos cruises at 10,000 ft one hour into the flight he Witnesses something unusual a gray wingless object off the left side of his plane and as he approaches Mexico City he notices basically a small Flying Saucer just above his left wing it's not as large as his aircraft and he's flying a fairly small aircraft and he's like what is this and then he looks over to his right and he sees another one and then he looks ahead of them and there's one coming at him it goes below his aircraft and he feels a bump under his aircraft and he's scared out of his mind anyone would be he then realizes that he's not really in control of his aircraft his aircraft is moving in a way that seems to respond to these objects not to him he goes to move\"\n",
            "\n",
            "\n",
            "CONCISE SUMMARY:\u001b[0m\n",
            "Prompt after formatting:\n",
            "\u001b[32;1m\u001b[1;3mWrite a concise summary of the following:\n",
            "\n",
            "\n",
            "\"out of his mind anyone would be he then realizes that he's not really in control of his aircraft his aircraft is moving in a way that seems to respond to these objects not to him he goes to move the Yoke and the yoke is moving on itself the plane starts climbing to 3,000 M that's the ceiling of the piper if it climbs any further it will stall out he will lose control the plane will fall out of the sky is actually becoming afraid because his cabin's not pressurized you get to a certain altitude he's going to have a hard time breathing the theory is that the UFO that came under the plane took control contr of his plane and the UFO's own magnetic envelope is lifting the plane higher and higher and higher to Los santis is in a panic he's giving Mayday [Music] calls he's telling them there are these unidentified objects at my wing tips and below me and I don't know what to do as the private plane races towards a mountainous area the three uaps disengage from Carlos's plane and Veer off\"\n",
            "\n",
            "\n",
            "CONCISE SUMMARY:\u001b[0m\n",
            "Prompt after formatting:\n",
            "\u001b[32;1m\u001b[1;3mWrite a concise summary of the following:\n",
            "\n",
            "\n",
            "\"are these unidentified objects at my wing tips and below me and I don't know what to do as the private plane races towards a mountainous area the three uaps disengage from Carlos's plane and Veer off toward the mount poata pedal volcano at lightning speed as the objects disappear from sight Carlos regains control of the plane but he quickly realizes his ordeal isn't over you can't initiate his landing gear because of the impact that one of these objects made on his aircraft he has to circle around the airport uh about 10 times and he uses a screwdriver to push the lever to get his uh landing gear to come down and he successfully lands his aircraft it's kind of an amazing thing there so he lands his aircraft and the story doesn't end here now he would have had his whole career reputation ruined probably with this except for the fact that Mexican Air Traffic Control tracked these objects also and this came out to support him this story became a huge news story in Mexico didn't really\"\n",
            "\n",
            "\n",
            "CONCISE SUMMARY:\u001b[0m\n",
            "Prompt after formatting:\n",
            "\u001b[32;1m\u001b[1;3mWrite a concise summary of the following:\n",
            "\n",
            "\n",
            "\"ruined probably with this except for the fact that Mexican Air Traffic Control tracked these objects also and this came out to support him this story became a huge news story in Mexico didn't really make much impact in the United States but it was a very big story in Mexico years later de los Santos revealed that in the aftermath of the event he was twice approached by mysterious figures warning him not to speak about his experience the first occasion was just before he was scheduled to be interviewed by a Mexican television station the second happened when de los Santos was sent to meet with the famous UFO investigator Jay Allen heinik heinik was into the case a lot of people were following this case and just before he was going to meet with hinek at some Hotel he gets another encounter from um one of these men in black these tall pasty white-skinned guys who warned him don't talk about this he was threatened and he did actually stop talking about this for a little while after that\"\n",
            "\n",
            "\n",
            "CONCISE SUMMARY:\u001b[0m\n",
            "Prompt after formatting:\n",
            "\u001b[32;1m\u001b[1;3mWrite a concise summary of the following:\n",
            "\n",
            "\n",
            "\"from um one of these men in black these tall pasty white-skinned guys who warned him don't talk about this he was threatened and he did actually stop talking about this for a little while after that but as time went by he he he's talked about it it's just one of the most incredible Aviation UAP stories that you're ever going to hear and he got out of it alive pilot Carlos De Los Santos ultimately emerged from his her hering midair encounter unscathed but similar confrontations between civilian planes and UFOs have led to tragic consequences including injuries crashes and even loss of [Applause] life yaka flat Nevada May 19th 1953 at 5:05 a.m. one of a series of nuclear tests under the umbrella Cod named upshot knole is set [Music] off within seconds of the blast a disc-shaped object is seen rapidly descending from the sky headed South toward Las Vegas then disappearing into the mountains just 2 days after this event government officials secretly gathered a team of scientists for a\"\n",
            "\n",
            "\n",
            "CONCISE SUMMARY:\u001b[0m\n",
            "Prompt after formatting:\n",
            "\u001b[32;1m\u001b[1;3mWrite a concise summary of the following:\n",
            "\n",
            "\n",
            "\"seen rapidly descending from the sky headed South toward Las Vegas then disappearing into the mountains just 2 days after this event government officials secretly gathered a team of scientists for a curious assignment they were to to investigate the crash of an unidentified flying object on the outskirts of Kingman Arizona a city 175 Mi south of the nuclear test site there were 40 Engineers that boarded a bus and they took a long 3 and 1 half hour ride from Phoenix to Kingman when they got there it was nighttime there were MPS on all corners of the craft it's about a 40ft diam dis shaped craft that was perfectly intact there wasn't a scratch on it there were four beings associated with this craft and they shipped it to groom Lake Groom Lake is the area 51 region in Nevada when Area 51 was just Bare Bones they took the craft and the aliens out to that location in the middle of the Nevada desert because it was so remote and around that they build Area 51 hidden within a ring of\"\n",
            "\n",
            "\n",
            "CONCISE SUMMARY:\u001b[0m\n",
            "Prompt after formatting:\n",
            "\u001b[32;1m\u001b[1;3mWrite a concise summary of the following:\n",
            "\n",
            "\n",
            "\"51 was just Bare Bones they took the craft and the aliens out to that location in the middle of the Nevada desert because it was so remote and around that they build Area 51 hidden within a ring of mountains deep in the Nevada desert Area 51 is a top secret military installation that has long been rumored to hold evidence of alien technology and there are even stories that a special facility at Area 51 once held a survivor of the 1953 Kingman UFO crash an alien entity known as jrod jrod is an alien who allegedly work worked at Area 51 over a period of years and it was jrod's mission or duty to help reverse engineer technology that was apparently from the 1953 Kingman UFO crash jrod was one of the crash survivors and worked directly with our own government Captain Bill U house a former Navy pilot who later worked for the US Air Force performing experimental testing on aircraft was assigned to Area 51 in the mid 1960s and he claims that he not only studied the craft that allegedly\"\n",
            "\n",
            "\n",
            "CONCISE SUMMARY:\u001b[0m\n",
            "Prompt after formatting:\n",
            "\u001b[32;1m\u001b[1;3mWrite a concise summary of the following:\n",
            "\n",
            "\n",
            "\"Navy pilot who later worked for the US Air Force performing experimental testing on aircraft was assigned to Area 51 in the mid 1960s and he claims that he not only studied the craft that allegedly crashed in Kingman Arizona but also had Direct contact with jrod we had a long period of introduction into meeting you know an alien and I I called him jrod that's the name that the linguist gave him and he talked he would talk but he'd sound just like if you spoke he'd sound like you you know he he's like one of the you parrot but but he'd try and answer your question you know basically it was only engineering advice or science advice there's also another whistleblower by the name of Dan beish and Dan beish said that he was hired as a microbiologist to basically care for jrod ensuring that he remained healthy and uh this went on for years and years and years according to Dan beish and Bill U house jrod was housed in a special underground chamber at Area 51 and there have been numerous\"\n",
            "\n",
            "\n",
            "CONCISE SUMMARY:\u001b[0m\n",
            "Prompt after formatting:\n",
            "\u001b[32;1m\u001b[1;3mWrite a concise summary of the following:\n",
            "\n",
            "\n",
            "\"he remained healthy and uh this went on for years and years and years according to Dan beish and Bill U house jrod was housed in a special underground chamber at Area 51 and there have been numerous other accounts of extraterrestrials working with the United States government there's a lot of stories that we worked with the aliens at Area 51 or uh some say at a base nearby kind of in the desert out there and we've been working with them in underground labs and they have been sharing information for us to enhance our Technologies is it possible that the United States government has met with and worked with entities like jron and other alien visitors since at least the 1950s according to UFO researchers there is evidence that extraterrestrials have not only been held at secret military bases but have even met face to face with the commander-in-chief inside the walls of the [Applause] Pentagon pilot Theo Chesley has reported one of the most significant and credible UFO sightings in\"\n",
            "\n",
            "\n",
            "CONCISE SUMMARY:\u001b[0m\n",
            "Prompt after formatting:\n",
            "\u001b[32;1m\u001b[1;3mWrite a concise summary of the following:\n",
            "\n",
            "\n",
            "\"bases but have even met face to face with the commander-in-chief inside the walls of the [Applause] Pentagon pilot Theo Chesley has reported one of the most significant and credible UFO sightings in recent Alaskan history the incident caught the attention of author and researcher David chras who traveled to Anchorage to meet with Chanley and examined the evidence of his heroine encounter hi Theo hi David nice to meet you nice to meet you I understand you have a very interesting story to tell well I do and it happened right here in this aircraft you've been flying here for quite a few years right yeah about 35 years so when was this first occurrence well uh we had a flight back in October 2019 we were Northeast of the mountain now we were probably 30 m from the mountain we spotted something in the sky and this is what we saw did it seem to have a a cloud around it or no it had like a tail on it a little bit of a wisp coming out of the back so I'm looking at it going okay what is that\"\n",
            "\n",
            "\n",
            "CONCISE SUMMARY:\u001b[0m\n",
            "Prompt after formatting:\n",
            "\u001b[32;1m\u001b[1;3mWrite a concise summary of the following:\n",
            "\n",
            "\n",
            "\"in the sky and this is what we saw did it seem to have a a cloud around it or no it had like a tail on it a little bit of a wisp coming out of the back so I'm looking at it going okay what is that as we started to come towards the mountain and fly by it this horizontal disc turned vertical and came over and sort of parked by the mountain and held it shape so it had been moving and then it stopped it stopped by the volcano so I'm like looking at going okay if this is a smoke ring it's not going to hold its shape it's not going to stop it's going to dissipate it held its shape the whole time and had you ever seen anything like this before uh i' been flying well 35 years and 15,000 hours of flighttime uh most of them in Alaska and I had never seen anything like this then we had something fly out of the Mountain uh now the mountain a second object a second object so this object flies out of the mountain and at the same time we're still watching the the sphere that's vertically parked and\"\n",
            "\n",
            "\n",
            "CONCISE SUMMARY:\u001b[0m\n",
            "Prompt after formatting:\n",
            "\u001b[32;1m\u001b[1;3mWrite a concise summary of the following:\n",
            "\n",
            "\n",
            "\"out of the Mountain uh now the mountain a second object a second object so this object flies out of the mountain and at the same time we're still watching the the sphere that's vertically parked and it's like it's right over here matter of fact I'll show you another picture here that kind of just puts it all together okay okay so then this appeared on the side of the mountain this green orb shows up on the side of the mountain in a lower spot the next picture we take this is what happened to the vertical sphere in the sky something flew inside of it and pulled it out of shape you see these two little I don't know there's like two little wings out there and we like looked at that and I said no we're done here we're we are leaving the scene here and to be honest uh you know my concern level was going about through the roof at that point did it seem like a very large object then this is a big mountain and this was something that caught our eye 40 to 50 mil away okay that's it's like 40\"\n",
            "\n",
            "\n",
            "CONCISE SUMMARY:\u001b[0m\n",
            "Prompt after formatting:\n",
            "\u001b[32;1m\u001b[1;3mWrite a concise summary of the following:\n",
            "\n",
            "\n",
            "\"was going about through the roof at that point did it seem like a very large object then this is a big mountain and this was something that caught our eye 40 to 50 mil away okay that's it's like 40 50 mil away so this had to be almost I want to guess half a mile wide wow that's fascinating and you know when it comes to UFO type objects around volcanoes that's a common thing one of the first modern UFO sightings on record involved an entire Squadron of vehicles that appeared to enter a volcano on June 24th 1947 Kenneth Arnold was flying his private plane near Mount reneer in Washington when he witnessed nine disc-shaped objects move at an impossible speed across the Horizon then disappear into a nearby volcano called Mount Adams there has been a lot of UFO sightings around volcanoes and we've seen this in the Canary Islands in Mexico in South America you have other places like say Mount Shasta and we're seeing it in Hawaii too where UFOs are seen and there's a lot of activity I mean it\"\n",
            "\n",
            "\n",
            "CONCISE SUMMARY:\u001b[0m\n",
            "Prompt after formatting:\n",
            "\u001b[32;1m\u001b[1;3mWrite a concise summary of the following:\n",
            "\n",
            "\n",
            "\"seen this in the Canary Islands in Mexico in South America you have other places like say Mount Shasta and we're seeing it in Hawaii too where UFOs are seen and there's a lot of activity I mean it definitely makes you wonder okay what's in this volcano what is the attraction here and the crazy thing is is uh this was just the first occurrence we had a second occurrence okay 6 months later I'm by myself in a different aircraft and uh I looked out of my left window and all of a sudden there is a huge cloud formation that came out of nowhere and that's right kind of above the volcano above and east of the mountain but I've never seen anything like this in my life it was a clear sky without anything and suddenly you saw this well you saw the picture the that picture that I took clear sky was a minute before this decided to sh so the crazy part is this Cloud morphed into several different shapes there looks like something black inside there an object underneath this thing yeah during the\"\n",
            "\n",
            "\n",
            "CONCISE SUMMARY:\u001b[0m\n",
            "Prompt after formatting:\n",
            "\u001b[32;1m\u001b[1;3mWrite a concise summary of the following:\n",
            "\n",
            "\n",
            "\"a minute before this decided to sh so the crazy part is this Cloud morphed into several different shapes there looks like something black inside there an object underneath this thing yeah during the occurrence uh I had the aircraft on autopilot and the aircraft was flying straight and my rot of flight took me back by the mountain again as I'm coming back I have the aircraft on autopilot and I look down and I noticed I'm 35° off course heading towards the mountain I shut the autopilot off reset the heading set the airplane back up on of course and okay yeah we're fine and I'm looking around again trying to see if there's anything and I look down we're heading back towards the mountain again it happened two times so at that point I go oh no this something's not right here I'm going to hand fly the aircraft and worked fine uh hand flying the airplane but I've never had that happened to me on an autopilot just pulled the aircraft you know start pulling the aircraft somewhere where it's\"\n",
            "\n",
            "\n",
            "CONCISE SUMMARY:\u001b[0m\n",
            "Prompt after formatting:\n",
            "\u001b[32;1m\u001b[1;3mWrite a concise summary of the following:\n",
            "\n",
            "\n",
            "\"fly the aircraft and worked fine uh hand flying the airplane but I've never had that happened to me on an autopilot just pulled the aircraft you know start pulling the aircraft somewhere where it's not supposed to me so the autopilot then was somehow sensing some weird magnetic thing and pulling you then exactly something internally in the aircraft was feeling a magnetic pole this sounds a lot like other things that have happened like say in the Berita triangle or something like where their instruments do go Haywire or they're being taken off you know course without even knowing it and suddenly they vanish right very much so to me this is very important story I'm so glad that you've been able to get these good photographs you've got other Witnesses and for 70 years there have been planes Vanishing even military planes this all fits so squarely into the mystery which is Alaska Alaska November 17th 1986 Japan Airlines flight 1628 is carrying cargo from Paris France to Narita\"\n",
            "\n",
            "\n",
            "CONCISE SUMMARY:\u001b[0m\n",
            "Prompt after formatting:\n",
            "\u001b[32;1m\u001b[1;3mWrite a concise summary of the following:\n",
            "\n",
            "\n",
            "\"planes Vanishing even military planes this all fits so squarely into the mystery which is Alaska Alaska November 17th 1986 Japan Airlines flight 1628 is carrying cargo from Paris France to Narita international airport near Tokyo the threers crew is led by Captain kenju terauchi an exf fighter pilot with over 10,000 hours of flight time as the 747 approaches Anchorage Captain terauchi notices two strange lights out of his cockpit window it's dark it's uh very early morning Before Sunrise the these lights are clearly maneuvering they are in relationship to each other one is on top of the other and they move directly in front of his aircraft now he's flying at about 500 mph these things are pacing him Captain terauchi realizes the lights are strange oval-shaped flying objects and they're getting dangerously close to his aircraft as bright lights fill the cockpit Captain terauchi radios the Anchorage Air Traffic Control Center and asks if they can identify the objects nearest [Applause]\"\n",
            "\n",
            "\n",
            "CONCISE SUMMARY:\u001b[0m\n",
            "Prompt after formatting:\n",
            "\u001b[32;1m\u001b[1;3mWrite a concise summary of the following:\n",
            "\n",
            "\n",
            "\"dangerously close to his aircraft as bright lights fill the cockpit Captain terauchi radios the Anchorage Air Traffic Control Center and asks if they can identify the objects nearest [Applause] plane we not we as terrai attempts a series of evasive maneuvers to avoid a potential Collision the two UFOs suddenly disappear in their place is another object one so large it dwarfs the 747 his words for describing it were gigantic spaceship the size of maybe two aircraft carriers just immense terauchi sees his massive thing in the sky and he's scared concerned by Captain Tera uchi's report the air traffic controller calls NORAD the North American Aerospace Defense command based at at Elmendorf Air Force Base in Anchorage communication specialists at the airbase confirm that there is a very large unidentified object on their radar screens traffic control told them that they could actually take whatever evasive actions they needed to to avoid collision and they even dropped down to 4,000 ft\"\n",
            "\n",
            "\n",
            "CONCISE SUMMARY:\u001b[0m\n",
            "Prompt after formatting:\n",
            "\u001b[32;1m\u001b[1;3mWrite a concise summary of the following:\n",
            "\n",
            "\n",
            "\"unidentified object on their radar screens traffic control told them that they could actually take whatever evasive actions they needed to to avoid collision and they even dropped down to 4,000 ft above sea level and the thing continued to follow them Air Traffic Control diverted another commercial flight to come look at this UFO and by the time they got there UFO was completely gone one of the reasons why the Jal report is such a big deal is because the corroborating evidence is overwhelming not only are there eyewitness reports but there is the records of the communication systems that Teri was in touch with actual dialogue that happened hey we are up here we see this are you you guys seeing this on your radar all this stuff is recorded once safely grounded Captain terauchi his co-pilot and flight engineer were immediately interviewed by Alaska Federal Aviation Administration officials and other special agents there's an FAA investigation into this there's lots of documentation uh\"\n",
            "\n",
            "\n",
            "CONCISE SUMMARY:\u001b[0m\n",
            "Prompt after formatting:\n",
            "\u001b[32;1m\u001b[1;3mWrite a concise summary of the following:\n",
            "\n",
            "\n",
            "\"and flight engineer were immediately interviewed by Alaska Federal Aviation Administration officials and other special agents there's an FAA investigation into this there's lots of documentation uh there's no real hard and fast conclusion about this and so the pilot perhaps out of frustration talks to the media in December 1986 one month after the encounter Captain terauchi contacted Kyoto news and said he believed the mysterious crafts were of extraterrestrial origin the unauthorized statements prompted Japan Airlines officials to remove captain terauchi from Pilot Duty and assign him to a desk job a around the same time John Callahan the faa's division chief of the accidents and investigations Branch learned of the incident and deemed it worthy of Investigation John Callahan went to DC about this and there was a meeting that was chaired by one of the top people of the FAA this meeting was also attended by representatives of the FBI representatives of the CIA and representatives of\"\n",
            "\n",
            "\n",
            "CONCISE SUMMARY:\u001b[0m\n",
            "Prompt after formatting:\n",
            "\u001b[32;1m\u001b[1;3mWrite a concise summary of the following:\n",
            "\n",
            "\n",
            "\"about this and there was a meeting that was chaired by one of the top people of the FAA this meeting was also attended by representatives of the FBI representatives of the CIA and representatives of President Reagan's White House they had audio tapes that were played between the pilot and air traffic control describing everything that was happening and written reports and at the end of the meeting one of the CIA uh agents stood up and said this meeting never happened and we're confiscating all of the data that has been shared here now a Callahan use a little slide but he was within his rights they never asked me he said if I had a copy of any of this myself he said which I did he had a copy of the audio recordings if nothing else and a little over a decade later shared that with the public John Callahan came away with the feeling that there was essentially a kind of coverup the FAA didn't want the fact that this incident had occurred to get out I've spoken to pilots who have seen\"\n",
            "\n",
            "\n",
            "CONCISE SUMMARY:\u001b[0m\n",
            "Prompt after formatting:\n",
            "\u001b[32;1m\u001b[1;3mWrite a concise summary of the following:\n",
            "\n",
            "\n",
            "\"John Callahan came away with the feeling that there was essentially a kind of coverup the FAA didn't want the fact that this incident had occurred to get out I've spoken to pilots who have seen amazing things out there but never reported because of the fear of being disbelieved being ridiculed and perhaps being grounded you won't be flying anymore so what did they say most times nothing you have countless commercial and private airline pilots who spend an exorbitant amount of time up in the sky and in my opinion I think think they're the best people to discern what is natural and what is not as far as ancient astronaut theorists are concerned UFO encounters reported by civilian Pilots provide some of the most compelling evidence that there is an extraterrestrial presence in the skies above Earth and according to some Pilots what they've witnessed presents a serious Danger Mexico City Beneath the current day capital of Mexico lie the ruins of the ancient Aztec Metropolis known as tadan\"\n",
            "\n",
            "\n",
            "CONCISE SUMMARY:\u001b[0m\n",
            "Prompt after formatting:\n",
            "\u001b[32;1m\u001b[1;3mWrite a concise summary of the following:\n",
            "\n",
            "\n",
            "\"Earth and according to some Pilots what they've witnessed presents a serious Danger Mexico City Beneath the current day capital of Mexico lie the ruins of the ancient Aztec Metropolis known as tadan the Aztecs dominated much of central Mexico from the 14th to the 16th century ad and tanadon is considered to be their first official settlement an incredibly sophisticated City featuring a grid system of canals and causeways but according to their historical texts the Aztec civilization did not originate here the Aztec say they started from this place up in the north called Chiki moak it was a cave and inside that cave it had seven different caverns and there were said to be seven different tribes and the Aztec say they were part of the seven tribes that came from the seven chambers of chikim moo while Chico moo was once thought to be a mythological Place some scholars believe archaeological evidence suggests that it really did exist and is located at the site of the ancient pyramid\"\n",
            "\n",
            "\n",
            "CONCISE SUMMARY:\u001b[0m\n",
            "Prompt after formatting:\n",
            "\u001b[32;1m\u001b[1;3mWrite a concise summary of the following:\n",
            "\n",
            "\n",
            "\"moo while Chico moo was once thought to be a mythological Place some scholars believe archaeological evidence suggests that it really did exist and is located at the site of the ancient pyramid complex known today as teot tiaan the place of seven caves we think maybe that has actually been located archaeologically at the site of the main Temple of teoton called the Pyramid of the sun which sits just north of the valley of Mexico underneath it is actually a cave with seven different spots that it extends out into and that's where the Aztecs said their original ancestors came from in the 16th century Spanish chronicler gono deetta recorded the legends of the local native population according to their accounts the Aztec believed that they were fashioned by a group of stranded Gods Within These seven caves Manda wrote an account of Aztec Legend in this report he describes a giant Flint knife land landing on the Earth and the Earth was trembling and shaking as this enormous Flint knife\"\n",
            "\n",
            "\n",
            "CONCISE SUMMARY:\u001b[0m\n",
            "Prompt after formatting:\n",
            "\u001b[32;1m\u001b[1;3mWrite a concise summary of the following:\n",
            "\n",
            "\n",
            "\"These seven caves Manda wrote an account of Aztec Legend in this report he describes a giant Flint knife land landing on the Earth and the Earth was trembling and shaking as this enormous Flint knife landed then some 1600 Gods disgorged from this thing and they are responsible for launching Aztec civilization the Aztecs talk about the many gods coming down to earth and creating humans they create them out of Bones own Ash and their own blood and they make them somewhat in their own image but they make them specifically so that they will honor them and they will serve them all of a sudden there is a description of a giant Flint knife that descended from the sky and somebody emerged out of it one has to wonder whether or not our ancestors were with witness to a landing of some type of a craft if so then the AED story suggests that at some point in our history extraterrestrials created Mankind and something very strange was going on at teot hukan located just 30 m Northeast of Mexico\"\n",
            "\n",
            "\n",
            "CONCISE SUMMARY:\u001b[0m\n",
            "Prompt after formatting:\n",
            "\u001b[32;1m\u001b[1;3mWrite a concise summary of the following:\n",
            "\n",
            "\n",
            "\"craft if so then the AED story suggests that at some point in our history extraterrestrials created Mankind and something very strange was going on at teot hukan located just 30 m Northeast of Mexico City the taakan complex encompasses nearly 8 square miles and is dated to the 1st Century ad it is the oldest and most sophisticated city of meso America an area that extends from northern Mexico down through Central America the civilization predated the Maya by at least 100 years at its peak it was said to have supported nearly 100,000 residents it was also the largest city in the entire entire Western Hemisphere prior to the 15th century and served as the major Commerce and religious center for the region the significance of teot wakan cannot be overstated it is the Rome of meso America the things that teot wakan did set the pattern for all other city states after it the central features of the complex are two large pyramids known as the Pyramid of the sun and the Pyramid of the Moon as\"\n",
            "\n",
            "\n",
            "CONCISE SUMMARY:\u001b[0m\n",
            "Prompt after formatting:\n",
            "\u001b[32;1m\u001b[1;3mWrite a concise summary of the following:\n",
            "\n",
            "\n",
            "\"things that teot wakan did set the pattern for all other city states after it the central features of the complex are two large pyramids known as the Pyramid of the sun and the Pyramid of the Moon as well as a Temple dedicated to ketle quad The Feathered Serpent these structures stand alongside a thoroughfare referred to as the Avenue of the Dead over 200 smaller buildings platforms and pyramids are found adjacent to the Avenue and there are thousands of living quarters just outside the complex but as incredible as teot wakan is no one knows exactly who built this Metropolis or what happened to its occupants teoton despite its size has no hieroglyphs whatsoever there are other cultures in meso America that were using writing systems there's nothing like that at teot wakan so we don't really have a clear history of what happened at teoton and we can't really find evidence of their rulers we don't know who were the original tacanos we don't know where they came from we do not know how\"\n",
            "\n",
            "\n",
            "CONCISE SUMMARY:\u001b[0m\n",
            "Prompt after formatting:\n",
            "\u001b[32;1m\u001b[1;3mWrite a concise summary of the following:\n",
            "\n",
            "\n",
            "\"have a clear history of what happened at teoton and we can't really find evidence of their rulers we don't know who were the original tacanos we don't know where they came from we do not know how they were able to develop a complete huge complex Citadel in the middle of nowhere and able to sustain thousand of inhabitants we have such a sophisticated site that embodies engineering principles craftsmanship art where did it originate where are the smaller versions of this while we don't find any so we don't have a progression an evolution to show where this came from so we have to ask where did it come from we become conditioned look at these awesome works of stone architecture and think oh primitive people did that and they use primitive methods with primitive technology but we have to rethink the fundamental assumptions and come to a greater and greater level of understanding that the technology required to build these artifacts in fact is greater than anything that they [Music]\"\n",
            "\n",
            "\n",
            "CONCISE SUMMARY:\u001b[0m\n",
            "Prompt after formatting:\n",
            "\u001b[32;1m\u001b[1;3mWrite a concise summary of the following:\n",
            "\n",
            "\n",
            "\"rethink the fundamental assumptions and come to a greater and greater level of understanding that the technology required to build these artifacts in fact is greater than anything that they [Music] possessed\"\n",
            "\n",
            "\n",
            "CONCISE SUMMARY:\u001b[0m\n",
            "\n",
            "\u001b[1m> Finished chain.\u001b[0m\n",
            "\n",
            "\n",
            "\u001b[1m> Entering new LLMChain chain...\u001b[0m\n",
            "Prompt after formatting:\n",
            "\u001b[32;1m\u001b[1;3mWrite a concise summary of the following:\n",
            "\n",
            "\n",
            "\"\n",
            "\n",
            "On May 3rd 1975, pilot Carlos De Los Santos witnessed an unusual gray, wingless object while flying at 10,000 ft on his return trip from a seaport town on the Pacific coast to Mexico City. He then saw a small flying saucer above his left wing and another one approaching from the right. As one passed below his aircraft, he felt a bump and realized his aircraft was being controlled by these objects. He was scared and unable to control his aircraft.\n",
            "\n",
            "\n",
            "\n",
            "A pilot realizes he is not in control of his aircraft as it responds to unidentified objects. The plane starts climbing and the pilot becomes afraid due to lack of pressurization. It is suspected that a UFO has taken control of the plane and is causing it to climb higher. The pilot sends out distress calls as the UFOs disengage and fly away.\n",
            "\n",
            "\n",
            "\n",
            "A private plane experiences a close encounter with three unidentified objects, causing the pilot to lose control and struggle to land the aircraft. The incident gains media attention and is supported by Mexican Air Traffic Control.\n",
            "\n",
            " \n",
            "\n",
            "A Mexican man's story about being tracked by Mexican Air Traffic Control while witnessing unidentified objects became a major news story in Mexico but was not widely reported in the United States. Years later, the man revealed that he was warned by mysterious figures not to speak about the incident, leading him to stop talking about it for a period of time.\n",
            "\n",
            "\n",
            "\n",
            "A pilot named Carlos De Los Santos encountered a UFO in the sky and was threatened by mysterious men in black to not talk about it. Despite this, he eventually shared his incredible story. Similar encounters have led to tragic consequences, including injuries and crashes. In 1953, during a nuclear test, a disc-shaped object was seen descending from the sky before disappearing into the mountains. The government secretly gathered a team of scientists to investigate.\n",
            "\n",
            "\n",
            "\n",
            "A mysterious unidentified flying object crashed near Kingman, Arizona, prompting government officials to secretly gather a team of scientists to investigate. The craft was found to be intact and was transported to Area 51 in Nevada, where a hidden facility was built around it.\n",
            "\n",
            "\n",
            "\n",
            "Area 51 is a top secret military installation located in the remote Nevada desert. It is rumored to hold evidence of alien technology, including a survivor from the 1953 Kingman UFO crash named jrod. Captain Bill Uhouse, a former Navy pilot, worked at Area 51 in the 1960s and claims to have studied and tested the alien craft.\n",
            "\n",
            " A former Navy pilot who worked for the US Air Force in the 1960s claims to have had direct contact with an alien named Jrod while stationed at Area 51. He was joined by another whistleblower, a microbiologist named Dan Beish, who was responsible for caring for Jrod's health. The alien was housed in a special underground chamber at the secretive military base.\n",
            "\n",
            " According to UFO researchers, there is evidence that the United States government has been working with extraterrestrial beings, including a specific entity named Jron, since the 1950s. This has allegedly taken place at secret military bases like Area 51, where the aliens have shared information to enhance technology. There are also claims that the commander-in-chief has met with extraterrestrial beings inside the Pentagon. A pilot named Theo Chesley has reported a significant and credible UFO sighting. \n",
            "\n",
            "\n",
            "\n",
            "A pilot named Theo Chesley reported a UFO sighting while flying near a mountain in Alaska in October 2019. Author and researcher David Chras met with Chesley to examine the evidence of the encounter. The sighting caught the attention of the commander-in-chief and took place inside the Pentagon. Chesley has been a pilot for 35 years and described seeing a strange object with a tail in the sky. \n",
            "\n",
            " An experienced pilot in Alaska witnessed a mysterious object in the sky that initially appeared to have a cloud or tail, but then turned into a horizontal disc and stopped near a mountain. Despite the pilot's 35 years and 15,000 hours of flight experience, they had never seen anything like this before. Another object then flew out of the mountain while the first object remained parked in the air. \n",
            "\n",
            " A green orb appeared on the side of a mountain while a sphere was parked vertically in the sky. The sphere was then pulled out of shape by another object flying inside of it. The witnesses left the scene and were concerned about the size of the objects, which were seen from a distance of 40-50 miles.\n",
            "\n",
            " The passage discusses various sightings of UFOs near volcanoes, including the first modern sighting in 1947 by Kenneth Arnold near Mount Rainier in Washington. There have been numerous sightings of UFOs near volcanoes around the world, including the Canary Islands, Mexico, South America, Mount Shasta, and Hawaii. These sightings have sparked interest and speculation about potential extraterrestrial activity.\n",
            "\n",
            "\n",
            "\n",
            "The speaker has witnessed UFO activity in various locations, including the Canary Islands, Mexico, and Hawaii. They were particularly intrigued by a sighting near a volcano where a cloud suddenly formed and transformed into different shapes. They also had a second occurrence six months later.\n",
            "\n",
            " The speaker experienced their aircraft veering off course twice while on autopilot due to a mysterious cloud that changed shapes and had an object inside. They had to manually fly the aircraft to avoid the mountain. This was a new experience for them.\n",
            "\n",
            " A pilot recounts a strange experience with his aircraft's autopilot, which seemed to be affected by a magnetic force. This event reminds him of other mysterious disappearances in the past and he is grateful for the evidence and witnesses to support this story. The incident occurred on November 17th, 1986 on a Japan Airlines flight from Paris to Narita.\n",
            "\n",
            " On November 17th, 1986, a Japan Airlines flight carrying cargo from Paris to Tokyo noticed two strange oval-shaped flying objects approaching their aircraft near Anchorage, Alaska. The captain, an experienced fighter pilot, reported the incident to air traffic control as the objects continued to pace the aircraft. The event remains a mystery.\n",
            "\n",
            " Captain Terauchi radios the air traffic control center to report two unidentified objects near his aircraft. He attempts evasive maneuvers but the objects disappear and are replaced by a massive spaceship. The air traffic controller calls NORAD for confirmation and they advise Terauchi to take evasive actions. They also drop to a lower altitude to avoid collision.\n",
            "\n",
            "\n",
            "\n",
            "A commercial flight reported an unidentified object on their radar screens and took evasive actions to avoid collision. Air Traffic Control diverted another flight to investigate, but the UFO had disappeared by the time they arrived. The incident is significant because of the overwhelming evidence, including eyewitness reports and recorded communication between the flight crew and Air Traffic Control. The crew was interviewed by authorities and an FAA investigation is ongoing.\n",
            "\n",
            " In 1986, a Japan Airlines pilot and flight engineer were interviewed by Alaska Federal Aviation Administration officials and other agents after reporting a mysterious encounter with crafts believed to be of extraterrestrial origin. The pilot's unauthorized statements to the media led to his removal from pilot duty and an investigation by the FAA, FBI, and CIA. The incident caught the attention of John Callahan, the FAA's division chief of accidents and investigations, who brought it to the attention of top officials.\n",
            "\n",
            " Top officials from the FAA, FBI, CIA, and the White House held a meeting with audio tapes and written reports about an incident. A CIA agent later claimed the meeting never happened and confiscated the data. A decade later, one attendee shared the audio recordings, leading to suspicions of a cover-up by the FAA. \n",
            "\n",
            " John Callahan believes there is a coverup by the FAA regarding UFO sightings and pilots often do not report these sightings due to fear of ridicule and losing their jobs. However, many pilots have witnessed unexplainable events in the sky, providing evidence for the existence of extraterrestrial beings. Some pilots have reported dangerous encounters with UFOs, and the ruins of an ancient Aztec city, Tadan, lie beneath modern-day Mexico City.\n",
            "\n",
            " Mexico City is built on the ruins of the ancient Aztec city of Tadan, which was a highly advanced civilization with a grid system of canals and causeways. However, the Aztecs believe they originated from a cave called Chikim Moo in the north, which is now thought to be a real location based on archaeological evidence. It is believed that the Aztecs were one of seven tribes that emerged from the seven chambers of Chikim Moo.\n",
            "\n",
            "\n",
            "\n",
            "Some scholars believe that the mythological place of Moo while Chico Moo may have actually existed at the site of the ancient pyramid complex Teot Tiaan, known as the Place of Seven Caves. Archaeological evidence suggests that the Pyramid of the Sun, located north of the valley of Mexico, may be the main temple of Teot Tiaan and the site of the seven caves. According to Aztec legend recorded in the 16th century, the Aztecs believed they were created by stranded gods within these caves. The legend also describes a giant Flint knife landing on Earth, causing the Earth to tremble and shake.\n",
            "\n",
            "\n",
            "\n",
            "The report describes an Aztec legend about a giant Flint knife landing on Earth and 1600 Gods emerging from it, leading to the creation of humans. This suggests that extraterrestrials may have played a role in the history of mankind. The report also mentions strange occurrences at Teotihuacan, located near Mexico.\n",
            "\n",
            "\n",
            "The AED story suggests that extraterrestrials created mankind and something strange happened at Teotihuacan, an 8 square mile complex near Mexico City dating back to 1st century AD. It was the oldest and most advanced city in Mesoamerica, pre-dating the Maya by 100 years and supporting 100,000 residents. It was also the largest city in the Western Hemisphere before the 15th century and served as a major center for commerce and religion. Teotihuacan's significance cannot be overstated and its features, such as the Pyramid of the Sun and the Pyramid of the Moon, set the pattern for other city-states that followed. \n",
            "\n",
            "\n",
            "\n",
            "Teotihuacan was an ancient city state that set the standard for other city states. It featured two large pyramids, a temple dedicated to the Feathered Serpent, and a thoroughfare called the Avenue of the Dead. There were also over 200 smaller buildings and thousands of living quarters. Despite its size, no one knows who built it or what happened to its inhabitants. Teotihuacan did not have any hieroglyphs, making it difficult to uncover its history or identify its rulers. The origins and fate of the people who lived there remain a mystery.\n",
            "\n",
            "\n",
            "\n",
            "The history of Teotihuacan is unclear and there is no evidence of its rulers or the original Tlaxcalans. The development of the city and its complex structures is a mystery, as there are no smaller versions of it found. This challenges the assumption that the people were primitive and used primitive technology. Further understanding of the technology used is necessary.\n",
            "\n",
            "\n",
            "\n",
            "The technology needed to create certain artifacts is more advanced than what was previously thought by reevaluating basic assumptions.\"\n",
            "\n",
            "\n",
            "CONCISE SUMMARY:\u001b[0m\n",
            "\n",
            "\u001b[1m> Finished chain.\u001b[0m\n",
            "\n",
            "\u001b[1m> Finished chain.\u001b[0m\n"
          ]
        },
        {
          "data": {
            "text/plain": [
              "'\\n\\nA pilot witnesses a UFO controlling his aircraft, leading to media attention and speculation about government involvement with extraterrestrial beings. Witnesses and evidence suggest these sightings are not uncommon, and there is a possible cover-up by the FAA. The ancient Aztec city of Teotihuacan and its advanced structures add to the mystery of our history and the potential involvement of extraterrestrial beings. Reevaluating assumptions about ancient technology may provide further understanding.'"
            ]
          },
          "execution_count": 48,
          "metadata": {},
          "output_type": "execute_result"
        }
      ],
      "source": [
        "chain.run(texts)"
      ]
    },
    {
      "cell_type": "code",
      "execution_count": null,
      "metadata": {
        "id": "O_VzS6a14loN"
      },
      "outputs": [],
      "source": []
    }
  ],
  "metadata": {
    "colab": {
      "provenance": []
    },
    "kernelspec": {
      "display_name": "Python 3",
      "name": "python3"
    },
    "language_info": {
      "codemirror_mode": {
        "name": "ipython",
        "version": 3
      },
      "file_extension": ".py",
      "mimetype": "text/x-python",
      "name": "python",
      "nbconvert_exporter": "python",
      "pygments_lexer": "ipython3",
      "version": "3.10.11"
    }
  },
  "nbformat": 4,
  "nbformat_minor": 0
}
