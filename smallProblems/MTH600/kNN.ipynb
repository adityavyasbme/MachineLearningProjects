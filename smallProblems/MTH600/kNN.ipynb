{
 "cells": [
  {
   "cell_type": "code",
   "execution_count": 4,
   "metadata": {},
   "outputs": [
    {
     "name": "stdout",
     "output_type": "stream",
     "text": [
      "Collecting openpyxl\n",
      "  Downloading openpyxl-3.1.2-py2.py3-none-any.whl (249 kB)\n",
      "\u001b[2K     \u001b[90m━━━━━━━━━━━━━━━━━━━━━━━━━━━━━━━━━━━━━\u001b[0m \u001b[32m250.0/250.0 kB\u001b[0m \u001b[31m184.9 kB/s\u001b[0m eta \u001b[36m0:00:00\u001b[0m00:01\u001b[0m00:01\u001b[0m\n",
      "\u001b[?25hCollecting et-xmlfile (from openpyxl)\n",
      "  Downloading et_xmlfile-1.1.0-py3-none-any.whl (4.7 kB)\n",
      "Installing collected packages: et-xmlfile, openpyxl\n",
      "Successfully installed et-xmlfile-1.1.0 openpyxl-3.1.2\n",
      "\n",
      "\u001b[1m[\u001b[0m\u001b[34;49mnotice\u001b[0m\u001b[1;39;49m]\u001b[0m\u001b[39;49m A new release of pip is available: \u001b[0m\u001b[31;49m23.3\u001b[0m\u001b[39;49m -> \u001b[0m\u001b[32;49m23.3.1\u001b[0m\n",
      "\u001b[1m[\u001b[0m\u001b[34;49mnotice\u001b[0m\u001b[1;39;49m]\u001b[0m\u001b[39;49m To update, run: \u001b[0m\u001b[32;49mpip install --upgrade pip\u001b[0m\n",
      "Note: you may need to restart the kernel to use updated packages.\n"
     ]
    }
   ],
   "source": [
    "pip install openpyxl"
   ]
  },
  {
   "cell_type": "code",
   "execution_count": 2,
   "metadata": {},
   "outputs": [],
   "source": [
    "import numpy as np \n",
    "import pandas as pd \n",
    "from sklearn.model_selection import train_test_split \n",
    "from sklearn.neighbors import KNeighborsClassifier \n",
    "import matplotlib.pyplot as plt  \n",
    "import seaborn as sns "
   ]
  },
  {
   "cell_type": "code",
   "execution_count": 8,
   "metadata": {},
   "outputs": [
    {
     "name": "stdout",
     "output_type": "stream",
     "text": [
      "The total length of data is 42 and after removing NA the number of rows is 40\n"
     ]
    }
   ],
   "source": [
    "df = pd.read_excel('kNNData.xlsx') \n",
    "tot_len = len(df)\n",
    "df = df.dropna()\n",
    "print(f\"The total length of data is {tot_len} and after removing NA the number of rows is {len(df)}\")"
   ]
  },
  {
   "cell_type": "code",
   "execution_count": 12,
   "metadata": {},
   "outputs": [],
   "source": [
    "y = df['UpGrade'] \n",
    "X = df.drop('UpGrade', axis = 1)"
   ]
  },
  {
   "cell_type": "code",
   "execution_count": 13,
   "metadata": {},
   "outputs": [],
   "source": [
    "K = [] \n",
    "training = [] \n",
    "test = [] \n",
    "scores = {} \n",
    "  \n",
    "for k in range(2, 21): \n",
    "    clf = KNeighborsClassifier(n_neighbors = k) \n",
    "    clf.fit(X, y) \n",
    "  \n",
    "    training_score = clf.score(X, y) \n",
    "    test_score = clf.score(X, y) \n",
    "    K.append(k) \n",
    "  \n",
    "    training.append(training_score) \n",
    "    test.append(test_score) \n",
    "    scores[k] = [training_score, test_score] \n"
   ]
  },
  {
   "cell_type": "code",
   "execution_count": 14,
   "metadata": {},
   "outputs": [
    {
     "name": "stdout",
     "output_type": "stream",
     "text": [
      "2 : [0.825, 0.825]\n",
      "3 : [0.9, 0.9]\n",
      "4 : [0.85, 0.85]\n",
      "5 : [0.875, 0.875]\n",
      "6 : [0.85, 0.85]\n",
      "7 : [0.875, 0.875]\n",
      "8 : [0.85, 0.85]\n",
      "9 : [0.825, 0.825]\n",
      "10 : [0.85, 0.85]\n",
      "11 : [0.85, 0.85]\n",
      "12 : [0.85, 0.85]\n",
      "13 : [0.825, 0.825]\n",
      "14 : [0.825, 0.825]\n",
      "15 : [0.825, 0.825]\n",
      "16 : [0.8, 0.8]\n",
      "17 : [0.8, 0.8]\n",
      "18 : [0.825, 0.825]\n",
      "19 : [0.8, 0.8]\n",
      "20 : [0.825, 0.825]\n"
     ]
    }
   ],
   "source": [
    "for keys, values in scores.items(): \n",
    "    print(keys, ':', values) "
   ]
  },
  {
   "cell_type": "code",
   "execution_count": 20,
   "metadata": {},
   "outputs": [
    {
     "data": {
      "image/png": "[encoded data removed]",
      "text/plain": [
       "<Figure size 640x480 with 1 Axes>"
      ]
     },
     "metadata": {},
     "output_type": "display_data"
    }
   ],
   "source": [
    "ax = sns.stripplot(x=K, y=training)\n",
    "ax.set(xlabel ='values of k', ylabel ='Training Score')   \n",
    "  \n",
    "plt.show()"
   ]
  },
  {
   "cell_type": "code",
   "execution_count": 31,
   "metadata": {},
   "outputs": [
    {
     "name": "stdout",
     "output_type": "stream",
     "text": [
      "[[18  3]\n",
      " [ 1 18]]\n",
      "Accuracy: 0.9\n"
     ]
    }
   ],
   "source": [
    "clf = KNeighborsClassifier(n_neighbors = 3) \n",
    "clf.fit(X, y) \n",
    "\n",
    "preds = clf.predict(X) \n",
    "from sklearn.metrics import confusion_matrix, accuracy_score\n",
    "print(confusion_matrix(y, preds))\n",
    "\n",
    "accuracy = accuracy_score(y, preds)\n",
    "print(\"Accuracy:\", accuracy)"
   ]
  },
  {
   "cell_type": "code",
   "execution_count": 30,
   "metadata": {},
   "outputs": [
    {
     "name": "stdout",
     "output_type": "stream",
     "text": [
      "[[18  3]\n",
      " [ 2 17]]\n",
      "Accuracy: 0.875\n"
     ]
    }
   ],
   "source": [
    "clf = KNeighborsClassifier(n_neighbors = 5) \n",
    "clf.fit(X, y) \n",
    "\n",
    "preds = clf.predict(X) \n",
    "from sklearn.metrics import confusion_matrix, accuracy_score\n",
    "print(confusion_matrix(y, preds))\n",
    "\n",
    "accuracy = accuracy_score(y, preds)\n",
    "print(\"Accuracy:\", accuracy)"
   ]
  },
  {
   "cell_type": "code",
   "execution_count": null,
   "metadata": {},
   "outputs": [],
   "source": []
  }
 ],
 "metadata": {
  "kernelspec": {
   "display_name": ".venv",
   "language": "python",
   "name": "python3"
  },
  "language_info": {
   "codemirror_mode": {
    "name": "ipython",
    "version": 3
   },
   "file_extension": ".py",
   "mimetype": "text/x-python",
   "name": "python",
   "nbconvert_exporter": "python",
   "pygments_lexer": "ipython3",
   "version": "3.11.4"
  }
 },
 "nbformat": 4,
 "nbformat_minor": 2
}
